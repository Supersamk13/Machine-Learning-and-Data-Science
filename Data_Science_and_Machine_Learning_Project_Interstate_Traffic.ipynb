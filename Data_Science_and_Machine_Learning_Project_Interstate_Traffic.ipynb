{
  "nbformat": 4,
  "nbformat_minor": 0,
  "metadata": {
    "colab": {
      "provenance": [],
      "authorship_tag": "ABX9TyNtqGOZoYix6pYpQwf7Yx7b",
      "include_colab_link": true
    },
    "kernelspec": {
      "name": "python3",
      "display_name": "Python 3"
    },
    "language_info": {
      "name": "python"
    }
  },
  "cells": [
    {
      "cell_type": "markdown",
      "metadata": {
        "id": "view-in-github",
        "colab_type": "text"
      },
      "source": [
        "<a href=\"https://colab.research.google.com/github/Supersamk13/Machine-Learning-and-Data-Science/blob/main/Data_Science_and_Machine_Learning_Project_Interstate_Traffic.ipynb\" target=\"_parent\"><img src=\"https://colab.research.google.com/assets/colab-badge.svg\" alt=\"Open In Colab\"/></a>"
      ]
    },
    {
      "cell_type": "markdown",
      "source": [
        "# Introduction\n",
        "\n",
        "Hello, my name is Samuel Kinstlinger. Over the past couple years I have been working on growing my skillset is the fields of data science and machine learing. This is a project I completed early on in my endeavor to practice data cleaning, data preprocessing, data visualization, and implementing regression models. I will be using a data set from Kaggle that gives information on the weather, date and time, and traffic volume. For each choice I made working on this project, I did many hours of research, implemented/tested multiple solutions, and chose the best option. I only left in the final decisions for the purpose of concision. I also did testing after each logical section, but deleting the basic testing for the final version."
      ],
      "metadata": {
        "id": "iz_FyyVeRcAF"
      }
    },
    {
      "cell_type": "markdown",
      "source": [
        "### Goals\n",
        "* Answer important questions about interstate traffic and the underlying related factors\n",
        "* Implement and tune machine learning models to best predict interstate traffic volume"
      ],
      "metadata": {
        "id": "2SIDXVsVSJo-"
      }
    },
    {
      "cell_type": "markdown",
      "source": [
        "### Outline\n",
        "* Getting to Know the Data\n",
        "* Treatment/Analysis of Outliers and Missing Data\n",
        "* Feature Engineering\n",
        "* EDA\n",
        "* Data Cleaning and Transformations\n",
        "* Imbalanced Data Analysis/Treatment\n",
        "* Dimensionality Reduction Analysis/Treatment + Machine Learning\n",
        "* Conclusion"
      ],
      "metadata": {
        "id": "gVVQ6lMRTG9e"
      }
    },
    {
      "cell_type": "code",
      "source": [
        "# Import modules/libraries\n",
        "import numpy as np\n",
        "import pandas as pd\n",
        "import seaborn as sns\n",
        "import matplotlib.pyplot as plt\n",
        "from scipy import stats\n",
        "from datetime import datetime\n",
        "from imblearn.combine import SMOTEENN\n",
        "from imblearn.under_sampling import EditedNearestNeighbours\n",
        "from imblearn.over_sampling import SMOTE\n",
        "%matplotlib inline"
      ],
      "metadata": {
        "id": "vK9cu4zUI04A"
      },
      "execution_count": 359,
      "outputs": []
    },
    {
      "cell_type": "code",
      "source": [
        "# Set up data frame\n",
        "url='https://github.com/Supersamk13/Machine-Learning-and-Data-Science/raw/main/Metro_Interstate_Traffic_Volume%5B1%5D.csv'\n",
        "traffic_df=pd.read_csv(url)"
      ],
      "metadata": {
        "id": "rWfVobREQdvQ"
      },
      "execution_count": 360,
      "outputs": []
    },
    {
      "cell_type": "markdown",
      "source": [
        "# Getting to Know the Data\n",
        "* Understanding feature data types and information"
      ],
      "metadata": {
        "id": "eVmpwKKuUQNO"
      }
    },
    {
      "cell_type": "code",
      "source": [
        "# Getting to Know the Data\n",
        "print(traffic_df.head())\n",
        "print(traffic_df.tail())"
      ],
      "metadata": {
        "colab": {
          "base_uri": "https://localhost:8080/"
        },
        "id": "LDHveF25Tmh9",
        "outputId": "fd4c2c17-8a34-430d-cfa4-3d050ddf1b9a"
      },
      "execution_count": 361,
      "outputs": [
        {
          "output_type": "stream",
          "name": "stdout",
          "text": [
            "  holiday    temp  rain_1h  snow_1h  clouds_all weather_main  \\\n",
            "0    None  288.28      0.0      0.0          40       Clouds   \n",
            "1    None  289.36      0.0      0.0          75       Clouds   \n",
            "2    None  289.58      0.0      0.0          90       Clouds   \n",
            "3    None  290.13      0.0      0.0          90       Clouds   \n",
            "4    None  291.14      0.0      0.0          75       Clouds   \n",
            "\n",
            "  weather_description            date_time  traffic_volume  \n",
            "0    scattered clouds  2012-10-02 09:00:00            5545  \n",
            "1       broken clouds  2012-10-02 10:00:00            4516  \n",
            "2     overcast clouds  2012-10-02 11:00:00            4767  \n",
            "3     overcast clouds  2012-10-02 12:00:00            5026  \n",
            "4       broken clouds  2012-10-02 13:00:00            4918  \n",
            "      holiday    temp  rain_1h  snow_1h  clouds_all  weather_main  \\\n",
            "48199    None  283.45      0.0      0.0          75        Clouds   \n",
            "48200    None  282.76      0.0      0.0          90        Clouds   \n",
            "48201    None  282.73      0.0      0.0          90  Thunderstorm   \n",
            "48202    None  282.09      0.0      0.0          90        Clouds   \n",
            "48203    None  282.12      0.0      0.0          90        Clouds   \n",
            "\n",
            "          weather_description            date_time  traffic_volume  \n",
            "48199           broken clouds  2018-09-30 19:00:00            3543  \n",
            "48200         overcast clouds  2018-09-30 20:00:00            2781  \n",
            "48201  proximity thunderstorm  2018-09-30 21:00:00            2159  \n",
            "48202         overcast clouds  2018-09-30 22:00:00            1450  \n",
            "48203         overcast clouds  2018-09-30 23:00:00             954  \n"
          ]
        }
      ]
    },
    {
      "cell_type": "code",
      "source": [
        "print(traffic_df.info())"
      ],
      "metadata": {
        "colab": {
          "base_uri": "https://localhost:8080/"
        },
        "id": "5oEvlRoETzOk",
        "outputId": "32b0eedf-8801-4791-8d6c-f3a88447fe50"
      },
      "execution_count": 362,
      "outputs": [
        {
          "output_type": "stream",
          "name": "stdout",
          "text": [
            "<class 'pandas.core.frame.DataFrame'>\n",
            "RangeIndex: 48204 entries, 0 to 48203\n",
            "Data columns (total 9 columns):\n",
            " #   Column               Non-Null Count  Dtype  \n",
            "---  ------               --------------  -----  \n",
            " 0   holiday              48204 non-null  object \n",
            " 1   temp                 48204 non-null  float64\n",
            " 2   rain_1h              48204 non-null  float64\n",
            " 3   snow_1h              48204 non-null  float64\n",
            " 4   clouds_all           48204 non-null  int64  \n",
            " 5   weather_main         48204 non-null  object \n",
            " 6   weather_description  48204 non-null  object \n",
            " 7   date_time            48204 non-null  object \n",
            " 8   traffic_volume       48204 non-null  int64  \n",
            "dtypes: float64(3), int64(2), object(4)\n",
            "memory usage: 3.3+ MB\n",
            "None\n"
          ]
        }
      ]
    },
    {
      "cell_type": "markdown",
      "source": [
        "* All data is non-null; no need to fill or remove missing values\n",
        "* If there were missing data, I would either remove it if it was negligible or do some KNN imputation to fill it in otherwise (or a superior model)"
      ],
      "metadata": {
        "id": "9aSVn2rOeMDi"
      }
    },
    {
      "cell_type": "code",
      "source": [
        "for index in range(traffic_df.shape[1]):\n",
        "  print(traffic_df.columns[index])\n",
        "  print(traffic_df.iloc[:,index].unique())"
      ],
      "metadata": {
        "colab": {
          "base_uri": "https://localhost:8080/"
        },
        "id": "yuZ43Bp6UAQn",
        "outputId": "e79bc50e-0f99-47b0-b57e-f1a30bf124cb"
      },
      "execution_count": 363,
      "outputs": [
        {
          "output_type": "stream",
          "name": "stdout",
          "text": [
            "holiday\n",
            "['None' 'Columbus Day' 'Veterans Day' 'Thanksgiving Day' 'Christmas Day'\n",
            " 'New Years Day' 'Washingtons Birthday' 'Memorial Day' 'Independence Day'\n",
            " 'State Fair' 'Labor Day' 'Martin Luther King Jr Day']\n",
            "temp\n",
            "[288.28 289.36 289.58 ... 306.08 304.41 304.9 ]\n",
            "rain_1h\n",
            "[0.0000e+00 2.5000e-01 5.7000e-01 3.8000e-01 3.0000e-01 2.9000e-01\n",
            " 4.4000e-01 3.6000e-01 2.1600e+00 3.3900e+00 8.4000e-01 7.6000e-01\n",
            " 5.1000e-01 6.9000e-01 1.0000e+00 1.2900e+00 1.3400e+00 1.8400e+00\n",
            " 1.7000e+00 4.7000e-01 1.4100e+00 1.4400e+00 7.0000e-01 3.1800e+00\n",
            " 6.1000e-01 6.4000e-01 1.0200e+00 5.4200e+00 8.6400e+00 5.7400e+00\n",
            " 4.9800e+00 3.6500e+00 6.8000e-01 4.6000e-01 4.2000e-01 1.5200e+00\n",
            " 8.9000e-01 1.4000e+00 1.2190e+01 2.2900e+00 7.5400e+00 6.9400e+00\n",
            " 1.6380e+01 1.7800e+00 2.5400e+00 9.1400e+00 3.0500e+00 1.6500e+00\n",
            " 4.4450e+01 3.8100e+00 5.8400e+00 3.5600e+00 7.3700e+00 1.3500e+00\n",
            " 1.6000e+01 1.0540e+01 1.2700e+00 5.0800e+00 1.9900e+01 2.5320e+01\n",
            " 2.1420e+01 5.5900e+00 7.1100e+00 5.9700e+00 9.5300e+00 2.0300e+00\n",
            " 5.5630e+01 1.3210e+01 6.6000e+00 5.6000e-01 3.2000e-01 2.3700e+00\n",
            " 3.9800e+00 4.3200e+00 1.9600e+00 1.6800e+00 4.3900e+00 4.2700e+00\n",
            " 1.6600e+00 3.4000e-01 3.5000e-01 1.3900e+00 1.8000e+00 9.1000e-01\n",
            " 1.2100e+00 1.1300e+00 1.0900e+00 5.3000e-01 9.7000e-01 8.5000e-01\n",
            " 1.8800e+01 2.8700e+01 1.4730e+01 4.1000e-01 7.9000e-01 1.0600e+00\n",
            " 9.5000e-01 1.0700e+00 3.7000e-01 8.3000e-01 7.2000e-01 6.7000e-01\n",
            " 1.9100e+00 5.4000e-01 4.8000e-01 4.0000e-01 3.1000e-01 2.8000e-01\n",
            " 2.6000e-01 9.4000e-01 2.0500e+00 1.8700e+00 1.1400e+00 5.9000e-01\n",
            " 5.2000e-01 7.1000e-01 5.8000e-01 6.0000e-01 2.7000e-01 3.3000e-01\n",
            " 1.1100e+00 2.1300e+00 2.1000e+00 1.6300e+00 1.3800e+00 9.6000e-01\n",
            " 8.1000e-01 1.0800e+00 1.7100e+00 2.3500e+00 1.8600e+00 2.1100e+00\n",
            " 2.8600e+00 2.5300e+00 2.8500e+00 2.2100e+00 1.3000e+00 9.2000e-01\n",
            " 1.2000e+00 8.0000e-01 7.8000e-01 8.8000e-01 6.6000e-01 6.2000e-01\n",
            " 9.0000e-01 4.3000e-01 1.1200e+00 1.4600e+00 1.2200e+00 1.0500e+00\n",
            " 2.2200e+00 6.5000e-01 2.3100e+00 3.1700e+00 2.1400e+00 2.3400e+00\n",
            " 1.6100e+00 1.5000e+00 2.6700e+00 5.5800e+00 5.1100e+00 5.1000e+00\n",
            " 4.5300e+00 1.2500e+00 4.5000e+00 3.4700e+00 5.5000e-01 4.5000e-01\n",
            " 2.1800e+00 1.3200e+00 2.8400e+00 3.4100e+00 2.9300e+00 2.8700e+00\n",
            " 2.8000e+00 7.4000e-01 6.3500e+00 4.2900e+00 1.2400e+00 8.7000e-01\n",
            " 7.3900e+00 3.1900e+00 1.8300e+00 2.7900e+00 9.8000e-01 5.0000e-01\n",
            " 7.7000e-01 2.9800e+00 4.7600e+00 4.8900e+00 9.3000e-01 1.2800e+00\n",
            " 4.4500e+00 5.2700e+00 1.1580e+01 7.0200e+00 3.0800e+00 1.9800e+00\n",
            " 1.4700e+00 1.0400e+00 1.3300e+00 4.6600e+00 2.0800e+00 2.2000e+00\n",
            " 3.1200e+00 1.5300e+00 1.8500e+00 3.2500e+00 1.9000e+00 1.2450e+01\n",
            " 2.4100e+00 1.3700e+00 5.4600e+00 2.7800e+00 1.3100e+00 3.4400e+00\n",
            " 2.7500e+00 2.1900e+00 1.5500e+00 1.5900e+00 5.7300e+00 5.9300e+00\n",
            " 6.8900e+00 3.9100e+00 1.8030e+01 4.4300e+00 3.9000e+00 6.4500e+00\n",
            " 5.0200e+00 4.0900e+00 1.7600e+00 1.1900e+00 2.7000e+00 7.7700e+00\n",
            " 4.2100e+00 1.8800e+00 1.7200e+00 1.1000e+00 3.0100e+00 2.1200e+00\n",
            " 8.4000e+00 4.8000e+00 9.9000e+00 6.1000e+00 4.1800e+00 8.6000e-01\n",
            " 1.4900e+00 8.8900e+00 7.3000e-01 1.1590e+01 2.3300e+00 9.4000e+00\n",
            " 3.2000e+00 7.9700e+00 2.3800e+01 1.1780e+01 7.5100e+00 1.5410e+01\n",
            " 3.1300e+00 2.1500e+00 4.5700e+00 9.9100e+00 2.7570e+01 7.2900e+00\n",
            " 1.1500e+00 1.3640e+01 7.2500e+00 5.2500e+00 2.9100e+00 8.0200e+00\n",
            " 2.0240e+01 1.3320e+01 5.5200e+00 1.2700e+01 4.3800e+00 1.0300e+00\n",
            " 3.5400e+00 5.8600e+00 7.8700e+00 6.4700e+00 2.6100e+00 1.6700e+00\n",
            " 1.5600e+00 8.0400e+00 2.5460e+01 3.0900e+00 1.9300e+00 1.5100e+00\n",
            " 3.7400e+00 7.7200e+00 4.6400e+00 2.4900e+00 5.0400e+00 5.9200e+00\n",
            " 5.3600e+00 2.3800e+00 6.3000e-01 3.2800e+00 4.0400e+00 2.6200e+00\n",
            " 3.3000e+00 3.8600e+00 5.6900e+00 2.0600e+00 1.0670e+01 6.0100e+00\n",
            " 2.4000e+00 1.6000e+00 4.0600e+00 5.2100e+00 4.7000e+00 2.9600e+00\n",
            " 1.6900e+00 1.0920e+01 2.6800e+00 1.0050e+01 7.7000e+00 4.0500e+00\n",
            " 3.8000e+00 7.6200e+00 6.4800e+00 9.8313e+03 1.1230e+01 9.4200e+00\n",
            " 1.3460e+01 5.8900e+00 1.6510e+01 1.2830e+01 1.8420e+01 5.0600e+00\n",
            " 1.9500e+00 9.0000e+00 3.9400e+00 8.8600e+00 5.9900e+00 8.0000e+00\n",
            " 3.1750e+01 5.4100e+00 2.0070e+01 1.0160e+01 9.1500e+00 2.3900e+00\n",
            " 3.2700e+00 4.1500e+00 4.7400e+00 3.7500e+00 2.8300e+00 1.5750e+01\n",
            " 3.6400e+00 7.1300e+00 1.1600e+00 7.0500e+00 2.7300e+00 4.0000e+00\n",
            " 2.7600e+00 2.8800e+00 1.8200e+00 5.6200e+00 3.4000e+00 2.9200e+00\n",
            " 3.1000e+00 2.6000e+00 1.4500e+00 2.2600e+00 3.4500e+00 2.4800e+00\n",
            " 5.1200e+00 1.0100e+00 4.7900e+00 5.1900e+00 9.6200e+00 1.0600e+01]\n",
            "snow_1h\n",
            "[0.   0.51 0.32 0.06 0.05 0.21 0.25 0.44 0.13 0.1  0.17 0.08]\n",
            "clouds_all\n",
            "[ 40  75  90   1  20   0 100  92  99  81  50  72  56  57  93  85  68  87\n",
            "  91  96  48  60   8  38  46  98  86  16   6  59  54  89  78  36  17  58\n",
            "  63  42  25  11  13  83  70  84   3  77  88  67  97  62  32   4   5   2\n",
            "  44  24  76  64  80  12]\n",
            "weather_main\n",
            "['Clouds' 'Clear' 'Rain' 'Drizzle' 'Mist' 'Haze' 'Fog' 'Thunderstorm'\n",
            " 'Snow' 'Squall' 'Smoke']\n",
            "weather_description\n",
            "['scattered clouds' 'broken clouds' 'overcast clouds' 'sky is clear'\n",
            " 'few clouds' 'light rain' 'light intensity drizzle' 'mist' 'haze' 'fog'\n",
            " 'proximity shower rain' 'drizzle' 'moderate rain' 'heavy intensity rain'\n",
            " 'proximity thunderstorm' 'thunderstorm with light rain'\n",
            " 'proximity thunderstorm with rain' 'heavy snow' 'heavy intensity drizzle'\n",
            " 'snow' 'thunderstorm with heavy rain' 'freezing rain' 'shower snow'\n",
            " 'light rain and snow' 'light intensity shower rain' 'SQUALLS'\n",
            " 'thunderstorm with rain' 'proximity thunderstorm with drizzle'\n",
            " 'thunderstorm' 'Sky is Clear' 'very heavy rain'\n",
            " 'thunderstorm with light drizzle' 'light snow'\n",
            " 'thunderstorm with drizzle' 'smoke' 'shower drizzle' 'light shower snow'\n",
            " 'sleet']\n",
            "date_time\n",
            "['2012-10-02 09:00:00' '2012-10-02 10:00:00' '2012-10-02 11:00:00' ...\n",
            " '2018-09-30 21:00:00' '2018-09-30 22:00:00' '2018-09-30 23:00:00']\n",
            "traffic_volume\n",
            "[5545 4516 4767 ... 6623 1207 2346]\n"
          ]
        }
      ]
    },
    {
      "cell_type": "code",
      "source": [
        "# Stats about each numeric feature\n",
        "print(traffic_df.describe())"
      ],
      "metadata": {
        "colab": {
          "base_uri": "https://localhost:8080/"
        },
        "id": "5PTJ50HGeA31",
        "outputId": "6e0dae9e-bd1f-4ed8-d95a-4edbe7830615"
      },
      "execution_count": 364,
      "outputs": [
        {
          "output_type": "stream",
          "name": "stdout",
          "text": [
            "               temp       rain_1h       snow_1h    clouds_all  traffic_volume\n",
            "count  48204.000000  48204.000000  48204.000000  48204.000000    48204.000000\n",
            "mean     281.205870      0.334264      0.000222     49.362231     3259.818355\n",
            "std       13.338232     44.789133      0.008168     39.015750     1986.860670\n",
            "min        0.000000      0.000000      0.000000      0.000000        0.000000\n",
            "25%      272.160000      0.000000      0.000000      1.000000     1193.000000\n",
            "50%      282.450000      0.000000      0.000000     64.000000     3380.000000\n",
            "75%      291.806000      0.000000      0.000000     90.000000     4933.000000\n",
            "max      310.070000   9831.300000      0.510000    100.000000     7280.000000\n"
          ]
        }
      ]
    },
    {
      "cell_type": "code",
      "source": [
        "# Stats about each categorical feature\n",
        "print(traffic_df.describe(include='object'))"
      ],
      "metadata": {
        "colab": {
          "base_uri": "https://localhost:8080/"
        },
        "id": "b1xvCOrZeYZm",
        "outputId": "27a5ec32-751b-4c06-e04c-daf0c4b64218"
      },
      "execution_count": 365,
      "outputs": [
        {
          "output_type": "stream",
          "name": "stdout",
          "text": [
            "       holiday weather_main weather_description            date_time\n",
            "count    48204        48204               48204                48204\n",
            "unique      12           11                  38                40575\n",
            "top       None       Clouds        sky is clear  2013-05-19 10:00:00\n",
            "freq     48143        15164               11665                    6\n"
          ]
        }
      ]
    },
    {
      "cell_type": "markdown",
      "source": [
        "* holiday is very imbalanced towards no holiday\n",
        "* holiday and weather_main have a small amount of categories making One-Hot Encoding a viable option for some models (maybe also weather_description)\n",
        "* For date_time, second is most likely unimportant; note to compare model performance including second vs. excluding second\n",
        "* Above comment may also be applicable for minute\n",
        "* date_time may be tricky for parametric models as it requires nuance for analysis\n"
      ],
      "metadata": {
        "id": "jUwPZLu6eqIg"
      }
    },
    {
      "cell_type": "markdown",
      "source": [
        "### Feature Conclusions\n",
        "* holiday- Categorical, US National holidays plus regional holidays\n",
        "* temp- Numeric, Average temp in kelvin\n",
        "* rain_1h- Numeric, Amount in mm of rain that occurred in the hour\n",
        "* snow_1h- Numeric, Amount in mm of snow that occurred in the hour\n",
        "* clouds_all- Numeric, Percentage of cloud cover\n",
        "* weather_main- Categorical, Short textual description of the current weather\n",
        "* weather_description- Categorical, Longer textual description of the current weather\n",
        "* date_time- DateTime, Hour of the data collected in local CST time\n",
        "* traffic_volume- Numeric Hourly I-94 ATR 301 reported westbound traffic volume\n",
        "\n",
        "\n",
        "\n",
        "### Other Data Info\n",
        "* Shape = (48204, 9)\n",
        "* Traffic is westbound\n",
        "* Traffic is between Saint Paul and Minneapolis\n",
        "* Hourly Interstate 94 Westbound traffic volume for MN DoT ATR station 301, roughly midway between Minneapolis and St Paul, MN. Hourly weather features and holidays included for impacts on traffic volume. Collected from 2012-2018."
      ],
      "metadata": {
        "id": "aorc6XXlWekY"
      }
    },
    {
      "cell_type": "markdown",
      "source": [
        "# EDA\n",
        "* What are the best weather indicators of heavy traffic?\n",
        "* During which time of day is traffic the heaviest? (hours and day vs. night)?\n",
        "* During which time of the year if traffic the heaviest (months and winter vs. summer)?\n",
        "* Which holidays lead to the most traffic?\n",
        "* How has traffic volume changed over the years?\n",
        "* Which day(s) of the week have the most and least traffic?\n",
        "* Is there more traffic on the weekend or weekdays?\n"
      ],
      "metadata": {
        "id": "mpR2Ozv9ZT8-"
      }
    },
    {
      "cell_type": "markdown",
      "source": [
        "# Noise Data and Structural Error Analysis/Treatment"
      ],
      "metadata": {
        "id": "z05Gb0eM7QHk"
      }
    },
    {
      "cell_type": "code",
      "source": [
        "traffic_df['weather_description']=traffic_df['weather_description'].apply(lambda x: x.lower())"
      ],
      "metadata": {
        "id": "8APAIWqB7Zxf"
      },
      "execution_count": 366,
      "outputs": []
    },
    {
      "cell_type": "markdown",
      "source": [
        "# Treatment/Analysis of Outliers and Missing Data\n",
        "* Eliminate outliers (use boxplot and pandas statistical describe function as metrics)\n",
        "* I am making each data visualization plot to help me in data preprocessing and feature engineering.\n",
        "* I would make them significantly more user-friendly and communication-oriented if they were meant to be presented or shown to those who are not very familiar with the data."
      ],
      "metadata": {
        "id": "FQpfr7R7wqUI"
      }
    },
    {
      "cell_type": "markdown",
      "source": [
        "## Remove Outliers\n",
        "\n",
        "* Outliers appear to be heavily skewing the feature data\n",
        "* Due to there being a small amount of outliers and large amount of data, removing the outliers is a viable choice"
      ],
      "metadata": {
        "id": "uqNOHt93qiXt"
      }
    },
    {
      "cell_type": "markdown",
      "source": [
        "### traffic_volume"
      ],
      "metadata": {
        "id": "8M6-G_PEqm50"
      }
    },
    {
      "cell_type": "code",
      "source": [
        "# Boxplot\n",
        "plt.boxplot(traffic_df['traffic_volume'])\n",
        "\n",
        "# Add labels\n",
        "plt.title('Boxplot of traffic_volume')\n",
        "plt.ylabel('traffic_volume')\n",
        "\n",
        "plt.show()"
      ],
      "metadata": {
        "colab": {
          "base_uri": "https://localhost:8080/",
          "height": 452
        },
        "id": "RVUcya9Tq8RU",
        "outputId": "de76de70-749f-4daf-a9b8-30b6ac56decd"
      },
      "execution_count": 367,
      "outputs": [
        {
          "output_type": "display_data",
          "data": {
            "text/plain": [
              "<Figure size 640x480 with 1 Axes>"
            ],
            "image/png": "[encoded data removed]"
          },
          "metadata": {}
        }
      ]
    },
    {
      "cell_type": "code",
      "source": [
        "# Stats about each numeric feature\n",
        "print(traffic_df['traffic_volume'].describe())"
      ],
      "metadata": {
        "colab": {
          "base_uri": "https://localhost:8080/"
        },
        "id": "7b2UxylDrWgU",
        "outputId": "d54a1c27-7fd0-418d-e9ab-2e206903a849"
      },
      "execution_count": 368,
      "outputs": [
        {
          "output_type": "stream",
          "name": "stdout",
          "text": [
            "count    48204.000000\n",
            "mean      3259.818355\n",
            "std       1986.860670\n",
            "min          0.000000\n",
            "25%       1193.000000\n",
            "50%       3380.000000\n",
            "75%       4933.000000\n",
            "max       7280.000000\n",
            "Name: traffic_volume, dtype: float64\n"
          ]
        }
      ]
    },
    {
      "cell_type": "markdown",
      "source": [
        "No apparent outliers"
      ],
      "metadata": {
        "id": "lbWVLGl6sGQR"
      }
    },
    {
      "cell_type": "markdown",
      "source": [
        "### temp"
      ],
      "metadata": {
        "id": "wOeRj8tAqp3z"
      }
    },
    {
      "cell_type": "code",
      "source": [
        "# Boxplot\n",
        "plt.boxplot(traffic_df['temp'])\n",
        "\n",
        "# Add labels\n",
        "plt.title('Boxplot of temp (K)')\n",
        "plt.ylabel('temp (K)')\n",
        "\n",
        "plt.show()"
      ],
      "metadata": {
        "colab": {
          "base_uri": "https://localhost:8080/",
          "height": 452
        },
        "id": "LJVgSHsmrERe",
        "outputId": "b465ef88-861c-4dd1-f98d-712682a30cff"
      },
      "execution_count": 369,
      "outputs": [
        {
          "output_type": "display_data",
          "data": {
            "text/plain": [
              "<Figure size 640x480 with 1 Axes>"
            ],
            "image/png": "[encoded data removed]"
          },
          "metadata": {}
        }
      ]
    },
    {
      "cell_type": "code",
      "source": [
        "# Stats about each numeric feature\n",
        "print(traffic_df['temp'].describe())"
      ],
      "metadata": {
        "colab": {
          "base_uri": "https://localhost:8080/"
        },
        "id": "HNEX3WQfrXJo",
        "outputId": "ba4e4e48-d5a8-4ed2-f421-baa485277d1c"
      },
      "execution_count": 370,
      "outputs": [
        {
          "output_type": "stream",
          "name": "stdout",
          "text": [
            "count    48204.000000\n",
            "mean       281.205870\n",
            "std         13.338232\n",
            "min          0.000000\n",
            "25%        272.160000\n",
            "50%        282.450000\n",
            "75%        291.806000\n",
            "max        310.070000\n",
            "Name: temp, dtype: float64\n"
          ]
        }
      ]
    },
    {
      "cell_type": "markdown",
      "source": [
        "Remove outlier at 0 (most likely false entry/mistake)"
      ],
      "metadata": {
        "id": "dI0JUnDjsNzo"
      }
    },
    {
      "cell_type": "code",
      "source": [
        "# Remove outliers\n",
        "traffic_df=traffic_df[np.absolute(stats.zscore(traffic_df['temp']))<3]"
      ],
      "metadata": {
        "id": "IYQ3O-DGsNJg"
      },
      "execution_count": 371,
      "outputs": []
    },
    {
      "cell_type": "markdown",
      "source": [
        "Recheck data"
      ],
      "metadata": {
        "id": "5XHu_LAgs_w7"
      }
    },
    {
      "cell_type": "code",
      "source": [
        "# Boxplot\n",
        "plt.boxplot(traffic_df['temp'])\n",
        "\n",
        "# Add labels\n",
        "plt.title('Boxplot of temp (K)')\n",
        "plt.ylabel('temp (K)')\n",
        "\n",
        "plt.show()"
      ],
      "metadata": {
        "colab": {
          "base_uri": "https://localhost:8080/",
          "height": 452
        },
        "id": "4dUpVWlMtBg3",
        "outputId": "df85cc0c-bb8f-4555-b43b-6521a83f3cd2"
      },
      "execution_count": 372,
      "outputs": [
        {
          "output_type": "display_data",
          "data": {
            "text/plain": [
              "<Figure size 640x480 with 1 Axes>"
            ],
            "image/png": "[encoded data removed]"
          },
          "metadata": {}
        }
      ]
    },
    {
      "cell_type": "code",
      "source": [
        "# Stats about each numeric feature\n",
        "print(traffic_df['temp'].describe())"
      ],
      "metadata": {
        "colab": {
          "base_uri": "https://localhost:8080/"
        },
        "id": "3wB8UnUktDP2",
        "outputId": "219cd613-b11e-4798-941f-7bdaa699345d"
      },
      "execution_count": 373,
      "outputs": [
        {
          "output_type": "stream",
          "name": "stdout",
          "text": [
            "count    48194.000000\n",
            "mean       281.264219\n",
            "std         12.709587\n",
            "min        243.390000\n",
            "25%        272.182500\n",
            "50%        282.460000\n",
            "75%        291.810000\n",
            "max        310.070000\n",
            "Name: temp, dtype: float64\n"
          ]
        }
      ]
    },
    {
      "cell_type": "markdown",
      "source": [
        "No apparent outliers"
      ],
      "metadata": {
        "id": "N2NLGxDDtKPg"
      }
    },
    {
      "cell_type": "markdown",
      "source": [
        "### clouds_all"
      ],
      "metadata": {
        "id": "psjirETOqsaM"
      }
    },
    {
      "cell_type": "code",
      "source": [
        "# Boxplot\n",
        "plt.boxplot(traffic_df['clouds_all'])\n",
        "\n",
        "# Add labels\n",
        "plt.title('Boxplot of clouds_all')\n",
        "plt.ylabel('clouds_all')\n",
        "\n",
        "plt.show()"
      ],
      "metadata": {
        "colab": {
          "base_uri": "https://localhost:8080/",
          "height": 452
        },
        "id": "bzjYFCf-rAiy",
        "outputId": "19270369-8c1c-4a68-bc27-4e575c919c0e"
      },
      "execution_count": 374,
      "outputs": [
        {
          "output_type": "display_data",
          "data": {
            "text/plain": [
              "<Figure size 640x480 with 1 Axes>"
            ],
            "image/png": "[encoded data removed]"
          },
          "metadata": {}
        }
      ]
    },
    {
      "cell_type": "code",
      "source": [
        "# Stats about each numeric feature\n",
        "print(traffic_df['clouds_all'].describe())"
      ],
      "metadata": {
        "colab": {
          "base_uri": "https://localhost:8080/"
        },
        "id": "5B0hT0jTrXp8",
        "outputId": "1627d22f-aec4-4553-ae4e-214ef16937db"
      },
      "execution_count": 375,
      "outputs": [
        {
          "output_type": "stream",
          "name": "stdout",
          "text": [
            "count    48194.000000\n",
            "mean        49.372474\n",
            "std         39.013317\n",
            "min          0.000000\n",
            "25%          1.000000\n",
            "50%         64.000000\n",
            "75%         90.000000\n",
            "max        100.000000\n",
            "Name: clouds_all, dtype: float64\n"
          ]
        }
      ]
    },
    {
      "cell_type": "markdown",
      "source": [
        "No apparent outliers"
      ],
      "metadata": {
        "id": "g_aepIVWtPBq"
      }
    },
    {
      "cell_type": "markdown",
      "source": [
        "### rain_1h"
      ],
      "metadata": {
        "id": "uSgHwt9Uqvot"
      }
    },
    {
      "cell_type": "code",
      "source": [
        "# Boxplot\n",
        "plt.boxplot(traffic_df['rain_1h'])\n",
        "\n",
        "# Add labels\n",
        "plt.title('Boxplot of rain_1h')\n",
        "plt.ylabel('rain_1h')\n",
        "\n",
        "plt.show()"
      ],
      "metadata": {
        "colab": {
          "base_uri": "https://localhost:8080/",
          "height": 452
        },
        "id": "_fVHhloyrG2i",
        "outputId": "390120ef-a161-4512-ae6e-7d0386de5c24"
      },
      "execution_count": 376,
      "outputs": [
        {
          "output_type": "display_data",
          "data": {
            "text/plain": [
              "<Figure size 640x480 with 1 Axes>"
            ],
            "image/png": "[encoded data removed]"
          },
          "metadata": {}
        }
      ]
    },
    {
      "cell_type": "code",
      "source": [
        "# Stats about each numeric feature\n",
        "print(traffic_df['rain_1h'].describe())"
      ],
      "metadata": {
        "colab": {
          "base_uri": "https://localhost:8080/"
        },
        "id": "f_zgv1VbrYIp",
        "outputId": "1fd80a6f-eee1-4aa5-d7db-60f8818fd56e"
      },
      "execution_count": 377,
      "outputs": [
        {
          "output_type": "stream",
          "name": "stdout",
          "text": [
            "count    48194.000000\n",
            "mean         0.334333\n",
            "std         44.793779\n",
            "min          0.000000\n",
            "25%          0.000000\n",
            "50%          0.000000\n",
            "75%          0.000000\n",
            "max       9831.300000\n",
            "Name: rain_1h, dtype: float64\n"
          ]
        }
      ]
    },
    {
      "cell_type": "markdown",
      "source": [
        "Some apparent outlier"
      ],
      "metadata": {
        "id": "FTLuLisItXG7"
      }
    },
    {
      "cell_type": "code",
      "source": [
        "# Remove outliers\n",
        "traffic_df=traffic_df[np.absolute(stats.zscore(traffic_df['rain_1h']))<.9]"
      ],
      "metadata": {
        "id": "dghrf1LhtZVv"
      },
      "execution_count": 378,
      "outputs": []
    },
    {
      "cell_type": "code",
      "source": [
        "# Boxplot\n",
        "plt.boxplot(traffic_df['rain_1h'])\n",
        "\n",
        "# Add labels\n",
        "plt.title('Boxplot of rain_1h')\n",
        "plt.ylabel('rain_1h')\n",
        "\n",
        "plt.show()"
      ],
      "metadata": {
        "colab": {
          "base_uri": "https://localhost:8080/",
          "height": 452
        },
        "id": "f1qEU0Dtuyic",
        "outputId": "0c2861d0-e961-4e49-8346-a6135af47e6f"
      },
      "execution_count": 379,
      "outputs": [
        {
          "output_type": "display_data",
          "data": {
            "text/plain": [
              "<Figure size 640x480 with 1 Axes>"
            ],
            "image/png": "[encoded data removed]"
          },
          "metadata": {}
        }
      ]
    },
    {
      "cell_type": "code",
      "source": [
        "# Stats about each numeric feature\n",
        "print(traffic_df['rain_1h'].describe())"
      ],
      "metadata": {
        "colab": {
          "base_uri": "https://localhost:8080/"
        },
        "id": "l09K3pT0u0qE",
        "outputId": "1a733c50-9709-478d-fa6e-cc59790afa61"
      },
      "execution_count": 380,
      "outputs": [
        {
          "output_type": "stream",
          "name": "stdout",
          "text": [
            "count    48191.000000\n",
            "mean         0.128270\n",
            "std          0.949912\n",
            "min          0.000000\n",
            "25%          0.000000\n",
            "50%          0.000000\n",
            "75%          0.000000\n",
            "max         31.750000\n",
            "Name: rain_1h, dtype: float64\n"
          ]
        }
      ]
    },
    {
      "cell_type": "markdown",
      "source": [
        "Data has no apparent harmful or misleading outliers; deal with zero-inflation later"
      ],
      "metadata": {
        "id": "_BECS3qIvPxV"
      }
    },
    {
      "cell_type": "markdown",
      "source": [
        "### snow_1h"
      ],
      "metadata": {
        "id": "Nz8tvZ5Aqx80"
      }
    },
    {
      "cell_type": "code",
      "source": [
        "# Boxplot\n",
        "plt.boxplot(traffic_df['snow_1h'])\n",
        "\n",
        "# Add labels\n",
        "plt.title('Boxplot of snow_1h')\n",
        "plt.ylabel('snow_1h')\n",
        "\n",
        "plt.show()"
      ],
      "metadata": {
        "colab": {
          "base_uri": "https://localhost:8080/",
          "height": 452
        },
        "id": "SPrsGwEMrKBK",
        "outputId": "21992c3f-ca80-44aa-e632-059cc1a624e3"
      },
      "execution_count": 381,
      "outputs": [
        {
          "output_type": "display_data",
          "data": {
            "text/plain": [
              "<Figure size 640x480 with 1 Axes>"
            ],
            "image/png": "[encoded data removed]"
          },
          "metadata": {}
        }
      ]
    },
    {
      "cell_type": "code",
      "source": [
        "# Stats about each numeric feature\n",
        "print(traffic_df['snow_1h'].describe())"
      ],
      "metadata": {
        "colab": {
          "base_uri": "https://localhost:8080/"
        },
        "id": "_rknNkFhrY1t",
        "outputId": "6bec9c5e-92e2-408f-ca22-42e0c9f6e9a7"
      },
      "execution_count": 382,
      "outputs": [
        {
          "output_type": "stream",
          "name": "stdout",
          "text": [
            "count    48191.000000\n",
            "mean         0.000222\n",
            "std          0.008169\n",
            "min          0.000000\n",
            "25%          0.000000\n",
            "50%          0.000000\n",
            "75%          0.000000\n",
            "max          0.510000\n",
            "Name: snow_1h, dtype: float64\n"
          ]
        }
      ]
    },
    {
      "cell_type": "markdown",
      "source": [
        "Data has no apparent harmful or misleading outliers; deal with zero-inflation later"
      ],
      "metadata": {
        "id": "st9K8eGLwBBm"
      }
    },
    {
      "cell_type": "markdown",
      "source": [
        "* Eliminate skew in numerical features and target (use histogram, pandas statistical describe function, and pandas skew function as metrics)\n",
        "* Finally normalize each numerical feature"
      ],
      "metadata": {
        "id": "WFM1Xh9ohFfg"
      }
    },
    {
      "cell_type": "markdown",
      "source": [
        "# Feature Engineering"
      ],
      "metadata": {
        "id": "hT6_WIO4xokg"
      }
    },
    {
      "cell_type": "markdown",
      "source": [
        "### Weather\n",
        "* Currently there are two weather columns: simple description (weather_main) and complex description (weather_description). The simple description is essentially an umbrella term for certain complex descriptions. I will feature engineer the weather to one column, then use binary encoding to turn the data into numerical."
      ],
      "metadata": {
        "id": "qskRBvUGzwwK"
      }
    },
    {
      "cell_type": "code",
      "source": [
        "print(traffic_df['weather_main'].unique())"
      ],
      "metadata": {
        "colab": {
          "base_uri": "https://localhost:8080/"
        },
        "id": "QGVwmhcx1Vwn",
        "outputId": "9736761e-e8c7-479c-ff3a-fec75874ac94"
      },
      "execution_count": 383,
      "outputs": [
        {
          "output_type": "stream",
          "name": "stdout",
          "text": [
            "['Clouds' 'Clear' 'Rain' 'Drizzle' 'Mist' 'Haze' 'Fog' 'Thunderstorm'\n",
            " 'Snow' 'Squall' 'Smoke']\n"
          ]
        }
      ]
    },
    {
      "cell_type": "code",
      "source": [
        "print(traffic_df['weather_description'].unique())"
      ],
      "metadata": {
        "colab": {
          "base_uri": "https://localhost:8080/"
        },
        "id": "rH_FUtBo1l14",
        "outputId": "ad6c5ba6-a2d7-498e-8e9e-fe494a2111b8"
      },
      "execution_count": 384,
      "outputs": [
        {
          "output_type": "stream",
          "name": "stdout",
          "text": [
            "['scattered clouds' 'broken clouds' 'overcast clouds' 'sky is clear'\n",
            " 'few clouds' 'light rain' 'light intensity drizzle' 'mist' 'haze' 'fog'\n",
            " 'proximity shower rain' 'drizzle' 'moderate rain' 'heavy intensity rain'\n",
            " 'proximity thunderstorm' 'thunderstorm with light rain'\n",
            " 'proximity thunderstorm with rain' 'heavy snow' 'heavy intensity drizzle'\n",
            " 'snow' 'thunderstorm with heavy rain' 'freezing rain' 'shower snow'\n",
            " 'light rain and snow' 'light intensity shower rain' 'squalls'\n",
            " 'thunderstorm with rain' 'proximity thunderstorm with drizzle'\n",
            " 'thunderstorm' 'very heavy rain' 'thunderstorm with light drizzle'\n",
            " 'light snow' 'thunderstorm with drizzle' 'smoke' 'shower drizzle'\n",
            " 'light shower snow' 'sleet']\n"
          ]
        }
      ]
    },
    {
      "cell_type": "markdown",
      "source": [
        "Due to weather_description containing weather_main with more information, I have decided to remove weather_main"
      ],
      "metadata": {
        "id": "HKw19Upw2wCw"
      }
    },
    {
      "cell_type": "code",
      "source": [
        "# To delete weather_main\n",
        "traffic_df=traffic_df.drop('weather_main', axis=1)"
      ],
      "metadata": {
        "id": "BUtEpmmx25X4"
      },
      "execution_count": 385,
      "outputs": []
    },
    {
      "cell_type": "markdown",
      "source": [
        "I will now attempt to reduce the cardinality of weather_description\n",
        "\n",
        "I will combine weather_descriptions into groups based on similarity in other dataset features\n",
        "\n",
        "I will group the data based on their weather_description categories.\n",
        "\n",
        "Then I will use the pandas aggregate function to see mean values of other numerical features in the dataset for each category in weather_description"
      ],
      "metadata": {
        "id": "uzt55xrp38Q1"
      }
    },
    {
      "cell_type": "code",
      "source": [
        "print(traffic_df.groupby('weather_description').aggregate({'temp':[np.mean,np.size],'rain_1h':np.mean, 'snow_1h':np.mean, 'clouds_all':np.mean, 'traffic_volume':np.mean}))"
      ],
      "metadata": {
        "colab": {
          "base_uri": "https://localhost:8080/"
        },
        "id": "w7MSoSFk5L29",
        "outputId": "641cee1c-4426-44a4-d56b-6625b8c70c26"
      },
      "execution_count": 386,
      "outputs": [
        {
          "output_type": "stream",
          "name": "stdout",
          "text": [
            "                                           temp           rain_1h   snow_1h  \\\n",
            "                                           mean   size       mean      mean   \n",
            "weather_description                                                           \n",
            "broken clouds                        281.188939   4666   0.000000  0.000000   \n",
            "drizzle                              283.005776    651   0.118710  0.000000   \n",
            "few clouds                           284.128469   1956   0.000000  0.000000   \n",
            "fog                                  279.415713    912   0.087007  0.000625   \n",
            "freezing rain                        272.860000      2   0.000000  0.000000   \n",
            "haze                                 275.818581   1360   0.046868  0.000000   \n",
            "heavy intensity drizzle              285.116406     64   0.170156  0.000000   \n",
            "heavy intensity rain                 290.326981    467   2.656660  0.000000   \n",
            "heavy snow                           269.155536    616   0.001234  0.000000   \n",
            "light intensity drizzle              284.246327   1100   0.180600  0.000000   \n",
            "light intensity shower rain          290.981538     13   0.333077  0.000000   \n",
            "light rain                           286.335152   3372   0.129404  0.000068   \n",
            "light rain and snow                  274.910000      6   0.211667  0.000000   \n",
            "light shower snow                    268.213636     11   0.000000  0.000000   \n",
            "light snow                           267.165802   1946   0.033320  0.001536   \n",
            "mist                                 279.476892   5950   0.238336  0.000728   \n",
            "moderate rain                        286.918244   1664   0.577843  0.000499   \n",
            "overcast clouds                      277.374098   5081   0.000000  0.000000   \n",
            "proximity shower rain                291.504044    136   0.231838  0.000000   \n",
            "proximity thunderstorm               293.020743    673   1.072897  0.000000   \n",
            "proximity thunderstorm with drizzle  287.531538     13   0.325385  0.000000   \n",
            "proximity thunderstorm with rain     290.197308     52   0.556923  0.000000   \n",
            "scattered clouds                     286.342470   3461   0.000000  0.000000   \n",
            "shower drizzle                       272.718333      6   0.000000  0.000000   \n",
            "shower snow                          268.680000      1   0.000000  0.000000   \n",
            "sky is clear                         281.700337  13381   0.000000  0.000000   \n",
            "sleet                                275.746667      3   0.000000  0.000000   \n",
            "smoke                                290.927500     20   0.527000  0.000000   \n",
            "snow                                 270.440034    293   0.019352  0.006041   \n",
            "squalls                              292.387500      4   3.482500  0.000000   \n",
            "thunderstorm                         293.831440    125   1.121440  0.000000   \n",
            "thunderstorm with drizzle            287.880000      2   5.345000  0.000000   \n",
            "thunderstorm with heavy rain         291.934444     63   3.071587  0.000000   \n",
            "thunderstorm with light drizzle      289.943333     15   2.014667  0.000000   \n",
            "thunderstorm with light rain         292.128148     54   0.684259  0.000000   \n",
            "thunderstorm with rain               292.352162     37   1.699459  0.000000   \n",
            "very heavy rain                      290.090667     15  22.158000  0.000000   \n",
            "\n",
            "                                    clouds_all traffic_volume  \n",
            "                                          mean           mean  \n",
            "weather_description                                            \n",
            "broken clouds                        72.287184    3661.142092  \n",
            "drizzle                              86.133641    3094.858679  \n",
            "few clouds                           19.315440    3691.453476  \n",
            "fog                                  51.497807    2703.720395  \n",
            "freezing rain                        90.000000    4314.000000  \n",
            "haze                                 58.670588    3502.101471  \n",
            "heavy intensity drizzle              87.593750    3371.109375  \n",
            "heavy intensity rain                 79.351178    3140.072805  \n",
            "heavy snow                           86.198052    3031.472403  \n",
            "light intensity drizzle              79.713636    3400.567273  \n",
            "light intensity shower rain          85.000000    4140.307692  \n",
            "light rain                           68.860913    3349.257117  \n",
            "light rain and snow                  83.166667    3961.166667  \n",
            "light shower snow                    81.909091    4618.636364  \n",
            "light snow                           78.977903    3042.770298  \n",
            "mist                                 65.956303    2932.956639  \n",
            "moderate rain                        77.969952    3202.603966  \n",
            "overcast clouds                      90.150364    3375.963590  \n",
            "proximity shower rain                76.838235    4567.845588  \n",
            "proximity thunderstorm               66.121842    3076.457652  \n",
            "proximity thunderstorm with drizzle  85.153846    3117.538462  \n",
            "proximity thunderstorm with rain     72.519231    2819.269231  \n",
            "scattered clouds                     39.936435    3875.622363  \n",
            "shower drizzle                       90.000000    3547.666667  \n",
            "shower snow                          90.000000    5664.000000  \n",
            "sky is clear                          1.547866    3057.207458  \n",
            "sleet                                90.000000    4312.666667  \n",
            "smoke                                53.350000    3237.650000  \n",
            "snow                                 87.866894    2712.122867  \n",
            "squalls                              76.000000    2061.750000  \n",
            "thunderstorm                         66.896000    2843.752000  \n",
            "thunderstorm with drizzle            90.000000    2297.000000  \n",
            "thunderstorm with heavy rain         76.873016    2631.142857  \n",
            "thunderstorm with light drizzle      79.266667    2779.266667  \n",
            "thunderstorm with light rain         70.537037    2776.833333  \n",
            "thunderstorm with rain               83.351351    3476.405405  \n",
            "very heavy rain                      55.600000    2372.466667  \n"
          ]
        }
      ]
    },
    {
      "cell_type": "markdown",
      "source": [
        "Percentage of cloud cover, quantity of rain, and quantity of snow have already ben accounted for\n",
        "\n",
        "I will group those with an important feature being percentage of cloud cover, quantity of rain, and quantity of snow into cloudy, rain, snow, respectively"
      ],
      "metadata": {
        "id": "H7sVsRS0BFix"
      }
    },
    {
      "cell_type": "code",
      "source": [
        "# Replace weather_description\n",
        "traffic_df['weather_description']=traffic_df['weather_description'].apply(lambda x: 'rain' if x in ['freezing rain', 'drizzle','heavy intensity drizzle', 'heavy intensity rain', 'light intensity drizzle', 'light intensity shower rain', 'light rain', 'moderate rain', 'proximity shower rain', 'shower drizzle', 'very heavy rain']\n",
        "                                                                          else 'cloudy' if x.__contains__('cloud')\n",
        "                                                                          else 'snow' if x.__contains__('snow') or x=='sleet'\n",
        "                                                                          else 'thunderstorm' if x.__contains__('thunderstorm') or x=='squalls'\n",
        "                                                                          else 'sky is clear' if x=='smoke'\n",
        "                                                                          else x)"
      ],
      "metadata": {
        "id": "jocNHWJQBbGq"
      },
      "execution_count": 387,
      "outputs": []
    },
    {
      "cell_type": "code",
      "source": [
        "print(traffic_df.groupby('weather_description').aggregate({'temp':[np.mean,np.size],'rain_1h':np.mean, 'snow_1h':np.mean, 'clouds_all':np.mean, 'traffic_volume':np.mean}))"
      ],
      "metadata": {
        "colab": {
          "base_uri": "https://localhost:8080/"
        },
        "id": "NAj1pgwRELmS",
        "outputId": "7a56f2ac-606e-4765-f8ad-08b68e1f5489"
      },
      "execution_count": 388,
      "outputs": [
        {
          "output_type": "stream",
          "name": "stdout",
          "text": [
            "                           temp          rain_1h   snow_1h clouds_all  \\\n",
            "                           mean   size      mean      mean       mean   \n",
            "weather_description                                                     \n",
            "cloudy               281.466101  15164  0.000000  0.000000  64.056120   \n",
            "fog                  279.415713    912  0.087007  0.000625  51.497807   \n",
            "haze                 275.818581   1360  0.046868  0.000000  58.670588   \n",
            "mist                 279.476892   5950  0.238336  0.000728  65.956303   \n",
            "rain                 286.201958   7490  0.439733  0.000142  74.962750   \n",
            "sky is clear         281.714107  13401  0.000787  0.000000   1.625177   \n",
            "snow                 267.955188   2876  0.025223  0.001655  81.465229   \n",
            "thunderstorm         292.715164   1038  1.198083  0.000000  68.544316   \n",
            "\n",
            "                    traffic_volume  \n",
            "                              mean  \n",
            "weather_description                 \n",
            "cloudy                 3618.449749  \n",
            "fog                    2703.720395  \n",
            "haze                   3502.101471  \n",
            "mist                   2932.956639  \n",
            "rain                   3311.204539  \n",
            "sky is clear           3057.476755  \n",
            "snow                   3016.844228  \n",
            "thunderstorm           2997.999037  \n"
          ]
        }
      ]
    },
    {
      "cell_type": "markdown",
      "source": [
        "Binary Encode weather_description"
      ],
      "metadata": {
        "id": "Ua5oyiqfIEL4"
      }
    },
    {
      "cell_type": "code",
      "source": [
        "# Create binary number for weather column\n",
        "traffic_df['weather_description_binary']=traffic_df['weather_description'].apply(lambda x: int(format(0,'b')) if x=='snow' else int(format(1,'b')) if x=='cloudy' else int(format(2,'b')) if x=='sky is clear' else int(format(3,'b')) if x=='rain' else int(format(4,'b')) if x=='mist' else int(format(5,'b')) if x=='haze' else int(format(6,'b')) if x=='fog' else int(format(7,'b')) )"
      ],
      "metadata": {
        "id": "fBnWWCHEQ6VZ"
      },
      "execution_count": 389,
      "outputs": []
    },
    {
      "cell_type": "code",
      "source": [
        "# Convert binary weather_description feature into three binary columns\n",
        "traffic_df['weather_description_binary_0']=traffic_df['weather_description_binary'].apply(lambda x: int((x/100)%10))\n",
        "traffic_df['weather_description_binary_1']=traffic_df['weather_description_binary'].apply(lambda x: int((x/10)%10))\n",
        "traffic_df['weather_description_binary_2']=traffic_df['weather_description_binary'].apply(lambda x: x%10)"
      ],
      "metadata": {
        "id": "9lWry3xlQTc7"
      },
      "execution_count": 390,
      "outputs": []
    },
    {
      "cell_type": "code",
      "source": [
        "# Remove original binary weather_description feature\n",
        "traffic_df=traffic_df.drop('weather_description_binary', axis=1)"
      ],
      "metadata": {
        "id": "e1DRb6qQLo_c"
      },
      "execution_count": 391,
      "outputs": []
    },
    {
      "cell_type": "code",
      "source": [
        "# Remove unneeded feature (weather_description)\n",
        "traffic_df=traffic_df.drop('weather_description', axis=1)"
      ],
      "metadata": {
        "id": "aQGV8S9ar1cN"
      },
      "execution_count": 392,
      "outputs": []
    },
    {
      "cell_type": "markdown",
      "source": [
        "### DateTime\n",
        "Currently DateTime is set to second, minute, hour, day, month, year\n",
        "\n",
        "First I'm gonna separate the data into hour, day, month, year, weekday (exclude minute and second because both are the same for all examples/rows)\n",
        "\n",
        "For weekday, 0-6 is Monday to Sunday\n",
        "\n",
        "hour, day, month, and year have no distinguishable subsections. However, weekdays and weekends are distinct so I will create an is_weekend feature\n",
        "\n",
        "Then I will add sin and cos transformation features to hour, day, month, and weekday to capture the circular/cyclical nature of those features"
      ],
      "metadata": {
        "id": "IuMmiu8czx7A"
      }
    },
    {
      "cell_type": "code",
      "source": [
        "# Convert date_time string to datetime type\n",
        "traffic_df['date_time']=traffic_df['date_time'].apply(lambda x: datetime.strptime(x, '%Y-%m-%d %H:%M:%S'))"
      ],
      "metadata": {
        "id": "Bip_5gG4ETJm"
      },
      "execution_count": 393,
      "outputs": []
    },
    {
      "cell_type": "code",
      "source": [
        "traffic_df['hour']=traffic_df.date_time.dt.hour\n",
        "traffic_df['day']=traffic_df.date_time.dt.day\n",
        "traffic_df['month']=traffic_df.date_time.dt.month\n",
        "traffic_df['year']=traffic_df.date_time.dt.year\n",
        "traffic_df['weekday']=traffic_df.date_time.dt.weekday"
      ],
      "metadata": {
        "id": "He30roDVFXCw"
      },
      "execution_count": 394,
      "outputs": []
    },
    {
      "cell_type": "code",
      "source": [
        "traffic_df.head()"
      ],
      "metadata": {
        "colab": {
          "base_uri": "https://localhost:8080/",
          "height": 444
        },
        "id": "Qs1-dxYubbC6",
        "outputId": "af2cfbc8-cf2e-4853-8e93-18a3e9db256d"
      },
      "execution_count": 395,
      "outputs": [
        {
          "output_type": "execute_result",
          "data": {
            "text/plain": [
              "  holiday    temp  rain_1h  snow_1h  clouds_all           date_time  \\\n",
              "0    None  288.28      0.0      0.0          40 2012-10-02 09:00:00   \n",
              "1    None  289.36      0.0      0.0          75 2012-10-02 10:00:00   \n",
              "2    None  289.58      0.0      0.0          90 2012-10-02 11:00:00   \n",
              "3    None  290.13      0.0      0.0          90 2012-10-02 12:00:00   \n",
              "4    None  291.14      0.0      0.0          75 2012-10-02 13:00:00   \n",
              "\n",
              "   traffic_volume  weather_description_binary_0  weather_description_binary_1  \\\n",
              "0            5545                             0                             0   \n",
              "1            4516                             0                             0   \n",
              "2            4767                             0                             0   \n",
              "3            5026                             0                             0   \n",
              "4            4918                             0                             0   \n",
              "\n",
              "   weather_description_binary_2  hour  day  month  year  weekday  \n",
              "0                             1     9    2     10  2012        1  \n",
              "1                             1    10    2     10  2012        1  \n",
              "2                             1    11    2     10  2012        1  \n",
              "3                             1    12    2     10  2012        1  \n",
              "4                             1    13    2     10  2012        1  "
            ],
            "text/html": [
              "\n",
              "\n",
              "  <div id=\"df-a2e02b70-0427-42a8-a016-758d8fa97d59\">\n",
              "    <div class=\"colab-df-container\">\n",
              "      <div>\n",
              "<style scoped>\n",
              "    .dataframe tbody tr th:only-of-type {\n",
              "        vertical-align: middle;\n",
              "    }\n",
              "\n",
              "    .dataframe tbody tr th {\n",
              "        vertical-align: top;\n",
              "    }\n",
              "\n",
              "    .dataframe thead th {\n",
              "        text-align: right;\n",
              "    }\n",
              "</style>\n",
              "<table border=\"1\" class=\"dataframe\">\n",
              "  <thead>\n",
              "    <tr style=\"text-align: right;\">\n",
              "      <th></th>\n",
              "      <th>holiday</th>\n",
              "      <th>temp</th>\n",
              "      <th>rain_1h</th>\n",
              "      <th>snow_1h</th>\n",
              "      <th>clouds_all</th>\n",
              "      <th>date_time</th>\n",
              "      <th>traffic_volume</th>\n",
              "      <th>weather_description_binary_0</th>\n",
              "      <th>weather_description_binary_1</th>\n",
              "      <th>weather_description_binary_2</th>\n",
              "      <th>hour</th>\n",
              "      <th>day</th>\n",
              "      <th>month</th>\n",
              "      <th>year</th>\n",
              "      <th>weekday</th>\n",
              "    </tr>\n",
              "  </thead>\n",
              "  <tbody>\n",
              "    <tr>\n",
              "      <th>0</th>\n",
              "      <td>None</td>\n",
              "      <td>288.28</td>\n",
              "      <td>0.0</td>\n",
              "      <td>0.0</td>\n",
              "      <td>40</td>\n",
              "      <td>2012-10-02 09:00:00</td>\n",
              "      <td>5545</td>\n",
              "      <td>0</td>\n",
              "      <td>0</td>\n",
              "      <td>1</td>\n",
              "      <td>9</td>\n",
              "      <td>2</td>\n",
              "      <td>10</td>\n",
              "      <td>2012</td>\n",
              "      <td>1</td>\n",
              "    </tr>\n",
              "    <tr>\n",
              "      <th>1</th>\n",
              "      <td>None</td>\n",
              "      <td>289.36</td>\n",
              "      <td>0.0</td>\n",
              "      <td>0.0</td>\n",
              "      <td>75</td>\n",
              "      <td>2012-10-02 10:00:00</td>\n",
              "      <td>4516</td>\n",
              "      <td>0</td>\n",
              "      <td>0</td>\n",
              "      <td>1</td>\n",
              "      <td>10</td>\n",
              "      <td>2</td>\n",
              "      <td>10</td>\n",
              "      <td>2012</td>\n",
              "      <td>1</td>\n",
              "    </tr>\n",
              "    <tr>\n",
              "      <th>2</th>\n",
              "      <td>None</td>\n",
              "      <td>289.58</td>\n",
              "      <td>0.0</td>\n",
              "      <td>0.0</td>\n",
              "      <td>90</td>\n",
              "      <td>2012-10-02 11:00:00</td>\n",
              "      <td>4767</td>\n",
              "      <td>0</td>\n",
              "      <td>0</td>\n",
              "      <td>1</td>\n",
              "      <td>11</td>\n",
              "      <td>2</td>\n",
              "      <td>10</td>\n",
              "      <td>2012</td>\n",
              "      <td>1</td>\n",
              "    </tr>\n",
              "    <tr>\n",
              "      <th>3</th>\n",
              "      <td>None</td>\n",
              "      <td>290.13</td>\n",
              "      <td>0.0</td>\n",
              "      <td>0.0</td>\n",
              "      <td>90</td>\n",
              "      <td>2012-10-02 12:00:00</td>\n",
              "      <td>5026</td>\n",
              "      <td>0</td>\n",
              "      <td>0</td>\n",
              "      <td>1</td>\n",
              "      <td>12</td>\n",
              "      <td>2</td>\n",
              "      <td>10</td>\n",
              "      <td>2012</td>\n",
              "      <td>1</td>\n",
              "    </tr>\n",
              "    <tr>\n",
              "      <th>4</th>\n",
              "      <td>None</td>\n",
              "      <td>291.14</td>\n",
              "      <td>0.0</td>\n",
              "      <td>0.0</td>\n",
              "      <td>75</td>\n",
              "      <td>2012-10-02 13:00:00</td>\n",
              "      <td>4918</td>\n",
              "      <td>0</td>\n",
              "      <td>0</td>\n",
              "      <td>1</td>\n",
              "      <td>13</td>\n",
              "      <td>2</td>\n",
              "      <td>10</td>\n",
              "      <td>2012</td>\n",
              "      <td>1</td>\n",
              "    </tr>\n",
              "  </tbody>\n",
              "</table>\n",
              "</div>\n",
              "      <button class=\"colab-df-convert\" onclick=\"convertToInteractive('df-a2e02b70-0427-42a8-a016-758d8fa97d59')\"\n",
              "              title=\"Convert this dataframe to an interactive table.\"\n",
              "              style=\"display:none;\">\n",
              "\n",
              "  <svg xmlns=\"http://www.w3.org/2000/svg\" height=\"24px\"viewBox=\"0 0 24 24\"\n",
              "       width=\"24px\">\n",
              "    <path d=\"M0 0h24v24H0V0z\" fill=\"none\"/>\n",
              "    <path d=\"M18.56 5.44l.94 2.06.94-2.06 2.06-.94-2.06-.94-.94-2.06-.94 2.06-2.06.94zm-11 1L8.5 8.5l.94-2.06 2.06-.94-2.06-.94L8.5 2.5l-.94 2.06-2.06.94zm10 10l.94 2.06.94-2.06 2.06-.94-2.06-.94-.94-2.06-.94 2.06-2.06.94z\"/><path d=\"M17.41 7.96l-1.37-1.37c-.4-.4-.92-.59-1.43-.59-.52 0-1.04.2-1.43.59L10.3 9.45l-7.72 7.72c-.78.78-.78 2.05 0 2.83L4 21.41c.39.39.9.59 1.41.59.51 0 1.02-.2 1.41-.59l7.78-7.78 2.81-2.81c.8-.78.8-2.07 0-2.86zM5.41 20L4 18.59l7.72-7.72 1.47 1.35L5.41 20z\"/>\n",
              "  </svg>\n",
              "      </button>\n",
              "\n",
              "\n",
              "\n",
              "    <div id=\"df-da375aaa-5a48-4e81-ac2a-248e9497c6c9\">\n",
              "      <button class=\"colab-df-quickchart\" onclick=\"quickchart('df-da375aaa-5a48-4e81-ac2a-248e9497c6c9')\"\n",
              "              title=\"Suggest charts.\"\n",
              "              style=\"display:none;\">\n",
              "\n",
              "<svg xmlns=\"http://www.w3.org/2000/svg\" height=\"24px\"viewBox=\"0 0 24 24\"\n",
              "     width=\"24px\">\n",
              "    <g>\n",
              "        <path d=\"M19 3H5c-1.1 0-2 .9-2 2v14c0 1.1.9 2 2 2h14c1.1 0 2-.9 2-2V5c0-1.1-.9-2-2-2zM9 17H7v-7h2v7zm4 0h-2V7h2v10zm4 0h-2v-4h2v4z\"/>\n",
              "    </g>\n",
              "</svg>\n",
              "      </button>\n",
              "    </div>\n",
              "\n",
              "<style>\n",
              "  .colab-df-quickchart {\n",
              "    background-color: #E8F0FE;\n",
              "    border: none;\n",
              "    border-radius: 50%;\n",
              "    cursor: pointer;\n",
              "    display: none;\n",
              "    fill: #1967D2;\n",
              "    height: 32px;\n",
              "    padding: 0 0 0 0;\n",
              "    width: 32px;\n",
              "  }\n",
              "\n",
              "  .colab-df-quickchart:hover {\n",
              "    background-color: #E2EBFA;\n",
              "    box-shadow: 0px 1px 2px rgba(60, 64, 67, 0.3), 0px 1px 3px 1px rgba(60, 64, 67, 0.15);\n",
              "    fill: #174EA6;\n",
              "  }\n",
              "\n",
              "  [theme=dark] .colab-df-quickchart {\n",
              "    background-color: #3B4455;\n",
              "    fill: #D2E3FC;\n",
              "  }\n",
              "\n",
              "  [theme=dark] .colab-df-quickchart:hover {\n",
              "    background-color: #434B5C;\n",
              "    box-shadow: 0px 1px 3px 1px rgba(0, 0, 0, 0.15);\n",
              "    filter: drop-shadow(0px 1px 2px rgba(0, 0, 0, 0.3));\n",
              "    fill: #FFFFFF;\n",
              "  }\n",
              "</style>\n",
              "\n",
              "    <script>\n",
              "      async function quickchart(key) {\n",
              "        const containerElement = document.querySelector('#' + key);\n",
              "        const charts = await google.colab.kernel.invokeFunction(\n",
              "            'suggestCharts', [key], {});\n",
              "      }\n",
              "    </script>\n",
              "\n",
              "      <script>\n",
              "\n",
              "function displayQuickchartButton(domScope) {\n",
              "  let quickchartButtonEl =\n",
              "    domScope.querySelector('#df-da375aaa-5a48-4e81-ac2a-248e9497c6c9 button.colab-df-quickchart');\n",
              "  quickchartButtonEl.style.display =\n",
              "    google.colab.kernel.accessAllowed ? 'block' : 'none';\n",
              "}\n",
              "\n",
              "        displayQuickchartButton(document);\n",
              "      </script>\n",
              "      <style>\n",
              "    .colab-df-container {\n",
              "      display:flex;\n",
              "      flex-wrap:wrap;\n",
              "      gap: 12px;\n",
              "    }\n",
              "\n",
              "    .colab-df-convert {\n",
              "      background-color: #E8F0FE;\n",
              "      border: none;\n",
              "      border-radius: 50%;\n",
              "      cursor: pointer;\n",
              "      display: none;\n",
              "      fill: #1967D2;\n",
              "      height: 32px;\n",
              "      padding: 0 0 0 0;\n",
              "      width: 32px;\n",
              "    }\n",
              "\n",
              "    .colab-df-convert:hover {\n",
              "      background-color: #E2EBFA;\n",
              "      box-shadow: 0px 1px 2px rgba(60, 64, 67, 0.3), 0px 1px 3px 1px rgba(60, 64, 67, 0.15);\n",
              "      fill: #174EA6;\n",
              "    }\n",
              "\n",
              "    [theme=dark] .colab-df-convert {\n",
              "      background-color: #3B4455;\n",
              "      fill: #D2E3FC;\n",
              "    }\n",
              "\n",
              "    [theme=dark] .colab-df-convert:hover {\n",
              "      background-color: #434B5C;\n",
              "      box-shadow: 0px 1px 3px 1px rgba(0, 0, 0, 0.15);\n",
              "      filter: drop-shadow(0px 1px 2px rgba(0, 0, 0, 0.3));\n",
              "      fill: #FFFFFF;\n",
              "    }\n",
              "  </style>\n",
              "\n",
              "      <script>\n",
              "        const buttonEl =\n",
              "          document.querySelector('#df-a2e02b70-0427-42a8-a016-758d8fa97d59 button.colab-df-convert');\n",
              "        buttonEl.style.display =\n",
              "          google.colab.kernel.accessAllowed ? 'block' : 'none';\n",
              "\n",
              "        async function convertToInteractive(key) {\n",
              "          const element = document.querySelector('#df-a2e02b70-0427-42a8-a016-758d8fa97d59');\n",
              "          const dataTable =\n",
              "            await google.colab.kernel.invokeFunction('convertToInteractive',\n",
              "                                                     [key], {});\n",
              "          if (!dataTable) return;\n",
              "\n",
              "          const docLinkHtml = 'Like what you see? Visit the ' +\n",
              "            '<a target=\"_blank\" href=https://colab.research.google.com/notebooks/data_table.ipynb>data table notebook</a>'\n",
              "            + ' to learn more about interactive tables.';\n",
              "          element.innerHTML = '';\n",
              "          dataTable['output_type'] = 'display_data';\n",
              "          await google.colab.output.renderOutput(dataTable, element);\n",
              "          const docLink = document.createElement('div');\n",
              "          docLink.innerHTML = docLinkHtml;\n",
              "          element.appendChild(docLink);\n",
              "        }\n",
              "      </script>\n",
              "    </div>\n",
              "  </div>\n"
            ]
          },
          "metadata": {},
          "execution_count": 395
        }
      ]
    },
    {
      "cell_type": "code",
      "source": [
        "# Creating is_weekend\n",
        "traffic_df['is_weekend']=traffic_df['weekday'].apply(lambda x: 1 if x > 4 else 0)"
      ],
      "metadata": {
        "id": "6r_dNhaHjg3u"
      },
      "execution_count": 396,
      "outputs": []
    },
    {
      "cell_type": "code",
      "source": [
        "traffic_df['sin_hour']=np.sin(traffic_df['hour'] * (np.pi/12.0))\n",
        "traffic_df['cos_hour']=np.cos(traffic_df['hour'] * (np.pi/12.0))\n",
        "traffic_df['sin_day']=np.sin(traffic_df['day'] * (np.pi/15.5))\n",
        "traffic_df['cos_day']=np.cos(traffic_df['day'] * (np.pi/15.5))\n",
        "traffic_df['sin_month']=np.sin(traffic_df['month'] * (np.pi/6.0))\n",
        "traffic_df['cos_month']=np.cos(traffic_df['month'] * (np.pi/6.0))\n",
        "traffic_df['sin_weekday']=np.sin(traffic_df['weekday'] * (np.pi/3.5))\n",
        "traffic_df['cos_weekday']=np.cos(traffic_df['weekday'] * (np.pi/3.5))"
      ],
      "metadata": {
        "id": "hYj7RzIgZBxe"
      },
      "execution_count": 397,
      "outputs": []
    },
    {
      "cell_type": "markdown",
      "source": [
        "I checkes the distributions of each encoded and unencoded feature but only included one of each for brevity"
      ],
      "metadata": {
        "id": "tWCacJSLbt55"
      }
    },
    {
      "cell_type": "code",
      "source": [
        "# Raw hour\n",
        "fig, ax = plt.subplots()\n",
        "ax=traffic_df['hour'][:120].plot()\n",
        "# Labels\n",
        "ax.set_ylabel('hour')\n",
        "ax.set_xlabel('example index')\n",
        "# Set Y Tick Marks\n",
        "ax.set_yticks(np.arange(0,28,4))\n",
        "plt.show()"
      ],
      "metadata": {
        "colab": {
          "base_uri": "https://localhost:8080/",
          "height": 453
        },
        "id": "fYRD-dOcb1Mq",
        "outputId": "75728ac1-610f-4c7a-b39e-a3317d017818"
      },
      "execution_count": 398,
      "outputs": [
        {
          "output_type": "display_data",
          "data": {
            "text/plain": [
              "<Figure size 640x480 with 1 Axes>"
            ],
            "image/png": "[encoded data removed]"
          },
          "metadata": {}
        }
      ]
    },
    {
      "cell_type": "code",
      "source": [
        "# sin hour\n",
        "fig, ax = plt.subplots()\n",
        "ax=traffic_df['sin_hour'][:120].plot()\n",
        "# Labels\n",
        "ax.set_ylabel('sin_hour')\n",
        "ax.set_xlabel('example index')\n",
        "plt.show()"
      ],
      "metadata": {
        "colab": {
          "base_uri": "https://localhost:8080/",
          "height": 449
        },
        "id": "WD0u8pE3eC7V",
        "outputId": "fd6d6e59-ba97-4317-b487-caaf07aef974"
      },
      "execution_count": 399,
      "outputs": [
        {
          "output_type": "display_data",
          "data": {
            "text/plain": [
              "<Figure size 640x480 with 1 Axes>"
            ],
            "image/png": "[encoded data removed]"
          },
          "metadata": {}
        }
      ]
    },
    {
      "cell_type": "code",
      "source": [
        "# cos hour\n",
        "fig, ax = plt.subplots()\n",
        "ax=traffic_df['cos_hour'][:120].plot()\n",
        "# Labels\n",
        "ax.set_ylabel('cos_hour')\n",
        "ax.set_xlabel('example index')\n",
        "plt.show()"
      ],
      "metadata": {
        "colab": {
          "base_uri": "https://localhost:8080/",
          "height": 449
        },
        "id": "0VirJZbQeDF7",
        "outputId": "698afd06-82eb-423f-8118-6cef8cc76948"
      },
      "execution_count": 400,
      "outputs": [
        {
          "output_type": "display_data",
          "data": {
            "text/plain": [
              "<Figure size 640x480 with 1 Axes>"
            ],
            "image/png": "[encoded data removed]"
          },
          "metadata": {}
        }
      ]
    },
    {
      "cell_type": "code",
      "source": [
        "# sin and cos together hour\n",
        "traffic_df[:120].plot.scatter('sin_hour', 'cos_hour').set_aspect('equal')\n",
        "plt.show()"
      ],
      "metadata": {
        "colab": {
          "base_uri": "https://localhost:8080/",
          "height": 450
        },
        "id": "g9H4fXzbeDK0",
        "outputId": "73071573-bf53-4168-86cf-bc886b5a384a"
      },
      "execution_count": 401,
      "outputs": [
        {
          "output_type": "display_data",
          "data": {
            "text/plain": [
              "<Figure size 640x480 with 1 Axes>"
            ],
            "image/png": "[encoded data removed]"
          },
          "metadata": {}
        }
      ]
    },
    {
      "cell_type": "code",
      "source": [
        "# Remove unneeded feature (date_time)\n",
        "traffic_df=traffic_df.drop('date_time', axis=1)"
      ],
      "metadata": {
        "id": "5rQdmeeOrf7W"
      },
      "execution_count": 402,
      "outputs": []
    },
    {
      "cell_type": "code",
      "source": [
        "traffic_df.columns"
      ],
      "metadata": {
        "colab": {
          "base_uri": "https://localhost:8080/"
        },
        "id": "r5ZgUXXNr9wm",
        "outputId": "5ce205bf-6775-4c76-cbda-9c409d515576"
      },
      "execution_count": 403,
      "outputs": [
        {
          "output_type": "execute_result",
          "data": {
            "text/plain": [
              "Index(['holiday', 'temp', 'rain_1h', 'snow_1h', 'clouds_all', 'traffic_volume',\n",
              "       'weather_description_binary_0', 'weather_description_binary_1',\n",
              "       'weather_description_binary_2', 'hour', 'day', 'month', 'year',\n",
              "       'weekday', 'is_weekend', 'sin_hour', 'cos_hour', 'sin_day', 'cos_day',\n",
              "       'sin_month', 'cos_month', 'sin_weekday', 'cos_weekday'],\n",
              "      dtype='object')"
            ]
          },
          "metadata": {},
          "execution_count": 403
        }
      ]
    },
    {
      "cell_type": "markdown",
      "source": [
        "Criteria for Pandas Skew Function\n",
        "\n",
        "* If the skewness is between -0.2 and 0.2, the data are fairly symmetrical\n",
        "* If the skewness is between -1 and — 0.2 or between 0.2 and 1, the data are moderately skewed\n",
        "* If the skewness is less than -1 or greater than 1, the data are highly skewed"
      ],
      "metadata": {
        "id": "i_RIM8-VyqZt"
      }
    },
    {
      "cell_type": "markdown",
      "source": [
        "# EDA\n",
        "* What are the best weather indicators of heavy traffic?\n",
        "* During which time of day is traffic the heaviest? (hours and day vs. night)?\n",
        "* During which time of the year if traffic the heaviest (months and winter vs. summer)?\n",
        "* Which holidays lead to the most traffic?\n",
        "* How has traffic volume changed over the years?\n",
        "* Which day(s) of the week have the most and least traffic?\n",
        "* Is there more traffic on the weekend or weekdays?\n"
      ],
      "metadata": {
        "id": "EVecf8zbUaPU"
      }
    },
    {
      "cell_type": "markdown",
      "source": [
        "# Data Transformations Analysis/Treatment for Continuous Variables"
      ],
      "metadata": {
        "id": "6P0LFq5ztEDc"
      }
    },
    {
      "cell_type": "markdown",
      "source": [
        "### traffic_volume"
      ],
      "metadata": {
        "id": "EX5zEfUNwLyA"
      }
    },
    {
      "cell_type": "code",
      "source": [
        "# Stats about each numeric feature\n",
        "print(traffic_df['traffic_volume'].describe())"
      ],
      "metadata": {
        "colab": {
          "base_uri": "https://localhost:8080/"
        },
        "id": "AF3vBXmcwkva",
        "outputId": "46be7d86-b27f-4fe4-ee24-a6125e8a6d90"
      },
      "execution_count": 404,
      "outputs": [
        {
          "output_type": "stream",
          "name": "stdout",
          "text": [
            "count    48191.000000\n",
            "mean      3260.203150\n",
            "std       1986.737523\n",
            "min          0.000000\n",
            "25%       1194.000000\n",
            "50%       3380.000000\n",
            "75%       4933.000000\n",
            "max       7280.000000\n",
            "Name: traffic_volume, dtype: float64\n"
          ]
        }
      ]
    },
    {
      "cell_type": "code",
      "source": [
        "# Histogram\n",
        "plt.hist(traffic_df['traffic_volume'], bins=30)\n",
        "\n",
        "# Labels\n",
        "plt.xlabel('Number of Cars')\n",
        "plt.ylabel('Instances')\n",
        "plt.title('traffic_volume Histogram')\n",
        "\n",
        "# Manipulate figure size\n",
        "plt.figure(figsize=(10,6))\n",
        "\n",
        "# Show plot\n",
        "plt.show()"
      ],
      "metadata": {
        "colab": {
          "base_uri": "https://localhost:8080/",
          "height": 489
        },
        "id": "wyt-EnwuwzMo",
        "outputId": "44d3d9e6-5a29-44f2-9588-1c42b7fddc09"
      },
      "execution_count": 405,
      "outputs": [
        {
          "output_type": "display_data",
          "data": {
            "text/plain": [
              "<Figure size 640x480 with 1 Axes>"
            ],
            "image/png": "[encoded data removed]"
          },
          "metadata": {}
        },
        {
          "output_type": "display_data",
          "data": {
            "text/plain": [
              "<Figure size 1000x600 with 0 Axes>"
            ]
          },
          "metadata": {}
        }
      ]
    },
    {
      "cell_type": "code",
      "source": [
        "# Testing skew\n",
        "print(pd.DataFrame(traffic_df['traffic_volume']).skew(axis=0, numeric_only='True'))"
      ],
      "metadata": {
        "colab": {
          "base_uri": "https://localhost:8080/"
        },
        "id": "0QZ3UZR5xpwe",
        "outputId": "2a89b721-2081-4040-d6a9-a4f91fbcc25a"
      },
      "execution_count": 406,
      "outputs": [
        {
          "output_type": "stream",
          "name": "stdout",
          "text": [
            "traffic_volume   -0.089602\n",
            "dtype: float64\n"
          ]
        }
      ]
    },
    {
      "cell_type": "markdown",
      "source": [
        "Data has no significant skew"
      ],
      "metadata": {
        "id": "fyTsg2jlyi1n"
      }
    },
    {
      "cell_type": "markdown",
      "source": [
        "### temp"
      ],
      "metadata": {
        "id": "RsnRGu9zwMQI"
      }
    },
    {
      "cell_type": "code",
      "source": [
        "# Stats about each numeric feature\n",
        "print(traffic_df['temp'].describe())"
      ],
      "metadata": {
        "colab": {
          "base_uri": "https://localhost:8080/"
        },
        "id": "tm10H-VCwlS4",
        "outputId": "78814c21-4499-416b-9a60-808ce9544d9a"
      },
      "execution_count": 407,
      "outputs": [
        {
          "output_type": "stream",
          "name": "stdout",
          "text": [
            "count    48191.000000\n",
            "mean       281.263322\n",
            "std         12.709405\n",
            "min        243.390000\n",
            "25%        272.180000\n",
            "50%        282.460000\n",
            "75%        291.808000\n",
            "max        310.070000\n",
            "Name: temp, dtype: float64\n"
          ]
        }
      ]
    },
    {
      "cell_type": "code",
      "source": [
        "# Histogram\n",
        "plt.hist(traffic_df['temp'], bins=30)\n",
        "\n",
        "# Labels\n",
        "plt.xlabel('temp (K)')\n",
        "plt.ylabel('Instances')\n",
        "plt.title('temp Histogram')\n",
        "\n",
        "# Manipulate figure size\n",
        "plt.figure(figsize=(10,6))\n",
        "\n",
        "# Show plot\n",
        "plt.show()"
      ],
      "metadata": {
        "colab": {
          "base_uri": "https://localhost:8080/",
          "height": 489
        },
        "id": "sBJLUgz8wz6F",
        "outputId": "cdbbd99e-dd5a-463c-8760-3678da71cdfd"
      },
      "execution_count": 408,
      "outputs": [
        {
          "output_type": "display_data",
          "data": {
            "text/plain": [
              "<Figure size 640x480 with 1 Axes>"
            ],
            "image/png": "[encoded data removed]"
          },
          "metadata": {}
        },
        {
          "output_type": "display_data",
          "data": {
            "text/plain": [
              "<Figure size 1000x600 with 0 Axes>"
            ]
          },
          "metadata": {}
        }
      ]
    },
    {
      "cell_type": "markdown",
      "source": [
        "There appears to be left-skew in the histogram, I applied square, cube, ^4, ^5, and exp transformations. ^5 transformation performed best."
      ],
      "metadata": {
        "id": "nyn-3FK7107D"
      }
    },
    {
      "cell_type": "code",
      "source": [
        "# ^5 Transformation\n",
        "traffic_df['temp']=np.power(traffic_df['temp'], 5)"
      ],
      "metadata": {
        "id": "DpZVYJ1-zlig"
      },
      "execution_count": 409,
      "outputs": []
    },
    {
      "cell_type": "code",
      "source": [
        "# Stats about each numeric feature\n",
        "print(traffic_df['temp'].describe())"
      ],
      "metadata": {
        "colab": {
          "base_uri": "https://localhost:8080/"
        },
        "id": "2QQ5xL5p2FQe",
        "outputId": "eddd6006-7507-4abe-a436-16b438c009b2"
      },
      "execution_count": 410,
      "outputs": [
        {
          "output_type": "stream",
          "name": "stdout",
          "text": [
            "count    4.819100e+04\n",
            "mean     1.795648e+12\n",
            "std      3.901854e+11\n",
            "min      8.541097e+11\n",
            "25%      1.493761e+12\n",
            "50%      1.797980e+12\n",
            "75%      2.115855e+12\n",
            "max      2.866149e+12\n",
            "Name: temp, dtype: float64\n"
          ]
        }
      ]
    },
    {
      "cell_type": "code",
      "source": [
        "# Histogram\n",
        "plt.hist(traffic_df['temp'], bins=30)\n",
        "\n",
        "# Labels\n",
        "plt.xlabel('temp (K)')\n",
        "plt.ylabel('Instances')\n",
        "plt.title('temp Histogram')\n",
        "\n",
        "# Manipulate figure size\n",
        "plt.figure(figsize=(10,6))\n",
        "\n",
        "# Show plot\n",
        "plt.show()"
      ],
      "metadata": {
        "colab": {
          "base_uri": "https://localhost:8080/",
          "height": 489
        },
        "id": "Xs13N1NJ2Lyj",
        "outputId": "8154d669-ce7b-4532-efbe-f6486681577b"
      },
      "execution_count": 411,
      "outputs": [
        {
          "output_type": "display_data",
          "data": {
            "text/plain": [
              "<Figure size 640x480 with 1 Axes>"
            ],
            "image/png": "[encoded data removed]"
          },
          "metadata": {}
        },
        {
          "output_type": "display_data",
          "data": {
            "text/plain": [
              "<Figure size 1000x600 with 0 Axes>"
            ]
          },
          "metadata": {}
        }
      ]
    },
    {
      "cell_type": "code",
      "source": [
        "# Testing skew\n",
        "print(traffic_df['temp'].skew(axis=0, numeric_only='True'))"
      ],
      "metadata": {
        "colab": {
          "base_uri": "https://localhost:8080/"
        },
        "id": "lWrbWSjz2DNI",
        "outputId": "d1c20e62-c28e-4543-ba23-cd50def392ca"
      },
      "execution_count": 412,
      "outputs": [
        {
          "output_type": "stream",
          "name": "stdout",
          "text": [
            "-0.051956520575233714\n"
          ]
        }
      ]
    },
    {
      "cell_type": "markdown",
      "source": [
        "### clouds_all"
      ],
      "metadata": {
        "id": "JYy6PEVnwMSm"
      }
    },
    {
      "cell_type": "code",
      "source": [
        "# Stats about each numeric feature\n",
        "print(traffic_df['clouds_all'].describe())"
      ],
      "metadata": {
        "colab": {
          "base_uri": "https://localhost:8080/"
        },
        "id": "ZaB-AXuEwlyv",
        "outputId": "a672cc72-5b69-43d6-de10-cf306a355570"
      },
      "execution_count": 413,
      "outputs": [
        {
          "output_type": "stream",
          "name": "stdout",
          "text": [
            "count    48191.000000\n",
            "mean        49.371003\n",
            "std         39.014076\n",
            "min          0.000000\n",
            "25%          1.000000\n",
            "50%         64.000000\n",
            "75%         90.000000\n",
            "max        100.000000\n",
            "Name: clouds_all, dtype: float64\n"
          ]
        }
      ]
    },
    {
      "cell_type": "code",
      "source": [
        "# Histogram\n",
        "plt.hist(traffic_df['clouds_all'], bins=30)\n",
        "\n",
        "# Labels\n",
        "plt.xlabel('clouds_all')\n",
        "plt.ylabel('Instances')\n",
        "plt.title('clouds_all Histogram')\n",
        "\n",
        "# Manipulate figure size\n",
        "plt.figure(figsize=(10,6))\n",
        "\n",
        "# Show plot\n",
        "plt.show()"
      ],
      "metadata": {
        "colab": {
          "base_uri": "https://localhost:8080/",
          "height": 489
        },
        "id": "gHSSrJflw0Z9",
        "outputId": "bf3f9e30-1864-46a2-9b0f-2b6567f63450"
      },
      "execution_count": 414,
      "outputs": [
        {
          "output_type": "display_data",
          "data": {
            "text/plain": [
              "<Figure size 640x480 with 1 Axes>"
            ],
            "image/png": "[encoded data removed]"
          },
          "metadata": {}
        },
        {
          "output_type": "display_data",
          "data": {
            "text/plain": [
              "<Figure size 1000x600 with 0 Axes>"
            ]
          },
          "metadata": {}
        }
      ]
    },
    {
      "cell_type": "code",
      "source": [
        "# Testing skew\n",
        "print(pd.DataFrame(traffic_df['clouds_all']).skew(axis=0, numeric_only='True'))"
      ],
      "metadata": {
        "colab": {
          "base_uri": "https://localhost:8080/"
        },
        "id": "RPdEW2iWxqzh",
        "outputId": "6cc4d797-791d-4ed2-a0a6-563d79720520"
      },
      "execution_count": 415,
      "outputs": [
        {
          "output_type": "stream",
          "name": "stdout",
          "text": [
            "clouds_all   -0.197604\n",
            "dtype: float64\n"
          ]
        }
      ]
    },
    {
      "cell_type": "markdown",
      "source": [
        "Moderate skew"
      ],
      "metadata": {
        "id": "Owhn482o3IUI"
      }
    },
    {
      "cell_type": "code",
      "source": [
        "# Square Transformation\n",
        "traffic_df['clouds_all']=np.power(traffic_df['clouds_all'], 2)"
      ],
      "metadata": {
        "id": "u8rUfUkovLvt"
      },
      "execution_count": 416,
      "outputs": []
    },
    {
      "cell_type": "code",
      "source": [
        "# Stats about each numeric feature\n",
        "print(traffic_df['clouds_all'].describe())"
      ],
      "metadata": {
        "colab": {
          "base_uri": "https://localhost:8080/"
        },
        "id": "MYGG2XkWvnP8",
        "outputId": "9662b2d3-8fca-44c9-a27e-55a0aab9bcc5"
      },
      "execution_count": 417,
      "outputs": [
        {
          "output_type": "stream",
          "name": "stdout",
          "text": [
            "count    48191.000000\n",
            "mean      3959.562491\n",
            "std       3622.271556\n",
            "min          0.000000\n",
            "25%          1.000000\n",
            "50%       4096.000000\n",
            "75%       8100.000000\n",
            "max      10000.000000\n",
            "Name: clouds_all, dtype: float64\n"
          ]
        }
      ]
    },
    {
      "cell_type": "code",
      "source": [
        "# Histogram\n",
        "plt.hist(traffic_df['clouds_all'], bins=30)\n",
        "\n",
        "# Labels\n",
        "plt.xlabel('clouds_all')\n",
        "plt.ylabel('Instances')\n",
        "plt.title('clouds_all Histogram')\n",
        "\n",
        "# Manipulate figure size\n",
        "plt.figure(figsize=(10,6))\n",
        "\n",
        "# Show plot\n",
        "plt.show()"
      ],
      "metadata": {
        "colab": {
          "base_uri": "https://localhost:8080/",
          "height": 489
        },
        "id": "LI1bpT4mvlB1",
        "outputId": "7d4661db-9be3-4902-f561-143045a1fa3b"
      },
      "execution_count": 418,
      "outputs": [
        {
          "output_type": "display_data",
          "data": {
            "text/plain": [
              "<Figure size 640x480 with 1 Axes>"
            ],
            "image/png": "[encoded data removed]"
          },
          "metadata": {}
        },
        {
          "output_type": "display_data",
          "data": {
            "text/plain": [
              "<Figure size 1000x600 with 0 Axes>"
            ]
          },
          "metadata": {}
        }
      ]
    },
    {
      "cell_type": "code",
      "source": [
        "# Testing skew\n",
        "print(pd.DataFrame(traffic_df['clouds_all']).skew(axis=0, numeric_only='True'))"
      ],
      "metadata": {
        "colab": {
          "base_uri": "https://localhost:8080/"
        },
        "id": "NAZ2Jd1GvQPv",
        "outputId": "40cce5b9-83eb-4927-843c-9d383813e857"
      },
      "execution_count": 419,
      "outputs": [
        {
          "output_type": "stream",
          "name": "stdout",
          "text": [
            "clouds_all    0.066218\n",
            "dtype: float64\n"
          ]
        }
      ]
    },
    {
      "cell_type": "markdown",
      "source": [
        "Improves, no significant skew"
      ],
      "metadata": {
        "id": "cL2fWqPnvhSn"
      }
    },
    {
      "cell_type": "markdown",
      "source": [
        "### rain_1h"
      ],
      "metadata": {
        "id": "a7R12UB8wMVO"
      }
    },
    {
      "cell_type": "markdown",
      "source": [
        "I figured that I will handle rain_1h and snow_1h in the same manner. They are both continuous, zero-inflated, right-skewed features with true zeros. This rules out tobit regression, discretization, and transformations.\n",
        "\n",
        "I decides to keep my data in the current continuous form. While transformations cannot make my data distribute normally, a log transformation will reduce skew.\n",
        "\n",
        "I could have performed a two-part model or hurdle model, but I am still learning how to do that."
      ],
      "metadata": {
        "id": "6aDxGjGZp2w9"
      }
    },
    {
      "cell_type": "code",
      "source": [
        "# Stats about each numeric feature\n",
        "print(traffic_df['rain_1h'].describe())"
      ],
      "metadata": {
        "colab": {
          "base_uri": "https://localhost:8080/"
        },
        "id": "_x9-cI2cwmQz",
        "outputId": "40a81b7c-4779-4c61-a4cf-e4e9d5104703"
      },
      "execution_count": 420,
      "outputs": [
        {
          "output_type": "stream",
          "name": "stdout",
          "text": [
            "count    48191.000000\n",
            "mean         0.128270\n",
            "std          0.949912\n",
            "min          0.000000\n",
            "25%          0.000000\n",
            "50%          0.000000\n",
            "75%          0.000000\n",
            "max         31.750000\n",
            "Name: rain_1h, dtype: float64\n"
          ]
        }
      ]
    },
    {
      "cell_type": "code",
      "source": [
        "# Histogram\n",
        "plt.hist(traffic_df['rain_1h'], bins=30)\n",
        "\n",
        "# Labels\n",
        "plt.xlabel('rain_1h')\n",
        "plt.ylabel('Instances')\n",
        "plt.title('rain_1h Histogram')\n",
        "\n",
        "# Manipulate figure size\n",
        "plt.figure(figsize=(10,6))\n",
        "\n",
        "# Show plot\n",
        "plt.show()"
      ],
      "metadata": {
        "colab": {
          "base_uri": "https://localhost:8080/",
          "height": 489
        },
        "id": "kdla29JLw09R",
        "outputId": "81ef474d-bd69-4fa1-e813-926cbed77c9f"
      },
      "execution_count": 421,
      "outputs": [
        {
          "output_type": "display_data",
          "data": {
            "text/plain": [
              "<Figure size 640x480 with 1 Axes>"
            ],
            "image/png": "[encoded data removed]"
          },
          "metadata": {}
        },
        {
          "output_type": "display_data",
          "data": {
            "text/plain": [
              "<Figure size 1000x600 with 0 Axes>"
            ]
          },
          "metadata": {}
        }
      ]
    },
    {
      "cell_type": "code",
      "source": [
        "# Testing skew\n",
        "print(pd.DataFrame(traffic_df['rain_1h']).skew(axis=0, numeric_only='True'))"
      ],
      "metadata": {
        "colab": {
          "base_uri": "https://localhost:8080/"
        },
        "id": "g2hLeHUcxrTm",
        "outputId": "116e0b71-5464-4e9e-bb20-c5f240f8a54e"
      },
      "execution_count": 422,
      "outputs": [
        {
          "output_type": "stream",
          "name": "stdout",
          "text": [
            "rain_1h    15.096753\n",
            "dtype: float64\n"
          ]
        }
      ]
    },
    {
      "cell_type": "markdown",
      "source": [
        "Significant right skew due to zero-inflation"
      ],
      "metadata": {
        "id": "Kiw8VLeu3SL9"
      }
    },
    {
      "cell_type": "code",
      "source": [
        "# Tranforming rain_1h to Minimize Right Skew\n",
        "traffic_df['rain_1h']=traffic_df['rain_1h'].apply(lambda x: x+1)\n",
        "traffic_df['rain_1h']=np.log(traffic_df['rain_1h'])"
      ],
      "metadata": {
        "id": "46Aj_F-jJvZS"
      },
      "execution_count": 423,
      "outputs": []
    },
    {
      "cell_type": "code",
      "source": [
        "# Stats about each numeric feature\n",
        "print(traffic_df['rain_1h'].describe())"
      ],
      "metadata": {
        "colab": {
          "base_uri": "https://localhost:8080/"
        },
        "id": "k2DxKaBpLtEy",
        "outputId": "c79e96e1-7e5d-48a6-9636-9f15f1535bd6"
      },
      "execution_count": 424,
      "outputs": [
        {
          "output_type": "stream",
          "name": "stdout",
          "text": [
            "count    48191.000000\n",
            "mean         0.053800\n",
            "std          0.257578\n",
            "min          0.000000\n",
            "25%          0.000000\n",
            "50%          0.000000\n",
            "75%          0.000000\n",
            "max          3.488903\n",
            "Name: rain_1h, dtype: float64\n"
          ]
        }
      ]
    },
    {
      "cell_type": "code",
      "source": [
        "# Histogram\n",
        "plt.hist(traffic_df['rain_1h'], bins=30)\n",
        "\n",
        "# Labels\n",
        "plt.xlabel('rain_1h')\n",
        "plt.ylabel('Instances')\n",
        "plt.title('rain_1h Histogram')\n",
        "\n",
        "# Manipulate figure size\n",
        "plt.figure(figsize=(10,6))\n",
        "\n",
        "# Show plot\n",
        "plt.show()"
      ],
      "metadata": {
        "colab": {
          "base_uri": "https://localhost:8080/",
          "height": 489
        },
        "id": "EvWueVMjLvBc",
        "outputId": "dde8cafb-ddf6-4642-b32f-cecfec6ea47c"
      },
      "execution_count": 425,
      "outputs": [
        {
          "output_type": "display_data",
          "data": {
            "text/plain": [
              "<Figure size 640x480 with 1 Axes>"
            ],
            "image/png": "[encoded data removed]"
          },
          "metadata": {}
        },
        {
          "output_type": "display_data",
          "data": {
            "text/plain": [
              "<Figure size 1000x600 with 0 Axes>"
            ]
          },
          "metadata": {}
        }
      ]
    },
    {
      "cell_type": "code",
      "source": [
        "# Testing skew\n",
        "print(pd.DataFrame(traffic_df['rain_1h']).skew(axis=0, numeric_only='True'))"
      ],
      "metadata": {
        "colab": {
          "base_uri": "https://localhost:8080/"
        },
        "id": "x9X4C8hnLxS0",
        "outputId": "d5757c59-4000-47c5-fda4-79ebb3146189"
      },
      "execution_count": 426,
      "outputs": [
        {
          "output_type": "stream",
          "name": "stdout",
          "text": [
            "rain_1h    6.552472\n",
            "dtype: float64\n"
          ]
        }
      ]
    },
    {
      "cell_type": "markdown",
      "source": [
        "Improved"
      ],
      "metadata": {
        "id": "zyaCdoIWpQsl"
      }
    },
    {
      "cell_type": "code",
      "source": [
        "print((traffic_df['rain_1h']>0).value_counts())"
      ],
      "metadata": {
        "colab": {
          "base_uri": "https://localhost:8080/"
        },
        "id": "SmbnEbuxi1EX",
        "outputId": "415a5625-e864-494e-b8e6-9c4bae59c425"
      },
      "execution_count": 427,
      "outputs": [
        {
          "output_type": "stream",
          "name": "stdout",
          "text": [
            "False    44727\n",
            "True      3464\n",
            "Name: rain_1h, dtype: int64\n"
          ]
        }
      ]
    },
    {
      "cell_type": "markdown",
      "source": [
        "No need for sampling as there are enough instances of rain and no rain to learn from"
      ],
      "metadata": {
        "id": "6A_zZlQsi-Ua"
      }
    },
    {
      "cell_type": "markdown",
      "source": [
        "### snow_1h"
      ],
      "metadata": {
        "id": "fy9vEdEZpZt5"
      }
    },
    {
      "cell_type": "code",
      "source": [
        "# Stats about each numeric feature\n",
        "print(traffic_df['snow_1h'].describe())"
      ],
      "metadata": {
        "colab": {
          "base_uri": "https://localhost:8080/"
        },
        "outputId": "1484dc8e-4da4-46d4-83f8-4d0edb1a04b7",
        "id": "CtX94Ap2pZuE"
      },
      "execution_count": 428,
      "outputs": [
        {
          "output_type": "stream",
          "name": "stdout",
          "text": [
            "count    48191.000000\n",
            "mean         0.000222\n",
            "std          0.008169\n",
            "min          0.000000\n",
            "25%          0.000000\n",
            "50%          0.000000\n",
            "75%          0.000000\n",
            "max          0.510000\n",
            "Name: snow_1h, dtype: float64\n"
          ]
        }
      ]
    },
    {
      "cell_type": "code",
      "source": [
        "# Histogram\n",
        "plt.hist(traffic_df['snow_1h'], bins=30)\n",
        "\n",
        "# Labels\n",
        "plt.xlabel('snow_1h')\n",
        "plt.ylabel('Instances')\n",
        "plt.title('snow_1h Histogram')\n",
        "\n",
        "# Manipulate figure size\n",
        "plt.figure(figsize=(10,6))\n",
        "\n",
        "# Show plot\n",
        "plt.show()"
      ],
      "metadata": {
        "colab": {
          "base_uri": "https://localhost:8080/",
          "height": 489
        },
        "outputId": "0426d64e-2f8c-4ee5-ea5e-33f0fa14bd2d",
        "id": "15DrvMtypZuF"
      },
      "execution_count": 429,
      "outputs": [
        {
          "output_type": "display_data",
          "data": {
            "text/plain": [
              "<Figure size 640x480 with 1 Axes>"
            ],
            "image/png": "[encoded data removed]"
          },
          "metadata": {}
        },
        {
          "output_type": "display_data",
          "data": {
            "text/plain": [
              "<Figure size 1000x600 with 0 Axes>"
            ]
          },
          "metadata": {}
        }
      ]
    },
    {
      "cell_type": "code",
      "source": [
        "# Testing skew\n",
        "print(pd.DataFrame(traffic_df['snow_1h']).skew(axis=0, numeric_only='True'))"
      ],
      "metadata": {
        "colab": {
          "base_uri": "https://localhost:8080/"
        },
        "outputId": "0d2e4cbc-9be9-411c-9daf-8107ef43b242",
        "id": "e6HFBUElpZuF"
      },
      "execution_count": 430,
      "outputs": [
        {
          "output_type": "stream",
          "name": "stdout",
          "text": [
            "snow_1h    48.360955\n",
            "dtype: float64\n"
          ]
        }
      ]
    },
    {
      "cell_type": "markdown",
      "source": [
        "Significant right skew due to zero-inflation"
      ],
      "metadata": {
        "id": "A_wBLh4jpZuF"
      }
    },
    {
      "cell_type": "code",
      "source": [
        "# Tranforming rain_1h to Minimize Right Skew\n",
        "traffic_df['snow_1h']=traffic_df['snow_1h'].apply(lambda x: x+1)\n",
        "traffic_df['snow_1h']=np.log(traffic_df['snow_1h'])"
      ],
      "metadata": {
        "id": "Vp_3zFLUpZuG"
      },
      "execution_count": 431,
      "outputs": []
    },
    {
      "cell_type": "code",
      "source": [
        "# Stats about each numeric feature\n",
        "print(traffic_df['snow_1h'].describe())"
      ],
      "metadata": {
        "colab": {
          "base_uri": "https://localhost:8080/"
        },
        "outputId": "20d44848-4a0e-4182-fd4f-c3db0a9eb5e4",
        "id": "sRRFfkOlpZuG"
      },
      "execution_count": 432,
      "outputs": [
        {
          "output_type": "stream",
          "name": "stdout",
          "text": [
            "count    48191.000000\n",
            "mean         0.000196\n",
            "std          0.006920\n",
            "min          0.000000\n",
            "25%          0.000000\n",
            "50%          0.000000\n",
            "75%          0.000000\n",
            "max          0.412110\n",
            "Name: snow_1h, dtype: float64\n"
          ]
        }
      ]
    },
    {
      "cell_type": "code",
      "source": [
        "# Histogram\n",
        "plt.hist(traffic_df['snow_1h'], bins=30)\n",
        "\n",
        "# Labels\n",
        "plt.xlabel('snow_1h')\n",
        "plt.ylabel('Instances')\n",
        "plt.title('snow_1h Histogram')\n",
        "\n",
        "# Manipulate figure size\n",
        "plt.figure(figsize=(10,6))\n",
        "\n",
        "# Show plot\n",
        "plt.show()"
      ],
      "metadata": {
        "colab": {
          "base_uri": "https://localhost:8080/",
          "height": 489
        },
        "outputId": "3cdc9b3e-9ed0-474c-b382-c28d525f88ea",
        "id": "FhvH4qr0pZuG"
      },
      "execution_count": 433,
      "outputs": [
        {
          "output_type": "display_data",
          "data": {
            "text/plain": [
              "<Figure size 640x480 with 1 Axes>"
            ],
            "image/png": "[encoded data removed]"
          },
          "metadata": {}
        },
        {
          "output_type": "display_data",
          "data": {
            "text/plain": [
              "<Figure size 1000x600 with 0 Axes>"
            ]
          },
          "metadata": {}
        }
      ]
    },
    {
      "cell_type": "code",
      "source": [
        "# Testing skew\n",
        "print(pd.DataFrame(traffic_df['snow_1h']).skew(axis=0, numeric_only='True'))"
      ],
      "metadata": {
        "colab": {
          "base_uri": "https://localhost:8080/"
        },
        "outputId": "41bac698-398b-4761-ec7c-ca2cfe015a2c",
        "id": "8hIVA8s0pZuG"
      },
      "execution_count": 434,
      "outputs": [
        {
          "output_type": "stream",
          "name": "stdout",
          "text": [
            "snow_1h    45.643806\n",
            "dtype: float64\n"
          ]
        }
      ]
    },
    {
      "cell_type": "markdown",
      "source": [
        "Improved"
      ],
      "metadata": {
        "id": "45jvTbYrpZuG"
      }
    },
    {
      "cell_type": "code",
      "source": [
        "print((traffic_df['snow_1h']>0).value_counts())"
      ],
      "metadata": {
        "colab": {
          "base_uri": "https://localhost:8080/"
        },
        "id": "PD7FH_10jDPK",
        "outputId": "9b290299-b647-4346-c700-aa0be8c1d8c9"
      },
      "execution_count": 435,
      "outputs": [
        {
          "output_type": "stream",
          "name": "stdout",
          "text": [
            "False    48128\n",
            "True        63\n",
            "Name: snow_1h, dtype: int64\n"
          ]
        }
      ]
    },
    {
      "cell_type": "markdown",
      "source": [
        "63 is not great, but it is probably enough to learn from"
      ],
      "metadata": {
        "id": "-xaE0OFtjMwP"
      }
    },
    {
      "cell_type": "markdown",
      "source": [
        "#### Normalize Features\n",
        "\n",
        "To make them conform to the same scale and improve the performance of certain models\n",
        "\n",
        "No need to recheck desired aspects of features as they are all preserved when the features are normalized"
      ],
      "metadata": {
        "id": "-R3gD_0zN1y-"
      }
    },
    {
      "cell_type": "code",
      "source": [
        "myColumns=['traffic_volume', 'temp', 'clouds_all', 'rain_1h', 'snow_1h', 'hour', 'day', 'month', 'year', 'weekday']\n",
        "for column in myColumns:\n",
        "  # Normalizing\n",
        "  traffic_df[column]=(traffic_df[column]-traffic_df[column].min())/(traffic_df[column].max()-traffic_df[column].min())"
      ],
      "metadata": {
        "id": "HoT9PhQQOExx"
      },
      "execution_count": 436,
      "outputs": []
    },
    {
      "cell_type": "markdown",
      "source": [
        "# Imbalanced Data Analysis/Treatment"
      ],
      "metadata": {
        "id": "5FVuxcN4OuD5"
      }
    },
    {
      "cell_type": "code",
      "source": [
        "traffic_df.columns"
      ],
      "metadata": {
        "colab": {
          "base_uri": "https://localhost:8080/"
        },
        "id": "oTfaVO-mcgkY",
        "outputId": "392f1c25-36ed-4b2d-c87b-b6cdf76f157a"
      },
      "execution_count": 437,
      "outputs": [
        {
          "output_type": "execute_result",
          "data": {
            "text/plain": [
              "Index(['holiday', 'temp', 'rain_1h', 'snow_1h', 'clouds_all', 'traffic_volume',\n",
              "       'weather_description_binary_0', 'weather_description_binary_1',\n",
              "       'weather_description_binary_2', 'hour', 'day', 'month', 'year',\n",
              "       'weekday', 'is_weekend', 'sin_hour', 'cos_hour', 'sin_day', 'cos_day',\n",
              "       'sin_month', 'cos_month', 'sin_weekday', 'cos_weekday'],\n",
              "      dtype='object')"
            ]
          },
          "metadata": {},
          "execution_count": 437
        }
      ]
    },
    {
      "cell_type": "markdown",
      "source": [
        "# holiday\n",
        "Includes all important national holidays and an important day in the state of Minnesota"
      ],
      "metadata": {
        "id": "l6jnw_RTc_NN"
      }
    },
    {
      "cell_type": "code",
      "source": [
        "traffic_df['holiday'].value_counts()"
      ],
      "metadata": {
        "colab": {
          "base_uri": "https://localhost:8080/"
        },
        "id": "2enjBJFxd1-F",
        "outputId": "e01f21ab-66f5-41af-8f2a-d362fa09e5a1"
      },
      "execution_count": 438,
      "outputs": [
        {
          "output_type": "execute_result",
          "data": {
            "text/plain": [
              "None                         48130\n",
              "Labor Day                        7\n",
              "Thanksgiving Day                 6\n",
              "Christmas Day                    6\n",
              "New Years Day                    6\n",
              "Martin Luther King Jr Day        6\n",
              "Columbus Day                     5\n",
              "Veterans Day                     5\n",
              "Washingtons Birthday             5\n",
              "Memorial Day                     5\n",
              "Independence Day                 5\n",
              "State Fair                       5\n",
              "Name: holiday, dtype: int64"
            ]
          },
          "metadata": {},
          "execution_count": 438
        }
      ]
    },
    {
      "cell_type": "code",
      "source": [
        "print(traffic_df.groupby('holiday').aggregate({'traffic_volume':np.mean}))"
      ],
      "metadata": {
        "colab": {
          "base_uri": "https://localhost:8080/"
        },
        "id": "dafVnRUgdYhB",
        "outputId": "c2801fca-70e1-4a80-afa5-4739c4f01fd6"
      },
      "execution_count": 439,
      "outputs": [
        {
          "output_type": "stream",
          "name": "stdout",
          "text": [
            "                           traffic_volume\n",
            "holiday                                  \n",
            "Christmas Day                    0.113668\n",
            "Columbus Day                     0.071346\n",
            "Independence Day                 0.147802\n",
            "Labor Day                        0.139168\n",
            "Martin Luther King Jr Day        0.084158\n",
            "Memorial Day                     0.152143\n",
            "New Years Day                    0.186264\n",
            "None                             0.448247\n",
            "State Fair                       0.087198\n",
            "Thanksgiving Day                 0.128228\n",
            "Veterans Day                     0.094973\n",
            "Washingtons Birthday             0.087253\n"
          ]
        }
      ]
    },
    {
      "cell_type": "markdown",
      "source": [
        "All holidays have an average of less traffic than days with no holidays.\n",
        "\n",
        "Holidays appear to be inversely related to traffic volume, but there are very few instances of each holiday\n",
        "\n",
        "I will attempt to oversample each holiday via SMOTE so the model can learn patterns from each holiday.\n",
        "\n",
        "I will also undersample 'None' via ENN because the combination of SMOTE with ENN is shown to increase model performance increase model performance. They are combined in SMOTE-ENN."
      ],
      "metadata": {
        "id": "z_zg_ef1etr5"
      }
    },
    {
      "cell_type": "code",
      "source": [
        "# Define feature to sample\n",
        "y=traffic_df['holiday']"
      ],
      "metadata": {
        "id": "tskihsXds49C"
      },
      "execution_count": 440,
      "outputs": []
    },
    {
      "cell_type": "code",
      "source": [
        "# Define set of features not being samples\n",
        "x=traffic_df.drop('holiday', axis=1)"
      ],
      "metadata": {
        "id": "Ln1eD7TysycE"
      },
      "execution_count": 441,
      "outputs": []
    },
    {
      "cell_type": "code",
      "source": [
        "# sampling the data via SMOTE-ENN\n",
        "# k_neighbors = num_features ^ 1/2 (rounded down)\n",
        "# n_neighbors = num_features ^ 1/2 (rounded up)\n",
        "resample = SMOTEENN(enn=EditedNearestNeighbours(n_neighbors=5),smote=SMOTE(k_neighbors=4, sampling_strategy={'None':48130,'Labor Day':1000,'Thanksgiving Day':1000,'Christmas Day':1000,'New Years Day':1000,'Martin Luther King Jr Day':1000,'Columbus Day':1000,'Veterans Day':1000,'Washingtons Birthday':1000,'Memorial Day':1000,'Independence Day':1000,'State Fair':1000}))\n",
        "\n",
        "# Distribution before resampling\n",
        "print(y.value_counts())\n",
        "\n",
        "# Under- and over-sample data\n",
        "x, y = resample.fit_resample(x, y)\n",
        "\n",
        "# Distribution after resampling\n",
        "print(y.value_counts())\n",
        "\n",
        "# Combine x and y into one dataframe\n",
        "x['holiday']=y\n",
        "traffic_df=x"
      ],
      "metadata": {
        "colab": {
          "base_uri": "https://localhost:8080/"
        },
        "id": "hIdQqat8DXYq",
        "outputId": "d6423b05-d0cf-4755-bd05-92e2083988ec"
      },
      "execution_count": 442,
      "outputs": [
        {
          "output_type": "stream",
          "name": "stdout",
          "text": [
            "None                         48130\n",
            "Labor Day                        7\n",
            "Thanksgiving Day                 6\n",
            "Christmas Day                    6\n",
            "New Years Day                    6\n",
            "Martin Luther King Jr Day        6\n",
            "Columbus Day                     5\n",
            "Veterans Day                     5\n",
            "Washingtons Birthday             5\n",
            "Memorial Day                     5\n",
            "Independence Day                 5\n",
            "State Fair                       5\n",
            "Name: holiday, dtype: int64\n",
            "None                         47893\n",
            "Christmas Day                 1000\n",
            "Columbus Day                  1000\n",
            "Independence Day              1000\n",
            "Labor Day                     1000\n",
            "Martin Luther King Jr Day     1000\n",
            "Memorial Day                  1000\n",
            "New Years Day                 1000\n",
            "State Fair                    1000\n",
            "Thanksgiving Day              1000\n",
            "Veterans Day                  1000\n",
            "Washingtons Birthday          1000\n",
            "Name: holiday, dtype: int64\n"
          ]
        }
      ]
    },
    {
      "cell_type": "markdown",
      "source": [
        "#### Binary Encode holiday"
      ],
      "metadata": {
        "id": "PeEx6hqHilLl"
      }
    },
    {
      "cell_type": "code",
      "source": [
        "# Create binary number for weather column\n",
        "traffic_df['holiday_binary']=traffic_df['holiday'].apply(lambda x: int(format(0,'b')) if x=='None' else int(format(1,'b')) if x=='Labor Day' else int(format(2,'b')) if x=='Christmas Day' else int(format(3,'b')) if x=='Columbus Day' else int(format(4,'b')) if x=='Independence Day' else int(format(5,'b')) if x=='Martin Luther King Jr Day' else int(format(6,'b')) if x=='Memorial Day' else int(format(7,'b')) if x=='New Years Day' else int(format(8,'b')) if x=='State Fair' else int(format(9,'b')) if x=='Thanksgiving Day' else int(format(10,'b')) if x=='Veterans Day' else int(format(11,'b')))"
      ],
      "metadata": {
        "id": "jlxrhdk6ijbw"
      },
      "execution_count": 443,
      "outputs": []
    },
    {
      "cell_type": "code",
      "source": [
        "# Convert binary weather_description feature into three binary columns\n",
        "traffic_df['holiday_binary_0']=traffic_df['holiday_binary'].apply(lambda x: int((x/1000)%10))\n",
        "traffic_df['holiday_binary_1']=traffic_df['holiday_binary'].apply(lambda x: int((x/100)%10))\n",
        "traffic_df['holiday_binary_2']=traffic_df['holiday_binary'].apply(lambda x: int((x/10)%10))\n",
        "traffic_df['holiday_binary_3']=traffic_df['holiday_binary'].apply(lambda x: int(x%10))"
      ],
      "metadata": {
        "id": "5WaLrfW-ijbx"
      },
      "execution_count": 444,
      "outputs": []
    },
    {
      "cell_type": "code",
      "source": [
        "# Remove unnecessary features\n",
        "traffic_df.drop('holiday_binary', axis=1, inplace=True)\n",
        "traffic_df.drop('holiday', axis=1, inplace=True)"
      ],
      "metadata": {
        "id": "ikRlbwrNmpPI"
      },
      "execution_count": 445,
      "outputs": []
    },
    {
      "cell_type": "markdown",
      "source": [
        "# Dimensionality Reduction Analysis/Treatment + Machine Learning"
      ],
      "metadata": {
        "id": "nWdm1wCjpT3u"
      }
    },
    {
      "cell_type": "markdown",
      "source": [
        "Different machine learning algorithms will call for different dimensionality reduction analysis/treatment. So, I will combine them into one section.\n",
        "\n",
        "\n",
        "For each algorithm, I will make a copy of the original dataset, perform Dimensionality Reduction Analysis/Treatment, train and test a model, use GridSearchCV to optimize hyperparameters, and train and test a final model.\n",
        "\n",
        "I will save the best performing final model as an .sav file with joblib."
      ],
      "metadata": {
        "id": "K3GnlLQEoChq"
      }
    }
  ]
}