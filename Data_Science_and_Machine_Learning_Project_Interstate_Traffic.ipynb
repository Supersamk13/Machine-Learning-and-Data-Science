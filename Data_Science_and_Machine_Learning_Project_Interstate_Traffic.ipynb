{
  "nbformat": 4,
  "nbformat_minor": 0,
  "metadata": {
    "colab": {
      "provenance": [],
      "authorship_tag": "ABX9TyPJALIl3Az9JTdL5wwOyelW",
      "include_colab_link": true
    },
    "kernelspec": {
      "name": "python3",
      "display_name": "Python 3"
    },
    "language_info": {
      "name": "python"
    }
  },
  "cells": [
    {
      "cell_type": "markdown",
      "metadata": {
        "id": "view-in-github",
        "colab_type": "text"
      },
      "source": [
        "<a href=\"https://colab.research.google.com/github/Supersamk13/Machine-Learning-and-Data-Science/blob/main/Data_Science_and_Machine_Learning_Project_Interstate_Traffic.ipynb\" target=\"_parent\"><img src=\"https://colab.research.google.com/assets/colab-badge.svg\" alt=\"Open In Colab\"/></a>"
      ]
    },
    {
      "cell_type": "markdown",
      "source": [
        "# Introduction\n",
        "\n",
        "Hello, my name is Samuel Kinstlinger. Over the past couple years I have been working on growing my skillset is the fields of data science and machine learing. This is a project I completed early on in my endeavor to practice data cleaning, data preprocessing, data visualization, and implementing regression models. I will be using a data set from Kaggle that gives information on the weather, date and time, and traffic volume."
      ],
      "metadata": {
        "id": "iz_FyyVeRcAF"
      }
    },
    {
      "cell_type": "markdown",
      "source": [
        "### Goals\n",
        "* Answer important questions about interstate traffic and the underlying related factors\n",
        "* Implement and tune machine learning models to best predict interstate traffic volume"
      ],
      "metadata": {
        "id": "2SIDXVsVSJo-"
      }
    },
    {
      "cell_type": "markdown",
      "source": [
        "### Outline\n",
        "* Getting to Know the Data\n",
        "* EDA\n",
        "* Data Visualization\n",
        "* Data Cleaning and Preprocessing\n",
        "* Machine Learning\n",
        "* Conclusion"
      ],
      "metadata": {
        "id": "gVVQ6lMRTG9e"
      }
    },
    {
      "cell_type": "code",
      "source": [
        "# Import modules\n",
        "import numpy as np\n",
        "import pandas as pd\n",
        "import seaborn as sns\n",
        "import matplotlib.pyplot as plt\n",
        "from scipy import stats\n",
        "%matplotlib inline"
      ],
      "metadata": {
        "id": "vK9cu4zUI04A"
      },
      "execution_count": 321,
      "outputs": []
    },
    {
      "cell_type": "code",
      "source": [
        "# Set up data frame\n",
        "url='https://github.com/Supersamk13/Machine-Learning-and-Data-Science/raw/main/Metro_Interstate_Traffic_Volume%5B1%5D.csv'\n",
        "traffic_df=pd.read_csv(url)"
      ],
      "metadata": {
        "id": "rWfVobREQdvQ"
      },
      "execution_count": 322,
      "outputs": []
    },
    {
      "cell_type": "markdown",
      "source": [
        "# Getting to Know the Data\n",
        "* Understanding feature data types and information"
      ],
      "metadata": {
        "id": "eVmpwKKuUQNO"
      }
    },
    {
      "cell_type": "code",
      "source": [
        "# Getting to Know the Data\n",
        "print(traffic_df.head())\n",
        "print(traffic_df.tail())"
      ],
      "metadata": {
        "colab": {
          "base_uri": "https://localhost:8080/"
        },
        "id": "LDHveF25Tmh9",
        "outputId": "9bb7fdcd-08cf-4ea7-b2b5-04ab7ea03901"
      },
      "execution_count": 323,
      "outputs": [
        {
          "output_type": "stream",
          "name": "stdout",
          "text": [
            "  holiday    temp  rain_1h  snow_1h  clouds_all weather_main  \\\n",
            "0    None  288.28      0.0      0.0          40       Clouds   \n",
            "1    None  289.36      0.0      0.0          75       Clouds   \n",
            "2    None  289.58      0.0      0.0          90       Clouds   \n",
            "3    None  290.13      0.0      0.0          90       Clouds   \n",
            "4    None  291.14      0.0      0.0          75       Clouds   \n",
            "\n",
            "  weather_description            date_time  traffic_volume  \n",
            "0    scattered clouds  2012-10-02 09:00:00            5545  \n",
            "1       broken clouds  2012-10-02 10:00:00            4516  \n",
            "2     overcast clouds  2012-10-02 11:00:00            4767  \n",
            "3     overcast clouds  2012-10-02 12:00:00            5026  \n",
            "4       broken clouds  2012-10-02 13:00:00            4918  \n",
            "      holiday    temp  rain_1h  snow_1h  clouds_all  weather_main  \\\n",
            "48199    None  283.45      0.0      0.0          75        Clouds   \n",
            "48200    None  282.76      0.0      0.0          90        Clouds   \n",
            "48201    None  282.73      0.0      0.0          90  Thunderstorm   \n",
            "48202    None  282.09      0.0      0.0          90        Clouds   \n",
            "48203    None  282.12      0.0      0.0          90        Clouds   \n",
            "\n",
            "          weather_description            date_time  traffic_volume  \n",
            "48199           broken clouds  2018-09-30 19:00:00            3543  \n",
            "48200         overcast clouds  2018-09-30 20:00:00            2781  \n",
            "48201  proximity thunderstorm  2018-09-30 21:00:00            2159  \n",
            "48202         overcast clouds  2018-09-30 22:00:00            1450  \n",
            "48203         overcast clouds  2018-09-30 23:00:00             954  \n"
          ]
        }
      ]
    },
    {
      "cell_type": "code",
      "source": [
        "print(traffic_df.info())"
      ],
      "metadata": {
        "colab": {
          "base_uri": "https://localhost:8080/"
        },
        "id": "5oEvlRoETzOk",
        "outputId": "78aa4348-de1a-4296-b393-90c3f0b1e546"
      },
      "execution_count": 324,
      "outputs": [
        {
          "output_type": "stream",
          "name": "stdout",
          "text": [
            "<class 'pandas.core.frame.DataFrame'>\n",
            "RangeIndex: 48204 entries, 0 to 48203\n",
            "Data columns (total 9 columns):\n",
            " #   Column               Non-Null Count  Dtype  \n",
            "---  ------               --------------  -----  \n",
            " 0   holiday              48204 non-null  object \n",
            " 1   temp                 48204 non-null  float64\n",
            " 2   rain_1h              48204 non-null  float64\n",
            " 3   snow_1h              48204 non-null  float64\n",
            " 4   clouds_all           48204 non-null  int64  \n",
            " 5   weather_main         48204 non-null  object \n",
            " 6   weather_description  48204 non-null  object \n",
            " 7   date_time            48204 non-null  object \n",
            " 8   traffic_volume       48204 non-null  int64  \n",
            "dtypes: float64(3), int64(2), object(4)\n",
            "memory usage: 3.3+ MB\n",
            "None\n"
          ]
        }
      ]
    },
    {
      "cell_type": "markdown",
      "source": [
        "All data is non-null; no need to fill or remove missing values"
      ],
      "metadata": {
        "id": "9aSVn2rOeMDi"
      }
    },
    {
      "cell_type": "code",
      "source": [
        "for index in range(traffic_df.shape[1]):\n",
        "  print(traffic_df.columns[index])\n",
        "  print(traffic_df.iloc[:,index].unique())"
      ],
      "metadata": {
        "colab": {
          "base_uri": "https://localhost:8080/"
        },
        "id": "yuZ43Bp6UAQn",
        "outputId": "40f4c813-73cb-46fc-e1e3-493dd71f7d7d"
      },
      "execution_count": 325,
      "outputs": [
        {
          "output_type": "stream",
          "name": "stdout",
          "text": [
            "holiday\n",
            "['None' 'Columbus Day' 'Veterans Day' 'Thanksgiving Day' 'Christmas Day'\n",
            " 'New Years Day' 'Washingtons Birthday' 'Memorial Day' 'Independence Day'\n",
            " 'State Fair' 'Labor Day' 'Martin Luther King Jr Day']\n",
            "temp\n",
            "[288.28 289.36 289.58 ... 306.08 304.41 304.9 ]\n",
            "rain_1h\n",
            "[0.0000e+00 2.5000e-01 5.7000e-01 3.8000e-01 3.0000e-01 2.9000e-01\n",
            " 4.4000e-01 3.6000e-01 2.1600e+00 3.3900e+00 8.4000e-01 7.6000e-01\n",
            " 5.1000e-01 6.9000e-01 1.0000e+00 1.2900e+00 1.3400e+00 1.8400e+00\n",
            " 1.7000e+00 4.7000e-01 1.4100e+00 1.4400e+00 7.0000e-01 3.1800e+00\n",
            " 6.1000e-01 6.4000e-01 1.0200e+00 5.4200e+00 8.6400e+00 5.7400e+00\n",
            " 4.9800e+00 3.6500e+00 6.8000e-01 4.6000e-01 4.2000e-01 1.5200e+00\n",
            " 8.9000e-01 1.4000e+00 1.2190e+01 2.2900e+00 7.5400e+00 6.9400e+00\n",
            " 1.6380e+01 1.7800e+00 2.5400e+00 9.1400e+00 3.0500e+00 1.6500e+00\n",
            " 4.4450e+01 3.8100e+00 5.8400e+00 3.5600e+00 7.3700e+00 1.3500e+00\n",
            " 1.6000e+01 1.0540e+01 1.2700e+00 5.0800e+00 1.9900e+01 2.5320e+01\n",
            " 2.1420e+01 5.5900e+00 7.1100e+00 5.9700e+00 9.5300e+00 2.0300e+00\n",
            " 5.5630e+01 1.3210e+01 6.6000e+00 5.6000e-01 3.2000e-01 2.3700e+00\n",
            " 3.9800e+00 4.3200e+00 1.9600e+00 1.6800e+00 4.3900e+00 4.2700e+00\n",
            " 1.6600e+00 3.4000e-01 3.5000e-01 1.3900e+00 1.8000e+00 9.1000e-01\n",
            " 1.2100e+00 1.1300e+00 1.0900e+00 5.3000e-01 9.7000e-01 8.5000e-01\n",
            " 1.8800e+01 2.8700e+01 1.4730e+01 4.1000e-01 7.9000e-01 1.0600e+00\n",
            " 9.5000e-01 1.0700e+00 3.7000e-01 8.3000e-01 7.2000e-01 6.7000e-01\n",
            " 1.9100e+00 5.4000e-01 4.8000e-01 4.0000e-01 3.1000e-01 2.8000e-01\n",
            " 2.6000e-01 9.4000e-01 2.0500e+00 1.8700e+00 1.1400e+00 5.9000e-01\n",
            " 5.2000e-01 7.1000e-01 5.8000e-01 6.0000e-01 2.7000e-01 3.3000e-01\n",
            " 1.1100e+00 2.1300e+00 2.1000e+00 1.6300e+00 1.3800e+00 9.6000e-01\n",
            " 8.1000e-01 1.0800e+00 1.7100e+00 2.3500e+00 1.8600e+00 2.1100e+00\n",
            " 2.8600e+00 2.5300e+00 2.8500e+00 2.2100e+00 1.3000e+00 9.2000e-01\n",
            " 1.2000e+00 8.0000e-01 7.8000e-01 8.8000e-01 6.6000e-01 6.2000e-01\n",
            " 9.0000e-01 4.3000e-01 1.1200e+00 1.4600e+00 1.2200e+00 1.0500e+00\n",
            " 2.2200e+00 6.5000e-01 2.3100e+00 3.1700e+00 2.1400e+00 2.3400e+00\n",
            " 1.6100e+00 1.5000e+00 2.6700e+00 5.5800e+00 5.1100e+00 5.1000e+00\n",
            " 4.5300e+00 1.2500e+00 4.5000e+00 3.4700e+00 5.5000e-01 4.5000e-01\n",
            " 2.1800e+00 1.3200e+00 2.8400e+00 3.4100e+00 2.9300e+00 2.8700e+00\n",
            " 2.8000e+00 7.4000e-01 6.3500e+00 4.2900e+00 1.2400e+00 8.7000e-01\n",
            " 7.3900e+00 3.1900e+00 1.8300e+00 2.7900e+00 9.8000e-01 5.0000e-01\n",
            " 7.7000e-01 2.9800e+00 4.7600e+00 4.8900e+00 9.3000e-01 1.2800e+00\n",
            " 4.4500e+00 5.2700e+00 1.1580e+01 7.0200e+00 3.0800e+00 1.9800e+00\n",
            " 1.4700e+00 1.0400e+00 1.3300e+00 4.6600e+00 2.0800e+00 2.2000e+00\n",
            " 3.1200e+00 1.5300e+00 1.8500e+00 3.2500e+00 1.9000e+00 1.2450e+01\n",
            " 2.4100e+00 1.3700e+00 5.4600e+00 2.7800e+00 1.3100e+00 3.4400e+00\n",
            " 2.7500e+00 2.1900e+00 1.5500e+00 1.5900e+00 5.7300e+00 5.9300e+00\n",
            " 6.8900e+00 3.9100e+00 1.8030e+01 4.4300e+00 3.9000e+00 6.4500e+00\n",
            " 5.0200e+00 4.0900e+00 1.7600e+00 1.1900e+00 2.7000e+00 7.7700e+00\n",
            " 4.2100e+00 1.8800e+00 1.7200e+00 1.1000e+00 3.0100e+00 2.1200e+00\n",
            " 8.4000e+00 4.8000e+00 9.9000e+00 6.1000e+00 4.1800e+00 8.6000e-01\n",
            " 1.4900e+00 8.8900e+00 7.3000e-01 1.1590e+01 2.3300e+00 9.4000e+00\n",
            " 3.2000e+00 7.9700e+00 2.3800e+01 1.1780e+01 7.5100e+00 1.5410e+01\n",
            " 3.1300e+00 2.1500e+00 4.5700e+00 9.9100e+00 2.7570e+01 7.2900e+00\n",
            " 1.1500e+00 1.3640e+01 7.2500e+00 5.2500e+00 2.9100e+00 8.0200e+00\n",
            " 2.0240e+01 1.3320e+01 5.5200e+00 1.2700e+01 4.3800e+00 1.0300e+00\n",
            " 3.5400e+00 5.8600e+00 7.8700e+00 6.4700e+00 2.6100e+00 1.6700e+00\n",
            " 1.5600e+00 8.0400e+00 2.5460e+01 3.0900e+00 1.9300e+00 1.5100e+00\n",
            " 3.7400e+00 7.7200e+00 4.6400e+00 2.4900e+00 5.0400e+00 5.9200e+00\n",
            " 5.3600e+00 2.3800e+00 6.3000e-01 3.2800e+00 4.0400e+00 2.6200e+00\n",
            " 3.3000e+00 3.8600e+00 5.6900e+00 2.0600e+00 1.0670e+01 6.0100e+00\n",
            " 2.4000e+00 1.6000e+00 4.0600e+00 5.2100e+00 4.7000e+00 2.9600e+00\n",
            " 1.6900e+00 1.0920e+01 2.6800e+00 1.0050e+01 7.7000e+00 4.0500e+00\n",
            " 3.8000e+00 7.6200e+00 6.4800e+00 9.8313e+03 1.1230e+01 9.4200e+00\n",
            " 1.3460e+01 5.8900e+00 1.6510e+01 1.2830e+01 1.8420e+01 5.0600e+00\n",
            " 1.9500e+00 9.0000e+00 3.9400e+00 8.8600e+00 5.9900e+00 8.0000e+00\n",
            " 3.1750e+01 5.4100e+00 2.0070e+01 1.0160e+01 9.1500e+00 2.3900e+00\n",
            " 3.2700e+00 4.1500e+00 4.7400e+00 3.7500e+00 2.8300e+00 1.5750e+01\n",
            " 3.6400e+00 7.1300e+00 1.1600e+00 7.0500e+00 2.7300e+00 4.0000e+00\n",
            " 2.7600e+00 2.8800e+00 1.8200e+00 5.6200e+00 3.4000e+00 2.9200e+00\n",
            " 3.1000e+00 2.6000e+00 1.4500e+00 2.2600e+00 3.4500e+00 2.4800e+00\n",
            " 5.1200e+00 1.0100e+00 4.7900e+00 5.1900e+00 9.6200e+00 1.0600e+01]\n",
            "snow_1h\n",
            "[0.   0.51 0.32 0.06 0.05 0.21 0.25 0.44 0.13 0.1  0.17 0.08]\n",
            "clouds_all\n",
            "[ 40  75  90   1  20   0 100  92  99  81  50  72  56  57  93  85  68  87\n",
            "  91  96  48  60   8  38  46  98  86  16   6  59  54  89  78  36  17  58\n",
            "  63  42  25  11  13  83  70  84   3  77  88  67  97  62  32   4   5   2\n",
            "  44  24  76  64  80  12]\n",
            "weather_main\n",
            "['Clouds' 'Clear' 'Rain' 'Drizzle' 'Mist' 'Haze' 'Fog' 'Thunderstorm'\n",
            " 'Snow' 'Squall' 'Smoke']\n",
            "weather_description\n",
            "['scattered clouds' 'broken clouds' 'overcast clouds' 'sky is clear'\n",
            " 'few clouds' 'light rain' 'light intensity drizzle' 'mist' 'haze' 'fog'\n",
            " 'proximity shower rain' 'drizzle' 'moderate rain' 'heavy intensity rain'\n",
            " 'proximity thunderstorm' 'thunderstorm with light rain'\n",
            " 'proximity thunderstorm with rain' 'heavy snow' 'heavy intensity drizzle'\n",
            " 'snow' 'thunderstorm with heavy rain' 'freezing rain' 'shower snow'\n",
            " 'light rain and snow' 'light intensity shower rain' 'SQUALLS'\n",
            " 'thunderstorm with rain' 'proximity thunderstorm with drizzle'\n",
            " 'thunderstorm' 'Sky is Clear' 'very heavy rain'\n",
            " 'thunderstorm with light drizzle' 'light snow'\n",
            " 'thunderstorm with drizzle' 'smoke' 'shower drizzle' 'light shower snow'\n",
            " 'sleet']\n",
            "date_time\n",
            "['2012-10-02 09:00:00' '2012-10-02 10:00:00' '2012-10-02 11:00:00' ...\n",
            " '2018-09-30 21:00:00' '2018-09-30 22:00:00' '2018-09-30 23:00:00']\n",
            "traffic_volume\n",
            "[5545 4516 4767 ... 6623 1207 2346]\n"
          ]
        }
      ]
    },
    {
      "cell_type": "code",
      "source": [
        "# Stats about each numeric feature\n",
        "print(traffic_df.describe())"
      ],
      "metadata": {
        "colab": {
          "base_uri": "https://localhost:8080/"
        },
        "id": "5PTJ50HGeA31",
        "outputId": "555e2ce3-0ad4-43e2-9daa-29db45117edd"
      },
      "execution_count": 326,
      "outputs": [
        {
          "output_type": "stream",
          "name": "stdout",
          "text": [
            "               temp       rain_1h       snow_1h    clouds_all  traffic_volume\n",
            "count  48204.000000  48204.000000  48204.000000  48204.000000    48204.000000\n",
            "mean     281.205870      0.334264      0.000222     49.362231     3259.818355\n",
            "std       13.338232     44.789133      0.008168     39.015750     1986.860670\n",
            "min        0.000000      0.000000      0.000000      0.000000        0.000000\n",
            "25%      272.160000      0.000000      0.000000      1.000000     1193.000000\n",
            "50%      282.450000      0.000000      0.000000     64.000000     3380.000000\n",
            "75%      291.806000      0.000000      0.000000     90.000000     4933.000000\n",
            "max      310.070000   9831.300000      0.510000    100.000000     7280.000000\n"
          ]
        }
      ]
    },
    {
      "cell_type": "code",
      "source": [
        "# Stats about each categorical feature\n",
        "print(traffic_df.describe(include='object'))"
      ],
      "metadata": {
        "colab": {
          "base_uri": "https://localhost:8080/"
        },
        "id": "b1xvCOrZeYZm",
        "outputId": "1caf0d7c-c87c-4e35-969c-dfbecde5559c"
      },
      "execution_count": 327,
      "outputs": [
        {
          "output_type": "stream",
          "name": "stdout",
          "text": [
            "       holiday weather_main weather_description            date_time\n",
            "count    48204        48204               48204                48204\n",
            "unique      12           11                  38                40575\n",
            "top       None       Clouds        sky is clear  2013-05-19 10:00:00\n",
            "freq     48143        15164               11665                    6\n"
          ]
        }
      ]
    },
    {
      "cell_type": "markdown",
      "source": [
        "* holiday is very imbalanced towards no holiday\n",
        "* holiday and weather_main have a small amount of categories making One-Hot Encoding a viable option for some models (maybe also weather_description)\n",
        "* For date_time, second is most likely unimportant; note to compare model performance including second vs. excluding second\n",
        "* Above comment may also be applicable for minute\n",
        "* date_time may be tricky for parametric models as it requires nuance for analysis\n"
      ],
      "metadata": {
        "id": "jUwPZLu6eqIg"
      }
    },
    {
      "cell_type": "markdown",
      "source": [
        "### Feature Conclusions\n",
        "* holiday- Categorical, US National holidays plus regional holidays\n",
        "* temp- Numeric, Average temp in kelvin\n",
        "* rain_1h- Numeric, Amount in mm of rain that occurred in the hour\n",
        "* snow_1h- Numeric, Amount in mm of snow that occurred in the hour\n",
        "* clouds_all- Numeric, Percentage of cloud cover\n",
        "* weather_main- Categorical, Short textual description of the current weather\n",
        "* weather_description- Categorical, Longer textual description of the current weather\n",
        "* date_time- DateTime, Hour of the data collected in local CST time\n",
        "* traffic_volume- Numeric Hourly I-94 ATR 301 reported westbound traffic volume\n",
        "\n",
        "\n",
        "\n",
        "### Other Data Info\n",
        "* Shape = (48204, 9)\n",
        "* Traffic is westbound\n",
        "* Traffic is between Saint Paul and Minneapolis\n",
        "* Hourly Interstate 94 Westbound traffic volume for MN DoT ATR station 301, roughly midway between Minneapolis and St Paul, MN. Hourly weather features and holidays included for impacts on traffic volume. Collected from 2012-2018."
      ],
      "metadata": {
        "id": "aorc6XXlWekY"
      }
    },
    {
      "cell_type": "markdown",
      "source": [
        "# EDA\n",
        "* What are the best weather indicators of heavy traffic?\n",
        "* During which time of day is traffic the heaviest (hours and day vs. night)?\n",
        "* During which time of the year if traffic the heaviest (months and winter vs. summer)?"
      ],
      "metadata": {
        "id": "mpR2Ozv9ZT8-"
      }
    },
    {
      "cell_type": "markdown",
      "source": [
        "# Data Visualization"
      ],
      "metadata": {
        "id": "-So7BPSLay-7"
      }
    },
    {
      "cell_type": "markdown",
      "source": [
        "* Visualize numeric data\n",
        "* Eliminate skew in features and target (balance dataset)\n",
        "* Ensure normality and unimodality in numerical features"
      ],
      "metadata": {
        "id": "WFM1Xh9ohFfg"
      }
    },
    {
      "cell_type": "markdown",
      "source": [
        "### traffic_volume"
      ],
      "metadata": {
        "id": "GdUIF5tptgS3"
      }
    },
    {
      "cell_type": "code",
      "source": [
        "# Traffic volume distribution\n",
        "plt.hist(traffic_df['traffic_volume'], bins=30)\n",
        "\n",
        "# Labels\n",
        "plt.xlabel('Number of Cars')\n",
        "plt.ylabel('Instances')\n",
        "\n",
        "# Arange ticks\n",
        "plt.yticks(np.arange(0,6000,500))\n",
        "plt.xticks(np.arange(0,8000,1000))\n",
        "\n",
        "# Manipulate figure size\n",
        "plt.figure(figsize=(10,6))\n",
        "\n",
        "# Show plot\n",
        "plt.show()"
      ],
      "metadata": {
        "colab": {
          "base_uri": "https://localhost:8080/",
          "height": 466
        },
        "id": "CXPg8mmdbIL6",
        "outputId": "3e412be6-9d39-4452-bf68-72c789b99847"
      },
      "execution_count": 328,
      "outputs": [
        {
          "output_type": "display_data",
          "data": {
            "text/plain": [
              "<Figure size 640x480 with 1 Axes>"
            ],
            "image/png": "[encoded data removed]"
          },
          "metadata": {}
        },
        {
          "output_type": "display_data",
          "data": {
            "text/plain": [
              "<Figure size 1000x600 with 0 Axes>"
            ]
          },
          "metadata": {}
        }
      ]
    },
    {
      "cell_type": "markdown",
      "source": [
        "### clouds_all"
      ],
      "metadata": {
        "id": "uFwMnHnbtpKF"
      }
    },
    {
      "cell_type": "code",
      "source": [
        "# Rain volume distribution\n",
        "plt.hist(traffic_df['clouds_all'], bins=25)\n",
        "\n",
        "# Labels\n",
        "plt.xlabel('Cloud Quantity')\n",
        "plt.ylabel('Instances')\n",
        "\n",
        "# Manipulate figure size\n",
        "plt.figure(figsize=(10,6))\n",
        "\n",
        "# Show plot\n",
        "plt.show()"
      ],
      "metadata": {
        "colab": {
          "base_uri": "https://localhost:8080/",
          "height": 466
        },
        "id": "HaYJVulzrr-V",
        "outputId": "980af5bc-6853-4f54-cdc8-92dd58d6de23"
      },
      "execution_count": 329,
      "outputs": [
        {
          "output_type": "display_data",
          "data": {
            "text/plain": [
              "<Figure size 640x480 with 1 Axes>"
            ],
            "image/png": "[encoded data removed]"
          },
          "metadata": {}
        },
        {
          "output_type": "display_data",
          "data": {
            "text/plain": [
              "<Figure size 1000x600 with 0 Axes>"
            ]
          },
          "metadata": {}
        }
      ]
    },
    {
      "cell_type": "markdown",
      "source": [
        "### temp"
      ],
      "metadata": {
        "id": "eT2V9_PHtsTy"
      }
    },
    {
      "cell_type": "code",
      "source": [
        "# Rain volume distribution\n",
        "plt.hist(traffic_df['temp'], bins=25)\n",
        "\n",
        "# Labels\n",
        "plt.xlabel('Temperature (K)')\n",
        "plt.ylabel('Instances')\n",
        "\n",
        "# Manipulate figure size\n",
        "plt.figure(figsize=(10,6))\n",
        "\n",
        "# Show plot\n",
        "plt.show()"
      ],
      "metadata": {
        "colab": {
          "base_uri": "https://localhost:8080/",
          "height": 466
        },
        "id": "kGNhxqcKrx2c",
        "outputId": "fc7dffa5-f965-47f9-ad3b-b454dc14fdcf"
      },
      "execution_count": 330,
      "outputs": [
        {
          "output_type": "display_data",
          "data": {
            "text/plain": [
              "<Figure size 640x480 with 1 Axes>"
            ],
            "image/png": "[encoded data removed]"
          },
          "metadata": {}
        },
        {
          "output_type": "display_data",
          "data": {
            "text/plain": [
              "<Figure size 1000x600 with 0 Axes>"
            ]
          },
          "metadata": {}
        }
      ]
    },
    {
      "cell_type": "markdown",
      "source": [
        "* Temp appears normal but has some skew due to very low values\n",
        "* Outlier removal is permitted here"
      ],
      "metadata": {
        "id": "cIfZULKLsE5L"
      }
    },
    {
      "cell_type": "code",
      "source": [
        "# Removing rain_1h outliers\n",
        "traffic_df=traffic_df[(np.abs(stats.zscore(traffic_df['temp'])) < 3)]\n",
        "\n",
        "# Reset index\n",
        "traffic_df=traffic_df.reset_index()"
      ],
      "metadata": {
        "id": "CaLZWoBKsXVQ"
      },
      "execution_count": 331,
      "outputs": []
    },
    {
      "cell_type": "code",
      "source": [
        "# Rain volume distribution\n",
        "plt.hist(traffic_df['temp'], bins=25)\n",
        "\n",
        "# Labels\n",
        "plt.xlabel('Temperature (K)')\n",
        "plt.ylabel('Instances')\n",
        "\n",
        "# Manipulate figure size\n",
        "plt.figure(figsize=(10,6))\n",
        "\n",
        "# Show plot\n",
        "plt.show()"
      ],
      "metadata": {
        "colab": {
          "base_uri": "https://localhost:8080/",
          "height": 466
        },
        "id": "NHevuN-9scD1",
        "outputId": "b73b4208-a865-4136-a24d-af7b35846512"
      },
      "execution_count": 332,
      "outputs": [
        {
          "output_type": "display_data",
          "data": {
            "text/plain": [
              "<Figure size 640x480 with 1 Axes>"
            ],
            "image/png": "[encoded data removed]"
          },
          "metadata": {}
        },
        {
          "output_type": "display_data",
          "data": {
            "text/plain": [
              "<Figure size 1000x600 with 0 Axes>"
            ]
          },
          "metadata": {}
        }
      ]
    },
    {
      "cell_type": "markdown",
      "source": [
        "### rain_1h"
      ],
      "metadata": {
        "id": "LhrZiG-tt1U9"
      }
    },
    {
      "cell_type": "code",
      "source": [
        "# Rain volume distribution\n",
        "plt.hist(traffic_df['rain_1h'], bins=25)\n",
        "\n",
        "# Labels\n",
        "plt.xlabel('Quantity of Rain')\n",
        "plt.ylabel('Instances')\n",
        "\n",
        "# Manipulate figure size\n",
        "plt.figure(figsize=(10,6))\n",
        "\n",
        "# Show plot\n",
        "plt.show()"
      ],
      "metadata": {
        "colab": {
          "base_uri": "https://localhost:8080/",
          "height": 467
        },
        "id": "Ep0aeXO9rsPa",
        "outputId": "c2edf2fd-8ffc-4816-d13b-c0ac3a7ad3bb"
      },
      "execution_count": 333,
      "outputs": [
        {
          "output_type": "display_data",
          "data": {
            "text/plain": [
              "<Figure size 640x480 with 1 Axes>"
            ],
            "image/png": "[encoded data removed]"
          },
          "metadata": {}
        },
        {
          "output_type": "display_data",
          "data": {
            "text/plain": [
              "<Figure size 1000x600 with 0 Axes>"
            ]
          },
          "metadata": {}
        }
      ]
    },
    {
      "cell_type": "code",
      "source": [
        "# Rain volume distribution\n",
        "plt.hist(traffic_df['rain_1h'], bins=25)\n",
        "\n",
        "# Labels\n",
        "plt.xlabel('Quantity of Rain')\n",
        "plt.ylabel('Instances')\n",
        "\n",
        "# Manipulate figure size\n",
        "plt.figure(figsize=(10,6))\n",
        "\n",
        "# Show plot\n",
        "plt.show()"
      ],
      "metadata": {
        "id": "1HIugpBchLLM",
        "colab": {
          "base_uri": "https://localhost:8080/",
          "height": 467
        },
        "outputId": "150b6ac3-726c-4bad-a1c4-5aec71acf7ab"
      },
      "execution_count": 334,
      "outputs": [
        {
          "output_type": "display_data",
          "data": {
            "text/plain": [
              "<Figure size 640x480 with 1 Axes>"
            ],
            "image/png": "[encoded data removed]"
          },
          "metadata": {}
        },
        {
          "output_type": "display_data",
          "data": {
            "text/plain": [
              "<Figure size 1000x600 with 0 Axes>"
            ]
          },
          "metadata": {}
        }
      ]
    },
    {
      "cell_type": "markdown",
      "source": [
        "* Outliers appear to be heavily skewing the rain data\n",
        "* Due to there being a small amount of outliers and large amount of data, removing the outliers is a viable choise"
      ],
      "metadata": {
        "id": "d_DHPvgXdLLO"
      }
    },
    {
      "cell_type": "code",
      "source": [
        "# Removing rain_1h outliers\n",
        "traffic_df=traffic_df[(np.abs(stats.zscore(traffic_df['rain_1h'])) < 1)]\n",
        "\n",
        "# Reset index\n",
        "traffic_df=traffic_df.reset_index()"
      ],
      "metadata": {
        "id": "fCFSGpKPddgO"
      },
      "execution_count": 335,
      "outputs": []
    },
    {
      "cell_type": "code",
      "source": [
        "# Getting statistical data about rain_1h\n",
        "print(traffic_df['rain_1h'].describe())"
      ],
      "metadata": {
        "colab": {
          "base_uri": "https://localhost:8080/"
        },
        "id": "9ihNb-gFfFPk",
        "outputId": "9d6bbbf1-eb7b-4e2c-8102-ee42c5a923c0"
      },
      "execution_count": 336,
      "outputs": [
        {
          "output_type": "stream",
          "name": "stdout",
          "text": [
            "count    48192.000000\n",
            "mean         0.129190\n",
            "std          0.971121\n",
            "min          0.000000\n",
            "25%          0.000000\n",
            "50%          0.000000\n",
            "75%          0.000000\n",
            "max         44.450000\n",
            "Name: rain_1h, dtype: float64\n"
          ]
        }
      ]
    },
    {
      "cell_type": "code",
      "source": [
        "# Rain volume distribution\n",
        "plt.hist(traffic_df['rain_1h'], bins=25)\n",
        "\n",
        "# Labels\n",
        "plt.xlabel('Quantity of Rain')\n",
        "plt.ylabel('Instances')\n",
        "\n",
        "# Manipulate figure size\n",
        "plt.figure(figsize=(10,6))\n",
        "\n",
        "# Show plot\n",
        "plt.show()"
      ],
      "metadata": {
        "colab": {
          "base_uri": "https://localhost:8080/",
          "height": 466
        },
        "id": "SemLlkh3eqXc",
        "outputId": "dca8c230-e9ad-44a1-d051-83bb7725ddf5"
      },
      "execution_count": 337,
      "outputs": [
        {
          "output_type": "display_data",
          "data": {
            "text/plain": [
              "<Figure size 640x480 with 1 Axes>"
            ],
            "image/png": "[encoded data removed]"
          },
          "metadata": {}
        },
        {
          "output_type": "display_data",
          "data": {
            "text/plain": [
              "<Figure size 1000x600 with 0 Axes>"
            ]
          },
          "metadata": {}
        }
      ]
    },
    {
      "cell_type": "markdown",
      "source": [
        "* rain_1h is still heavily right skewed, but taking away more data may degrade the model's ability to make predictions in high rain_1h cases"
      ],
      "metadata": {
        "id": "ZQpKsXVgg65r"
      }
    },
    {
      "cell_type": "code",
      "source": [
        "# Testing skew rain_1h\n",
        "print(traffic_df.skew(axis=0, numeric_only='True'))"
      ],
      "metadata": {
        "colab": {
          "base_uri": "https://localhost:8080/"
        },
        "id": "L9zcK5X1ih6J",
        "outputId": "e91d6287-bf2b-4d91-9a3f-d0d907d14f17"
      },
      "execution_count": 338,
      "outputs": [
        {
          "output_type": "stream",
          "name": "stdout",
          "text": [
            "level_0           -0.000037\n",
            "index             -0.000442\n",
            "temp              -0.364178\n",
            "rain_1h           16.098725\n",
            "snow_1h           48.361457\n",
            "clouds_all        -0.197639\n",
            "traffic_volume    -0.089640\n",
            "dtype: float64\n"
          ]
        }
      ]
    },
    {
      "cell_type": "markdown",
      "source": [
        "* rain_1h, snow_1h are both heavily skewed features\n",
        "* temp is a moderately skewed feature\n",
        "* I will attempt to rectify all of them\n",
        "* the skew for temp is fundementally different that for rain_1h and snow_1h\n",
        "* rain_1h and snow_1h are both nonnegative, continuous variables that are right skewed and are highly concentrated/clumped at 0"
      ],
      "metadata": {
        "id": "iOCgidycjqzg"
      }
    },
    {
      "cell_type": "code",
      "source": [
        "traffic_df['rain_1h']=traffic_df['rain_1h'].apply(lambda x: x+.1)\n",
        "traffic_df['rain_1h'] = stats.boxcox(traffic_df['rain_1h'])[0]"
      ],
      "metadata": {
        "id": "G0BB4hOEj9cb"
      },
      "execution_count": 339,
      "outputs": []
    },
    {
      "cell_type": "markdown",
      "source": [
        "### snow_1h"
      ],
      "metadata": {
        "id": "xP-Bk6MFt_hW"
      }
    }
  ]
}