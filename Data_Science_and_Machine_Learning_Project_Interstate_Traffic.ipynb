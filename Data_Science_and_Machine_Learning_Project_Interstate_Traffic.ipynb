{
  "nbformat": 4,
  "nbformat_minor": 0,
  "metadata": {
    "colab": {
      "provenance": [],
      "authorship_tag": "ABX9TyPd1dbacf04j0ATRoqJDeKB",
      "include_colab_link": true
    },
    "kernelspec": {
      "name": "python3",
      "display_name": "Python 3"
    },
    "language_info": {
      "name": "python"
    }
  },
  "cells": [
    {
      "cell_type": "markdown",
      "metadata": {
        "id": "view-in-github",
        "colab_type": "text"
      },
      "source": [
        "<a href=\"https://colab.research.google.com/github/Supersamk13/Machine-Learning-and-Data-Science/blob/main/Data_Science_and_Machine_Learning_Project_Interstate_Traffic.ipynb\" target=\"_parent\"><img src=\"https://colab.research.google.com/assets/colab-badge.svg\" alt=\"Open In Colab\"/></a>"
      ]
    },
    {
      "cell_type": "markdown",
      "source": [
        "# Introduction\n",
        "\n",
        "Hello, my name is Samuel Kinstlinger. Over the past couple years I have been working on growing my skillset is the fields of data science and machine learing. This is a project I completed early on in my endeavor to practice data cleaning, data preprocessing, data visualization, and implementing regression models. I will be using a data set from Kaggle that gives information on the weather, date and time, and traffic volume."
      ],
      "metadata": {
        "id": "iz_FyyVeRcAF"
      }
    },
    {
      "cell_type": "markdown",
      "source": [
        "### Goals\n",
        "* Answer important questions about interstate traffic and the underlying related factors\n",
        "* Implement and tune machine learning models to best predict interstate traffic volume"
      ],
      "metadata": {
        "id": "2SIDXVsVSJo-"
      }
    },
    {
      "cell_type": "markdown",
      "source": [
        "### Outline\n",
        "* Getting to Know the Data\n",
        "* EDA\n",
        "* Data Visualization\n",
        "* Data Cleaning and Preprocessing\n",
        "* Machine Learning\n",
        "* Conclusion"
      ],
      "metadata": {
        "id": "gVVQ6lMRTG9e"
      }
    },
    {
      "cell_type": "code",
      "source": [
        "# Import modules\n",
        "import numpy as np\n",
        "import pandas as pd\n",
        "import seaborn as sns\n",
        "import matplotlib.pyplot as plt\n",
        "from scipy import stats\n",
        "%matplotlib inline"
      ],
      "metadata": {
        "id": "vK9cu4zUI04A"
      },
      "execution_count": 1080,
      "outputs": []
    },
    {
      "cell_type": "code",
      "source": [
        "# Set up data frame\n",
        "url='https://github.com/Supersamk13/Machine-Learning-and-Data-Science/raw/main/Metro_Interstate_Traffic_Volume%5B1%5D.csv'\n",
        "traffic_df=pd.read_csv(url)"
      ],
      "metadata": {
        "id": "rWfVobREQdvQ"
      },
      "execution_count": 1081,
      "outputs": []
    },
    {
      "cell_type": "markdown",
      "source": [
        "# Getting to Know the Data\n",
        "* Understanding feature data types and information"
      ],
      "metadata": {
        "id": "eVmpwKKuUQNO"
      }
    },
    {
      "cell_type": "code",
      "source": [
        "# Getting to Know the Data\n",
        "print(traffic_df.head())\n",
        "print(traffic_df.tail())"
      ],
      "metadata": {
        "colab": {
          "base_uri": "https://localhost:8080/"
        },
        "id": "LDHveF25Tmh9",
        "outputId": "0ef323f3-ad53-41ff-d7da-0a936d9cda44"
      },
      "execution_count": 1082,
      "outputs": [
        {
          "output_type": "stream",
          "name": "stdout",
          "text": [
            "  holiday    temp  rain_1h  snow_1h  clouds_all weather_main  \\\n",
            "0    None  288.28      0.0      0.0          40       Clouds   \n",
            "1    None  289.36      0.0      0.0          75       Clouds   \n",
            "2    None  289.58      0.0      0.0          90       Clouds   \n",
            "3    None  290.13      0.0      0.0          90       Clouds   \n",
            "4    None  291.14      0.0      0.0          75       Clouds   \n",
            "\n",
            "  weather_description            date_time  traffic_volume  \n",
            "0    scattered clouds  2012-10-02 09:00:00            5545  \n",
            "1       broken clouds  2012-10-02 10:00:00            4516  \n",
            "2     overcast clouds  2012-10-02 11:00:00            4767  \n",
            "3     overcast clouds  2012-10-02 12:00:00            5026  \n",
            "4       broken clouds  2012-10-02 13:00:00            4918  \n",
            "      holiday    temp  rain_1h  snow_1h  clouds_all  weather_main  \\\n",
            "48199    None  283.45      0.0      0.0          75        Clouds   \n",
            "48200    None  282.76      0.0      0.0          90        Clouds   \n",
            "48201    None  282.73      0.0      0.0          90  Thunderstorm   \n",
            "48202    None  282.09      0.0      0.0          90        Clouds   \n",
            "48203    None  282.12      0.0      0.0          90        Clouds   \n",
            "\n",
            "          weather_description            date_time  traffic_volume  \n",
            "48199           broken clouds  2018-09-30 19:00:00            3543  \n",
            "48200         overcast clouds  2018-09-30 20:00:00            2781  \n",
            "48201  proximity thunderstorm  2018-09-30 21:00:00            2159  \n",
            "48202         overcast clouds  2018-09-30 22:00:00            1450  \n",
            "48203         overcast clouds  2018-09-30 23:00:00             954  \n"
          ]
        }
      ]
    },
    {
      "cell_type": "code",
      "source": [
        "print(traffic_df.info())"
      ],
      "metadata": {
        "colab": {
          "base_uri": "https://localhost:8080/"
        },
        "id": "5oEvlRoETzOk",
        "outputId": "1e153294-6751-4aec-8aac-ce77f076061b"
      },
      "execution_count": 1083,
      "outputs": [
        {
          "output_type": "stream",
          "name": "stdout",
          "text": [
            "<class 'pandas.core.frame.DataFrame'>\n",
            "RangeIndex: 48204 entries, 0 to 48203\n",
            "Data columns (total 9 columns):\n",
            " #   Column               Non-Null Count  Dtype  \n",
            "---  ------               --------------  -----  \n",
            " 0   holiday              48204 non-null  object \n",
            " 1   temp                 48204 non-null  float64\n",
            " 2   rain_1h              48204 non-null  float64\n",
            " 3   snow_1h              48204 non-null  float64\n",
            " 4   clouds_all           48204 non-null  int64  \n",
            " 5   weather_main         48204 non-null  object \n",
            " 6   weather_description  48204 non-null  object \n",
            " 7   date_time            48204 non-null  object \n",
            " 8   traffic_volume       48204 non-null  int64  \n",
            "dtypes: float64(3), int64(2), object(4)\n",
            "memory usage: 3.3+ MB\n",
            "None\n"
          ]
        }
      ]
    },
    {
      "cell_type": "markdown",
      "source": [
        "* All data is non-null; no need to fill or remove missing values\n",
        "* If there were missing data, I would either remove it if it was negligible or do some KNN imputation to fill it in otherwise"
      ],
      "metadata": {
        "id": "9aSVn2rOeMDi"
      }
    },
    {
      "cell_type": "code",
      "source": [
        "for index in range(traffic_df.shape[1]):\n",
        "  print(traffic_df.columns[index])\n",
        "  print(traffic_df.iloc[:,index].unique())"
      ],
      "metadata": {
        "colab": {
          "base_uri": "https://localhost:8080/"
        },
        "id": "yuZ43Bp6UAQn",
        "outputId": "bf59af7a-c251-4f37-f397-63033b4e076a"
      },
      "execution_count": 1084,
      "outputs": [
        {
          "output_type": "stream",
          "name": "stdout",
          "text": [
            "holiday\n",
            "['None' 'Columbus Day' 'Veterans Day' 'Thanksgiving Day' 'Christmas Day'\n",
            " 'New Years Day' 'Washingtons Birthday' 'Memorial Day' 'Independence Day'\n",
            " 'State Fair' 'Labor Day' 'Martin Luther King Jr Day']\n",
            "temp\n",
            "[288.28 289.36 289.58 ... 306.08 304.41 304.9 ]\n",
            "rain_1h\n",
            "[0.0000e+00 2.5000e-01 5.7000e-01 3.8000e-01 3.0000e-01 2.9000e-01\n",
            " 4.4000e-01 3.6000e-01 2.1600e+00 3.3900e+00 8.4000e-01 7.6000e-01\n",
            " 5.1000e-01 6.9000e-01 1.0000e+00 1.2900e+00 1.3400e+00 1.8400e+00\n",
            " 1.7000e+00 4.7000e-01 1.4100e+00 1.4400e+00 7.0000e-01 3.1800e+00\n",
            " 6.1000e-01 6.4000e-01 1.0200e+00 5.4200e+00 8.6400e+00 5.7400e+00\n",
            " 4.9800e+00 3.6500e+00 6.8000e-01 4.6000e-01 4.2000e-01 1.5200e+00\n",
            " 8.9000e-01 1.4000e+00 1.2190e+01 2.2900e+00 7.5400e+00 6.9400e+00\n",
            " 1.6380e+01 1.7800e+00 2.5400e+00 9.1400e+00 3.0500e+00 1.6500e+00\n",
            " 4.4450e+01 3.8100e+00 5.8400e+00 3.5600e+00 7.3700e+00 1.3500e+00\n",
            " 1.6000e+01 1.0540e+01 1.2700e+00 5.0800e+00 1.9900e+01 2.5320e+01\n",
            " 2.1420e+01 5.5900e+00 7.1100e+00 5.9700e+00 9.5300e+00 2.0300e+00\n",
            " 5.5630e+01 1.3210e+01 6.6000e+00 5.6000e-01 3.2000e-01 2.3700e+00\n",
            " 3.9800e+00 4.3200e+00 1.9600e+00 1.6800e+00 4.3900e+00 4.2700e+00\n",
            " 1.6600e+00 3.4000e-01 3.5000e-01 1.3900e+00 1.8000e+00 9.1000e-01\n",
            " 1.2100e+00 1.1300e+00 1.0900e+00 5.3000e-01 9.7000e-01 8.5000e-01\n",
            " 1.8800e+01 2.8700e+01 1.4730e+01 4.1000e-01 7.9000e-01 1.0600e+00\n",
            " 9.5000e-01 1.0700e+00 3.7000e-01 8.3000e-01 7.2000e-01 6.7000e-01\n",
            " 1.9100e+00 5.4000e-01 4.8000e-01 4.0000e-01 3.1000e-01 2.8000e-01\n",
            " 2.6000e-01 9.4000e-01 2.0500e+00 1.8700e+00 1.1400e+00 5.9000e-01\n",
            " 5.2000e-01 7.1000e-01 5.8000e-01 6.0000e-01 2.7000e-01 3.3000e-01\n",
            " 1.1100e+00 2.1300e+00 2.1000e+00 1.6300e+00 1.3800e+00 9.6000e-01\n",
            " 8.1000e-01 1.0800e+00 1.7100e+00 2.3500e+00 1.8600e+00 2.1100e+00\n",
            " 2.8600e+00 2.5300e+00 2.8500e+00 2.2100e+00 1.3000e+00 9.2000e-01\n",
            " 1.2000e+00 8.0000e-01 7.8000e-01 8.8000e-01 6.6000e-01 6.2000e-01\n",
            " 9.0000e-01 4.3000e-01 1.1200e+00 1.4600e+00 1.2200e+00 1.0500e+00\n",
            " 2.2200e+00 6.5000e-01 2.3100e+00 3.1700e+00 2.1400e+00 2.3400e+00\n",
            " 1.6100e+00 1.5000e+00 2.6700e+00 5.5800e+00 5.1100e+00 5.1000e+00\n",
            " 4.5300e+00 1.2500e+00 4.5000e+00 3.4700e+00 5.5000e-01 4.5000e-01\n",
            " 2.1800e+00 1.3200e+00 2.8400e+00 3.4100e+00 2.9300e+00 2.8700e+00\n",
            " 2.8000e+00 7.4000e-01 6.3500e+00 4.2900e+00 1.2400e+00 8.7000e-01\n",
            " 7.3900e+00 3.1900e+00 1.8300e+00 2.7900e+00 9.8000e-01 5.0000e-01\n",
            " 7.7000e-01 2.9800e+00 4.7600e+00 4.8900e+00 9.3000e-01 1.2800e+00\n",
            " 4.4500e+00 5.2700e+00 1.1580e+01 7.0200e+00 3.0800e+00 1.9800e+00\n",
            " 1.4700e+00 1.0400e+00 1.3300e+00 4.6600e+00 2.0800e+00 2.2000e+00\n",
            " 3.1200e+00 1.5300e+00 1.8500e+00 3.2500e+00 1.9000e+00 1.2450e+01\n",
            " 2.4100e+00 1.3700e+00 5.4600e+00 2.7800e+00 1.3100e+00 3.4400e+00\n",
            " 2.7500e+00 2.1900e+00 1.5500e+00 1.5900e+00 5.7300e+00 5.9300e+00\n",
            " 6.8900e+00 3.9100e+00 1.8030e+01 4.4300e+00 3.9000e+00 6.4500e+00\n",
            " 5.0200e+00 4.0900e+00 1.7600e+00 1.1900e+00 2.7000e+00 7.7700e+00\n",
            " 4.2100e+00 1.8800e+00 1.7200e+00 1.1000e+00 3.0100e+00 2.1200e+00\n",
            " 8.4000e+00 4.8000e+00 9.9000e+00 6.1000e+00 4.1800e+00 8.6000e-01\n",
            " 1.4900e+00 8.8900e+00 7.3000e-01 1.1590e+01 2.3300e+00 9.4000e+00\n",
            " 3.2000e+00 7.9700e+00 2.3800e+01 1.1780e+01 7.5100e+00 1.5410e+01\n",
            " 3.1300e+00 2.1500e+00 4.5700e+00 9.9100e+00 2.7570e+01 7.2900e+00\n",
            " 1.1500e+00 1.3640e+01 7.2500e+00 5.2500e+00 2.9100e+00 8.0200e+00\n",
            " 2.0240e+01 1.3320e+01 5.5200e+00 1.2700e+01 4.3800e+00 1.0300e+00\n",
            " 3.5400e+00 5.8600e+00 7.8700e+00 6.4700e+00 2.6100e+00 1.6700e+00\n",
            " 1.5600e+00 8.0400e+00 2.5460e+01 3.0900e+00 1.9300e+00 1.5100e+00\n",
            " 3.7400e+00 7.7200e+00 4.6400e+00 2.4900e+00 5.0400e+00 5.9200e+00\n",
            " 5.3600e+00 2.3800e+00 6.3000e-01 3.2800e+00 4.0400e+00 2.6200e+00\n",
            " 3.3000e+00 3.8600e+00 5.6900e+00 2.0600e+00 1.0670e+01 6.0100e+00\n",
            " 2.4000e+00 1.6000e+00 4.0600e+00 5.2100e+00 4.7000e+00 2.9600e+00\n",
            " 1.6900e+00 1.0920e+01 2.6800e+00 1.0050e+01 7.7000e+00 4.0500e+00\n",
            " 3.8000e+00 7.6200e+00 6.4800e+00 9.8313e+03 1.1230e+01 9.4200e+00\n",
            " 1.3460e+01 5.8900e+00 1.6510e+01 1.2830e+01 1.8420e+01 5.0600e+00\n",
            " 1.9500e+00 9.0000e+00 3.9400e+00 8.8600e+00 5.9900e+00 8.0000e+00\n",
            " 3.1750e+01 5.4100e+00 2.0070e+01 1.0160e+01 9.1500e+00 2.3900e+00\n",
            " 3.2700e+00 4.1500e+00 4.7400e+00 3.7500e+00 2.8300e+00 1.5750e+01\n",
            " 3.6400e+00 7.1300e+00 1.1600e+00 7.0500e+00 2.7300e+00 4.0000e+00\n",
            " 2.7600e+00 2.8800e+00 1.8200e+00 5.6200e+00 3.4000e+00 2.9200e+00\n",
            " 3.1000e+00 2.6000e+00 1.4500e+00 2.2600e+00 3.4500e+00 2.4800e+00\n",
            " 5.1200e+00 1.0100e+00 4.7900e+00 5.1900e+00 9.6200e+00 1.0600e+01]\n",
            "snow_1h\n",
            "[0.   0.51 0.32 0.06 0.05 0.21 0.25 0.44 0.13 0.1  0.17 0.08]\n",
            "clouds_all\n",
            "[ 40  75  90   1  20   0 100  92  99  81  50  72  56  57  93  85  68  87\n",
            "  91  96  48  60   8  38  46  98  86  16   6  59  54  89  78  36  17  58\n",
            "  63  42  25  11  13  83  70  84   3  77  88  67  97  62  32   4   5   2\n",
            "  44  24  76  64  80  12]\n",
            "weather_main\n",
            "['Clouds' 'Clear' 'Rain' 'Drizzle' 'Mist' 'Haze' 'Fog' 'Thunderstorm'\n",
            " 'Snow' 'Squall' 'Smoke']\n",
            "weather_description\n",
            "['scattered clouds' 'broken clouds' 'overcast clouds' 'sky is clear'\n",
            " 'few clouds' 'light rain' 'light intensity drizzle' 'mist' 'haze' 'fog'\n",
            " 'proximity shower rain' 'drizzle' 'moderate rain' 'heavy intensity rain'\n",
            " 'proximity thunderstorm' 'thunderstorm with light rain'\n",
            " 'proximity thunderstorm with rain' 'heavy snow' 'heavy intensity drizzle'\n",
            " 'snow' 'thunderstorm with heavy rain' 'freezing rain' 'shower snow'\n",
            " 'light rain and snow' 'light intensity shower rain' 'SQUALLS'\n",
            " 'thunderstorm with rain' 'proximity thunderstorm with drizzle'\n",
            " 'thunderstorm' 'Sky is Clear' 'very heavy rain'\n",
            " 'thunderstorm with light drizzle' 'light snow'\n",
            " 'thunderstorm with drizzle' 'smoke' 'shower drizzle' 'light shower snow'\n",
            " 'sleet']\n",
            "date_time\n",
            "['2012-10-02 09:00:00' '2012-10-02 10:00:00' '2012-10-02 11:00:00' ...\n",
            " '2018-09-30 21:00:00' '2018-09-30 22:00:00' '2018-09-30 23:00:00']\n",
            "traffic_volume\n",
            "[5545 4516 4767 ... 6623 1207 2346]\n"
          ]
        }
      ]
    },
    {
      "cell_type": "code",
      "source": [
        "# Stats about each numeric feature\n",
        "print(traffic_df.describe())"
      ],
      "metadata": {
        "colab": {
          "base_uri": "https://localhost:8080/"
        },
        "id": "5PTJ50HGeA31",
        "outputId": "5c41f750-3a10-4945-e69f-da825c704288"
      },
      "execution_count": 1085,
      "outputs": [
        {
          "output_type": "stream",
          "name": "stdout",
          "text": [
            "               temp       rain_1h       snow_1h    clouds_all  traffic_volume\n",
            "count  48204.000000  48204.000000  48204.000000  48204.000000    48204.000000\n",
            "mean     281.205870      0.334264      0.000222     49.362231     3259.818355\n",
            "std       13.338232     44.789133      0.008168     39.015750     1986.860670\n",
            "min        0.000000      0.000000      0.000000      0.000000        0.000000\n",
            "25%      272.160000      0.000000      0.000000      1.000000     1193.000000\n",
            "50%      282.450000      0.000000      0.000000     64.000000     3380.000000\n",
            "75%      291.806000      0.000000      0.000000     90.000000     4933.000000\n",
            "max      310.070000   9831.300000      0.510000    100.000000     7280.000000\n"
          ]
        }
      ]
    },
    {
      "cell_type": "code",
      "source": [
        "# Stats about each categorical feature\n",
        "print(traffic_df.describe(include='object'))"
      ],
      "metadata": {
        "colab": {
          "base_uri": "https://localhost:8080/"
        },
        "id": "b1xvCOrZeYZm",
        "outputId": "c7e6f014-dcec-4907-e8d4-e5fdeffb03a3"
      },
      "execution_count": 1086,
      "outputs": [
        {
          "output_type": "stream",
          "name": "stdout",
          "text": [
            "       holiday weather_main weather_description            date_time\n",
            "count    48204        48204               48204                48204\n",
            "unique      12           11                  38                40575\n",
            "top       None       Clouds        sky is clear  2013-05-19 10:00:00\n",
            "freq     48143        15164               11665                    6\n"
          ]
        }
      ]
    },
    {
      "cell_type": "markdown",
      "source": [
        "* holiday is very imbalanced towards no holiday\n",
        "* holiday and weather_main have a small amount of categories making One-Hot Encoding a viable option for some models (maybe also weather_description)\n",
        "* For date_time, second is most likely unimportant; note to compare model performance including second vs. excluding second\n",
        "* Above comment may also be applicable for minute\n",
        "* date_time may be tricky for parametric models as it requires nuance for analysis\n"
      ],
      "metadata": {
        "id": "jUwPZLu6eqIg"
      }
    },
    {
      "cell_type": "markdown",
      "source": [
        "### Feature Conclusions\n",
        "* holiday- Categorical, US National holidays plus regional holidays\n",
        "* temp- Numeric, Average temp in kelvin\n",
        "* rain_1h- Numeric, Amount in mm of rain that occurred in the hour\n",
        "* snow_1h- Numeric, Amount in mm of snow that occurred in the hour\n",
        "* clouds_all- Numeric, Percentage of cloud cover\n",
        "* weather_main- Categorical, Short textual description of the current weather\n",
        "* weather_description- Categorical, Longer textual description of the current weather\n",
        "* date_time- DateTime, Hour of the data collected in local CST time\n",
        "* traffic_volume- Numeric Hourly I-94 ATR 301 reported westbound traffic volume\n",
        "\n",
        "\n",
        "\n",
        "### Other Data Info\n",
        "* Shape = (48204, 9)\n",
        "* Traffic is westbound\n",
        "* Traffic is between Saint Paul and Minneapolis\n",
        "* Hourly Interstate 94 Westbound traffic volume for MN DoT ATR station 301, roughly midway between Minneapolis and St Paul, MN. Hourly weather features and holidays included for impacts on traffic volume. Collected from 2012-2018."
      ],
      "metadata": {
        "id": "aorc6XXlWekY"
      }
    },
    {
      "cell_type": "markdown",
      "source": [
        "# EDA\n",
        "* What are the best weather indicators of heavy traffic?\n",
        "* During which time of day is traffic the heaviest (hours and day vs. night)?\n",
        "* During which time of the year if traffic the heaviest (months and winter vs. summer)?\n",
        "* Which holidays lead to the most traffic?\n",
        "* How has traffic volume changed over the years?\n",
        "* Which day(s) of the week have the most and least traffic?"
      ],
      "metadata": {
        "id": "mpR2Ozv9ZT8-"
      }
    },
    {
      "cell_type": "markdown",
      "source": [
        "# Data Visualization and Pre-Processing"
      ],
      "metadata": {
        "id": "-So7BPSLay-7"
      }
    },
    {
      "cell_type": "markdown",
      "source": [
        "## Numeric Data"
      ],
      "metadata": {
        "id": "NQ1BoMlrrNxc"
      }
    },
    {
      "cell_type": "markdown",
      "source": [
        "* Visualize numeric data\n",
        "* Describe each data statistically\n",
        "* Eliminate outliers (use boxplot and pandas statistical describe function as metrics)\n",
        "* Eliminate skew in numerical features and target (use histogram, pandas statistical describe function, and pandas skew function as metrics)\n",
        "* Finally normalize each numerical feature"
      ],
      "metadata": {
        "id": "WFM1Xh9ohFfg"
      }
    },
    {
      "cell_type": "markdown",
      "source": [
        "I am making each data visualization plot to help me in data preprocessing and feature engineering. I would make them significantly more user-friendly and communication-oriented if they were meant to be presented or shown to those who are not very familiar with the data."
      ],
      "metadata": {
        "id": "d0rp3WqxxN5t"
      }
    },
    {
      "cell_type": "markdown",
      "source": [
        "* rain_1h, snow_1h are both heavily skewed features\n",
        "* temp is a moderately skewed feature\n",
        "* I will attempt to rectify all of them\n",
        "* the skew for temp is fundementally different that for rain_1h and snow_1h\n",
        "* rain_1h and snow_1h are both nonnegative, continuous variables that are right skewed and are highly concentrated/clumped at 0"
      ],
      "metadata": {
        "id": "pkfBPegofowD"
      }
    },
    {
      "cell_type": "markdown",
      "source": [
        "## Remove Outliers"
      ],
      "metadata": {
        "id": "uqNOHt93qiXt"
      }
    },
    {
      "cell_type": "markdown",
      "source": [
        "### traffic_volume"
      ],
      "metadata": {
        "id": "8M6-G_PEqm50"
      }
    },
    {
      "cell_type": "code",
      "source": [
        "# traffic_volume boxplot\n",
        "plt.boxplot(traffic_df['traffic_volume'])\n",
        "\n",
        "# Add labels\n",
        "plt.title('Boxplot of traffic_volume')\n",
        "plt.ylabel('traffic_volume')\n",
        "\n",
        "plt.show()"
      ],
      "metadata": {
        "colab": {
          "base_uri": "https://localhost:8080/",
          "height": 452
        },
        "id": "RVUcya9Tq8RU",
        "outputId": "e61f40d4-04f2-4502-ceba-1176d0282413"
      },
      "execution_count": 1087,
      "outputs": [
        {
          "output_type": "display_data",
          "data": {
            "text/plain": [
              "<Figure size 640x480 with 1 Axes>"
            ],
            "image/png": "[encoded data removed]"
          },
          "metadata": {}
        }
      ]
    },
    {
      "cell_type": "code",
      "source": [
        "# Stats about each numeric feature\n",
        "print(traffic_df['traffic_volume'].describe())"
      ],
      "metadata": {
        "colab": {
          "base_uri": "https://localhost:8080/"
        },
        "id": "7b2UxylDrWgU",
        "outputId": "443fcd6f-2b3f-46ba-d6f8-b1df73d51f81"
      },
      "execution_count": 1088,
      "outputs": [
        {
          "output_type": "stream",
          "name": "stdout",
          "text": [
            "count    48204.000000\n",
            "mean      3259.818355\n",
            "std       1986.860670\n",
            "min          0.000000\n",
            "25%       1193.000000\n",
            "50%       3380.000000\n",
            "75%       4933.000000\n",
            "max       7280.000000\n",
            "Name: traffic_volume, dtype: float64\n"
          ]
        }
      ]
    },
    {
      "cell_type": "markdown",
      "source": [
        "No apparent outliers"
      ],
      "metadata": {
        "id": "lbWVLGl6sGQR"
      }
    },
    {
      "cell_type": "markdown",
      "source": [
        "### temp"
      ],
      "metadata": {
        "id": "wOeRj8tAqp3z"
      }
    },
    {
      "cell_type": "code",
      "source": [
        "# traffic_volume boxplot\n",
        "plt.boxplot(traffic_df['temp'])\n",
        "\n",
        "# Add labels\n",
        "plt.title('Boxplot of temp (K)')\n",
        "plt.ylabel('temp (K)')\n",
        "\n",
        "plt.show()"
      ],
      "metadata": {
        "colab": {
          "base_uri": "https://localhost:8080/",
          "height": 452
        },
        "id": "LJVgSHsmrERe",
        "outputId": "2fadf91e-6ce2-40fa-83e3-45a431b8e997"
      },
      "execution_count": 1089,
      "outputs": [
        {
          "output_type": "display_data",
          "data": {
            "text/plain": [
              "<Figure size 640x480 with 1 Axes>"
            ],
            "image/png": "[encoded data removed]"
          },
          "metadata": {}
        }
      ]
    },
    {
      "cell_type": "code",
      "source": [
        "# Stats about each numeric feature\n",
        "print(traffic_df['temp'].describe())"
      ],
      "metadata": {
        "colab": {
          "base_uri": "https://localhost:8080/"
        },
        "id": "HNEX3WQfrXJo",
        "outputId": "421073f8-6ad9-42cc-8bec-48d03699c92f"
      },
      "execution_count": 1090,
      "outputs": [
        {
          "output_type": "stream",
          "name": "stdout",
          "text": [
            "count    48204.000000\n",
            "mean       281.205870\n",
            "std         13.338232\n",
            "min          0.000000\n",
            "25%        272.160000\n",
            "50%        282.450000\n",
            "75%        291.806000\n",
            "max        310.070000\n",
            "Name: temp, dtype: float64\n"
          ]
        }
      ]
    },
    {
      "cell_type": "markdown",
      "source": [
        "Remove outlier at 0 (most likely false entry/mistake)"
      ],
      "metadata": {
        "id": "dI0JUnDjsNzo"
      }
    },
    {
      "cell_type": "code",
      "source": [
        "# Remove outliers\n",
        "traffic_df=traffic_df[np.absolute(stats.zscore(traffic_df['temp']))<3]\n",
        "\n",
        "# Reset index\n",
        "traffic_df=traffic_df.reset_index()"
      ],
      "metadata": {
        "id": "IYQ3O-DGsNJg"
      },
      "execution_count": 1091,
      "outputs": []
    },
    {
      "cell_type": "markdown",
      "source": [
        "Recheck data"
      ],
      "metadata": {
        "id": "5XHu_LAgs_w7"
      }
    },
    {
      "cell_type": "code",
      "source": [
        "# traffic_volume boxplot\n",
        "plt.boxplot(traffic_df['temp'])\n",
        "\n",
        "# Add labels\n",
        "plt.title('Boxplot of temp (K)')\n",
        "plt.ylabel('temp (K)')\n",
        "\n",
        "plt.show()"
      ],
      "metadata": {
        "colab": {
          "base_uri": "https://localhost:8080/",
          "height": 452
        },
        "id": "4dUpVWlMtBg3",
        "outputId": "e7374328-2e45-4846-a171-d1328755d10d"
      },
      "execution_count": 1092,
      "outputs": [
        {
          "output_type": "display_data",
          "data": {
            "text/plain": [
              "<Figure size 640x480 with 1 Axes>"
            ],
            "image/png": "[encoded data removed]"
          },
          "metadata": {}
        }
      ]
    },
    {
      "cell_type": "code",
      "source": [
        "# Stats about each numeric feature\n",
        "print(traffic_df['temp'].describe())"
      ],
      "metadata": {
        "colab": {
          "base_uri": "https://localhost:8080/"
        },
        "id": "3wB8UnUktDP2",
        "outputId": "fffefd63-fcb4-4d3b-ede7-7ce0a0003420"
      },
      "execution_count": 1093,
      "outputs": [
        {
          "output_type": "stream",
          "name": "stdout",
          "text": [
            "count    48194.000000\n",
            "mean       281.264219\n",
            "std         12.709587\n",
            "min        243.390000\n",
            "25%        272.182500\n",
            "50%        282.460000\n",
            "75%        291.810000\n",
            "max        310.070000\n",
            "Name: temp, dtype: float64\n"
          ]
        }
      ]
    },
    {
      "cell_type": "markdown",
      "source": [
        "No apparent outliers"
      ],
      "metadata": {
        "id": "N2NLGxDDtKPg"
      }
    },
    {
      "cell_type": "markdown",
      "source": [
        "### clouds_all"
      ],
      "metadata": {
        "id": "psjirETOqsaM"
      }
    },
    {
      "cell_type": "code",
      "source": [
        "# traffic_volume boxplot\n",
        "plt.boxplot(traffic_df['clouds_all'])\n",
        "\n",
        "# Add labels\n",
        "plt.title('Boxplot of clouds_all')\n",
        "plt.ylabel('clouds_all')\n",
        "\n",
        "plt.show()"
      ],
      "metadata": {
        "colab": {
          "base_uri": "https://localhost:8080/",
          "height": 452
        },
        "id": "bzjYFCf-rAiy",
        "outputId": "91299425-2183-46d4-fa70-ebb215995e06"
      },
      "execution_count": 1094,
      "outputs": [
        {
          "output_type": "display_data",
          "data": {
            "text/plain": [
              "<Figure size 640x480 with 1 Axes>"
            ],
            "image/png": "[encoded data removed]"
          },
          "metadata": {}
        }
      ]
    },
    {
      "cell_type": "code",
      "source": [
        "# Stats about each numeric feature\n",
        "print(traffic_df['clouds_all'].describe())"
      ],
      "metadata": {
        "colab": {
          "base_uri": "https://localhost:8080/"
        },
        "id": "5B0hT0jTrXp8",
        "outputId": "6ec51c60-1b87-434d-a81a-199cd500a77e"
      },
      "execution_count": 1095,
      "outputs": [
        {
          "output_type": "stream",
          "name": "stdout",
          "text": [
            "count    48194.000000\n",
            "mean        49.372474\n",
            "std         39.013317\n",
            "min          0.000000\n",
            "25%          1.000000\n",
            "50%         64.000000\n",
            "75%         90.000000\n",
            "max        100.000000\n",
            "Name: clouds_all, dtype: float64\n"
          ]
        }
      ]
    },
    {
      "cell_type": "markdown",
      "source": [
        "No apparent outliers"
      ],
      "metadata": {
        "id": "g_aepIVWtPBq"
      }
    },
    {
      "cell_type": "markdown",
      "source": [
        "### rain_1h"
      ],
      "metadata": {
        "id": "uSgHwt9Uqvot"
      }
    },
    {
      "cell_type": "code",
      "source": [
        "# traffic_volume boxplot\n",
        "plt.boxplot(traffic_df['rain_1h'])\n",
        "\n",
        "# Add labels\n",
        "plt.title('Boxplot of rain_1h')\n",
        "plt.ylabel('rain_1h')\n",
        "\n",
        "plt.show()"
      ],
      "metadata": {
        "colab": {
          "base_uri": "https://localhost:8080/",
          "height": 452
        },
        "id": "_fVHhloyrG2i",
        "outputId": "42544a22-0a7c-40a4-fba6-8d9756aac24d"
      },
      "execution_count": 1096,
      "outputs": [
        {
          "output_type": "display_data",
          "data": {
            "text/plain": [
              "<Figure size 640x480 with 1 Axes>"
            ],
            "image/png": "[encoded data removed]"
          },
          "metadata": {}
        }
      ]
    },
    {
      "cell_type": "code",
      "source": [
        "# Stats about each numeric feature\n",
        "print(traffic_df['rain_1h'].describe())"
      ],
      "metadata": {
        "colab": {
          "base_uri": "https://localhost:8080/"
        },
        "id": "f_zgv1VbrYIp",
        "outputId": "43790402-408a-46bc-ae50-869bbd2e148e"
      },
      "execution_count": 1097,
      "outputs": [
        {
          "output_type": "stream",
          "name": "stdout",
          "text": [
            "count    48194.000000\n",
            "mean         0.334333\n",
            "std         44.793779\n",
            "min          0.000000\n",
            "25%          0.000000\n",
            "50%          0.000000\n",
            "75%          0.000000\n",
            "max       9831.300000\n",
            "Name: rain_1h, dtype: float64\n"
          ]
        }
      ]
    },
    {
      "cell_type": "markdown",
      "source": [
        "Some apparent outlier"
      ],
      "metadata": {
        "id": "FTLuLisItXG7"
      }
    },
    {
      "cell_type": "code",
      "source": [
        "# Remove outliers\n",
        "traffic_df=traffic_df[np.absolute(stats.zscore(traffic_df['rain_1h']))<.9]\n",
        "\n",
        "# Reset index\n",
        "traffic_df=traffic_df.reset_index()"
      ],
      "metadata": {
        "id": "dghrf1LhtZVv"
      },
      "execution_count": 1098,
      "outputs": []
    },
    {
      "cell_type": "code",
      "source": [
        "# traffic_volume boxplot\n",
        "plt.boxplot(traffic_df['rain_1h'])\n",
        "\n",
        "# Add labels\n",
        "plt.title('Boxplot of rain_1h')\n",
        "plt.ylabel('rain_1h')\n",
        "\n",
        "plt.show()"
      ],
      "metadata": {
        "colab": {
          "base_uri": "https://localhost:8080/",
          "height": 452
        },
        "id": "f1qEU0Dtuyic",
        "outputId": "c228b76e-232c-40d3-a768-0bb32317b458"
      },
      "execution_count": 1099,
      "outputs": [
        {
          "output_type": "display_data",
          "data": {
            "text/plain": [
              "<Figure size 640x480 with 1 Axes>"
            ],
            "image/png": "[encoded data removed]"
          },
          "metadata": {}
        }
      ]
    },
    {
      "cell_type": "code",
      "source": [
        "# Stats about each numeric feature\n",
        "print(traffic_df['rain_1h'].describe())"
      ],
      "metadata": {
        "colab": {
          "base_uri": "https://localhost:8080/"
        },
        "id": "l09K3pT0u0qE",
        "outputId": "ca572266-5ac0-4585-e126-1acd1f54decb"
      },
      "execution_count": 1100,
      "outputs": [
        {
          "output_type": "stream",
          "name": "stdout",
          "text": [
            "count    48191.000000\n",
            "mean         0.128270\n",
            "std          0.949912\n",
            "min          0.000000\n",
            "25%          0.000000\n",
            "50%          0.000000\n",
            "75%          0.000000\n",
            "max         31.750000\n",
            "Name: rain_1h, dtype: float64\n"
          ]
        }
      ]
    },
    {
      "cell_type": "markdown",
      "source": [
        "Data has no apparent harmful or misleading outliers; deal with zero-inflation later"
      ],
      "metadata": {
        "id": "_BECS3qIvPxV"
      }
    },
    {
      "cell_type": "markdown",
      "source": [
        "### snow_1h"
      ],
      "metadata": {
        "id": "Nz8tvZ5Aqx80"
      }
    },
    {
      "cell_type": "code",
      "source": [
        "# traffic_volume boxplot\n",
        "plt.boxplot(traffic_df['snow_1h'])\n",
        "\n",
        "# Add labels\n",
        "plt.title('Boxplot of snow_1h')\n",
        "plt.ylabel('snow_1h')\n",
        "\n",
        "plt.show()"
      ],
      "metadata": {
        "colab": {
          "base_uri": "https://localhost:8080/",
          "height": 452
        },
        "id": "SPrsGwEMrKBK",
        "outputId": "d2aa7697-52c9-46e5-bb25-176ab18e951a"
      },
      "execution_count": 1101,
      "outputs": [
        {
          "output_type": "display_data",
          "data": {
            "text/plain": [
              "<Figure size 640x480 with 1 Axes>"
            ],
            "image/png": "[encoded data removed]"
          },
          "metadata": {}
        }
      ]
    },
    {
      "cell_type": "code",
      "source": [
        "# Stats about each numeric feature\n",
        "print(traffic_df['snow_1h'].describe())"
      ],
      "metadata": {
        "colab": {
          "base_uri": "https://localhost:8080/"
        },
        "id": "_rknNkFhrY1t",
        "outputId": "2ed5aaa5-356e-4b07-9181-d56e0b9a2cc9"
      },
      "execution_count": 1102,
      "outputs": [
        {
          "output_type": "stream",
          "name": "stdout",
          "text": [
            "count    48191.000000\n",
            "mean         0.000222\n",
            "std          0.008169\n",
            "min          0.000000\n",
            "25%          0.000000\n",
            "50%          0.000000\n",
            "75%          0.000000\n",
            "max          0.510000\n",
            "Name: snow_1h, dtype: float64\n"
          ]
        }
      ]
    },
    {
      "cell_type": "markdown",
      "source": [
        "Data has no apparent harmful or misleading outliers; deal with zero-inflation later"
      ],
      "metadata": {
        "id": "st9K8eGLwBBm"
      }
    },
    {
      "cell_type": "markdown",
      "source": [
        "## Minimize Skew"
      ],
      "metadata": {
        "id": "qK_411vuwJeB"
      }
    },
    {
      "cell_type": "markdown",
      "source": [
        "Criteria for Pandas Skew Function\n",
        "\n",
        "* If the skewness is between -0.5 and 0.5, the data are fairly symmetrical\n",
        "* If the skewness is between -1 and — 0.5 or between 0.5 and 1, the data are moderately skewed\n",
        "* If the skewness is less than -1 or greater than 1, the data are highly skewed"
      ],
      "metadata": {
        "id": "i_RIM8-VyqZt"
      }
    },
    {
      "cell_type": "markdown",
      "source": [
        "### traffic_volume"
      ],
      "metadata": {
        "id": "EX5zEfUNwLyA"
      }
    },
    {
      "cell_type": "code",
      "source": [
        "# Stats about each numeric feature\n",
        "print(traffic_df['traffic_volume'].describe())"
      ],
      "metadata": {
        "colab": {
          "base_uri": "https://localhost:8080/"
        },
        "id": "AF3vBXmcwkva",
        "outputId": "99a6bea2-3932-481a-d24f-c6aa91002704"
      },
      "execution_count": 1103,
      "outputs": [
        {
          "output_type": "stream",
          "name": "stdout",
          "text": [
            "count    48191.000000\n",
            "mean      3260.203150\n",
            "std       1986.737523\n",
            "min          0.000000\n",
            "25%       1194.000000\n",
            "50%       3380.000000\n",
            "75%       4933.000000\n",
            "max       7280.000000\n",
            "Name: traffic_volume, dtype: float64\n"
          ]
        }
      ]
    },
    {
      "cell_type": "code",
      "source": [
        "# Traffic volume distribution\n",
        "plt.hist(traffic_df['traffic_volume'], bins=30)\n",
        "\n",
        "# Labels\n",
        "plt.xlabel('Number of Cars')\n",
        "plt.ylabel('Instances')\n",
        "\n",
        "# Manipulate figure size\n",
        "plt.figure(figsize=(10,6))\n",
        "\n",
        "# Show plot\n",
        "plt.show()"
      ],
      "metadata": {
        "colab": {
          "base_uri": "https://localhost:8080/",
          "height": 466
        },
        "id": "wyt-EnwuwzMo",
        "outputId": "66c8961f-9d35-4f75-86d5-15fb5946ff18"
      },
      "execution_count": 1104,
      "outputs": [
        {
          "output_type": "display_data",
          "data": {
            "text/plain": [
              "<Figure size 640x480 with 1 Axes>"
            ],
            "image/png": "[encoded data removed]"
          },
          "metadata": {}
        },
        {
          "output_type": "display_data",
          "data": {
            "text/plain": [
              "<Figure size 1000x600 with 0 Axes>"
            ]
          },
          "metadata": {}
        }
      ]
    },
    {
      "cell_type": "code",
      "source": [
        "# Testing skew\n",
        "print(pd.DataFrame(traffic_df['traffic_volume']).skew(axis=0, numeric_only='True'))"
      ],
      "metadata": {
        "colab": {
          "base_uri": "https://localhost:8080/"
        },
        "id": "0QZ3UZR5xpwe",
        "outputId": "75df5e22-02b3-4dca-d33b-2ea700bb9f0e"
      },
      "execution_count": 1105,
      "outputs": [
        {
          "output_type": "stream",
          "name": "stdout",
          "text": [
            "traffic_volume   -0.089602\n",
            "dtype: float64\n"
          ]
        }
      ]
    },
    {
      "cell_type": "markdown",
      "source": [
        "Data has no significant skew"
      ],
      "metadata": {
        "id": "fyTsg2jlyi1n"
      }
    },
    {
      "cell_type": "markdown",
      "source": [
        "### temp"
      ],
      "metadata": {
        "id": "RsnRGu9zwMQI"
      }
    },
    {
      "cell_type": "code",
      "source": [
        "# Stats about each numeric feature\n",
        "print(traffic_df['temp'].describe())"
      ],
      "metadata": {
        "colab": {
          "base_uri": "https://localhost:8080/"
        },
        "id": "tm10H-VCwlS4",
        "outputId": "ab8d5a3b-7d56-4cf0-8620-2c35259e541a"
      },
      "execution_count": 1106,
      "outputs": [
        {
          "output_type": "stream",
          "name": "stdout",
          "text": [
            "count    48191.000000\n",
            "mean       281.263322\n",
            "std         12.709405\n",
            "min        243.390000\n",
            "25%        272.180000\n",
            "50%        282.460000\n",
            "75%        291.808000\n",
            "max        310.070000\n",
            "Name: temp, dtype: float64\n"
          ]
        }
      ]
    },
    {
      "cell_type": "code",
      "source": [
        "# Traffic volume distribution\n",
        "plt.hist(traffic_df['temp'], bins=30)\n",
        "\n",
        "# Labels\n",
        "plt.xlabel('temp (K)')\n",
        "plt.ylabel('Instances')\n",
        "\n",
        "# Manipulate figure size\n",
        "plt.figure(figsize=(10,6))\n",
        "\n",
        "# Show plot\n",
        "plt.show()"
      ],
      "metadata": {
        "colab": {
          "base_uri": "https://localhost:8080/",
          "height": 471
        },
        "id": "sBJLUgz8wz6F",
        "outputId": "57dec84b-5bd6-4c3d-db53-890f47c00e97"
      },
      "execution_count": 1107,
      "outputs": [
        {
          "output_type": "display_data",
          "data": {
            "text/plain": [
              "<Figure size 640x480 with 1 Axes>"
            ],
            "image/png": "[encoded data removed]"
          },
          "metadata": {}
        },
        {
          "output_type": "display_data",
          "data": {
            "text/plain": [
              "<Figure size 1000x600 with 0 Axes>"
            ]
          },
          "metadata": {}
        }
      ]
    },
    {
      "cell_type": "markdown",
      "source": [
        "There appears to be left-skew in the histogram, I applied exp, cube, and square transformations. Cube transformation performed best."
      ],
      "metadata": {
        "id": "nyn-3FK7107D"
      }
    },
    {
      "cell_type": "code",
      "source": [
        "# Cube Transformation\n",
        "traffic_df['temp']=np.power(traffic_df['temp'], 3)"
      ],
      "metadata": {
        "id": "DpZVYJ1-zlig"
      },
      "execution_count": 1108,
      "outputs": []
    },
    {
      "cell_type": "code",
      "source": [
        "# Stats about each numeric feature\n",
        "print(traffic_df['temp'].describe())"
      ],
      "metadata": {
        "colab": {
          "base_uri": "https://localhost:8080/"
        },
        "id": "2QQ5xL5p2FQe",
        "outputId": "b6f700f4-7493-4abd-8809-29cbe701aef4"
      },
      "execution_count": 1109,
      "outputs": [
        {
          "output_type": "stream",
          "name": "stdout",
          "text": [
            "count    4.819100e+04\n",
            "mean     9.908519e+13\n",
            "std      2.442479e+13\n",
            "min      4.224629e+13\n",
            "25%      7.998876e+13\n",
            "50%      9.884716e+13\n",
            "75%      1.190433e+14\n",
            "max      1.683585e+14\n",
            "Name: temp, dtype: float64\n"
          ]
        }
      ]
    },
    {
      "cell_type": "code",
      "source": [
        "# Traffic volume distribution\n",
        "plt.hist(traffic_df['temp'], bins=30)\n",
        "\n",
        "# Labels\n",
        "plt.xlabel('temp (K)')\n",
        "plt.ylabel('Instances')\n",
        "\n",
        "# Manipulate figure size\n",
        "plt.figure(figsize=(10,6))\n",
        "\n",
        "# Show plot\n",
        "plt.show()"
      ],
      "metadata": {
        "colab": {
          "base_uri": "https://localhost:8080/",
          "height": 466
        },
        "id": "Xs13N1NJ2Lyj",
        "outputId": "f1d60176-0ad4-4d56-d276-2f98422295db"
      },
      "execution_count": 1110,
      "outputs": [
        {
          "output_type": "display_data",
          "data": {
            "text/plain": [
              "<Figure size 640x480 with 1 Axes>"
            ],
            "image/png": "[encoded data removed]"
          },
          "metadata": {}
        },
        {
          "output_type": "display_data",
          "data": {
            "text/plain": [
              "<Figure size 1000x600 with 0 Axes>"
            ]
          },
          "metadata": {}
        }
      ]
    },
    {
      "cell_type": "code",
      "source": [
        "# Testing skew\n",
        "print(traffic_df['temp'].skew(axis=0, numeric_only='True'))"
      ],
      "metadata": {
        "colab": {
          "base_uri": "https://localhost:8080/"
        },
        "id": "lWrbWSjz2DNI",
        "outputId": "fd1cb215-14f9-4d8d-dabd-9f9d376046af"
      },
      "execution_count": 1111,
      "outputs": [
        {
          "output_type": "stream",
          "name": "stdout",
          "text": [
            "-0.00028859753440258233\n"
          ]
        }
      ]
    },
    {
      "cell_type": "markdown",
      "source": [
        "### coulds_all"
      ],
      "metadata": {
        "id": "JYy6PEVnwMSm"
      }
    },
    {
      "cell_type": "code",
      "source": [
        "# Stats about each numeric feature\n",
        "print(traffic_df['clouds_all'].describe())"
      ],
      "metadata": {
        "colab": {
          "base_uri": "https://localhost:8080/"
        },
        "id": "ZaB-AXuEwlyv",
        "outputId": "8dd1a76c-ae77-495e-bc53-75617a79e543"
      },
      "execution_count": 696,
      "outputs": [
        {
          "output_type": "stream",
          "name": "stdout",
          "text": [
            "count    48191.000000\n",
            "mean        49.371003\n",
            "std         39.014076\n",
            "min          0.000000\n",
            "25%          1.000000\n",
            "50%         64.000000\n",
            "75%         90.000000\n",
            "max        100.000000\n",
            "Name: clouds_all, dtype: float64\n"
          ]
        }
      ]
    },
    {
      "cell_type": "code",
      "source": [
        "# Traffic volume distribution\n",
        "plt.hist(traffic_df['clouds_all'], bins=30)\n",
        "\n",
        "# Labels\n",
        "plt.xlabel('clouds_all')\n",
        "plt.ylabel('Instances')\n",
        "\n",
        "# Manipulate figure size\n",
        "plt.figure(figsize=(10,6))\n",
        "\n",
        "# Show plot\n",
        "plt.show()"
      ],
      "metadata": {
        "colab": {
          "base_uri": "https://localhost:8080/",
          "height": 467
        },
        "id": "gHSSrJflw0Z9",
        "outputId": "47dd308a-3a9e-4eb8-9253-8586b4f2923a"
      },
      "execution_count": 697,
      "outputs": [
        {
          "output_type": "display_data",
          "data": {
            "text/plain": [
              "<Figure size 640x480 with 1 Axes>"
            ],
            "image/png": "[encoded data removed]"
          },
          "metadata": {}
        },
        {
          "output_type": "display_data",
          "data": {
            "text/plain": [
              "<Figure size 1000x600 with 0 Axes>"
            ]
          },
          "metadata": {}
        }
      ]
    },
    {
      "cell_type": "code",
      "source": [
        "# Testing skew\n",
        "print(pd.DataFrame(traffic_df['clouds_all']).skew(axis=0, numeric_only='True'))"
      ],
      "metadata": {
        "colab": {
          "base_uri": "https://localhost:8080/"
        },
        "id": "RPdEW2iWxqzh",
        "outputId": "c05a24bc-8685-48b1-9dab-475b78b849ec"
      },
      "execution_count": 698,
      "outputs": [
        {
          "output_type": "stream",
          "name": "stdout",
          "text": [
            "clouds_all   -0.197604\n",
            "dtype: float64\n"
          ]
        }
      ]
    },
    {
      "cell_type": "markdown",
      "source": [
        "No significant skew"
      ],
      "metadata": {
        "id": "Owhn482o3IUI"
      }
    },
    {
      "cell_type": "markdown",
      "source": [
        "### rain_1h"
      ],
      "metadata": {
        "id": "a7R12UB8wMVO"
      }
    },
    {
      "cell_type": "code",
      "source": [
        "# Stats about each numeric feature\n",
        "print(traffic_df['rain_1h'].describe())"
      ],
      "metadata": {
        "colab": {
          "base_uri": "https://localhost:8080/"
        },
        "id": "_x9-cI2cwmQz",
        "outputId": "d8c48e1b-3957-4ba8-c6d2-28e434a8b0d3"
      },
      "execution_count": 699,
      "outputs": [
        {
          "output_type": "stream",
          "name": "stdout",
          "text": [
            "count    48191.000000\n",
            "mean         0.128270\n",
            "std          0.949912\n",
            "min          0.000000\n",
            "25%          0.000000\n",
            "50%          0.000000\n",
            "75%          0.000000\n",
            "max         31.750000\n",
            "Name: rain_1h, dtype: float64\n"
          ]
        }
      ]
    },
    {
      "cell_type": "code",
      "source": [
        "# Traffic volume distribution\n",
        "plt.hist(traffic_df['rain_1h'], bins=30)\n",
        "\n",
        "# Labels\n",
        "plt.xlabel('rain_1h')\n",
        "plt.ylabel('Instances')\n",
        "\n",
        "# Manipulate figure size\n",
        "plt.figure(figsize=(10,6))\n",
        "\n",
        "# Show plot\n",
        "plt.show()"
      ],
      "metadata": {
        "colab": {
          "base_uri": "https://localhost:8080/",
          "height": 467
        },
        "id": "kdla29JLw09R",
        "outputId": "ca193d80-05ee-4b6b-e12d-5b431bcf6333"
      },
      "execution_count": 700,
      "outputs": [
        {
          "output_type": "display_data",
          "data": {
            "text/plain": [
              "<Figure size 640x480 with 1 Axes>"
            ],
            "image/png": "[encoded data removed]"
          },
          "metadata": {}
        },
        {
          "output_type": "display_data",
          "data": {
            "text/plain": [
              "<Figure size 1000x600 with 0 Axes>"
            ]
          },
          "metadata": {}
        }
      ]
    },
    {
      "cell_type": "code",
      "source": [
        "# Testing skew\n",
        "print(pd.DataFrame(traffic_df['rain_1h']).skew(axis=0, numeric_only='True'))"
      ],
      "metadata": {
        "colab": {
          "base_uri": "https://localhost:8080/"
        },
        "id": "g2hLeHUcxrTm",
        "outputId": "ac5e91a6-605f-4ed8-e57c-0e0897971e4a"
      },
      "execution_count": 701,
      "outputs": [
        {
          "output_type": "stream",
          "name": "stdout",
          "text": [
            "rain_1h    15.096753\n",
            "dtype: float64\n"
          ]
        }
      ]
    },
    {
      "cell_type": "markdown",
      "source": [
        "Significant right skew due to zero-inflation"
      ],
      "metadata": {
        "id": "Kiw8VLeu3SL9"
      }
    },
    {
      "cell_type": "markdown",
      "source": [
        "### snow_1h"
      ],
      "metadata": {
        "id": "jX3TXq10wMXy"
      }
    },
    {
      "cell_type": "code",
      "source": [
        "# Stats about each numeric feature\n",
        "print(traffic_df['snow_1h'].describe())"
      ],
      "metadata": {
        "colab": {
          "base_uri": "https://localhost:8080/"
        },
        "id": "NrxbNn--wm05",
        "outputId": "a72bef02-44fa-496a-be8e-8c531419be1d"
      },
      "execution_count": 702,
      "outputs": [
        {
          "output_type": "stream",
          "name": "stdout",
          "text": [
            "count    48191.000000\n",
            "mean         0.000222\n",
            "std          0.008169\n",
            "min          0.000000\n",
            "25%          0.000000\n",
            "50%          0.000000\n",
            "75%          0.000000\n",
            "max          0.510000\n",
            "Name: snow_1h, dtype: float64\n"
          ]
        }
      ]
    },
    {
      "cell_type": "code",
      "source": [
        "# Traffic volume distribution\n",
        "plt.hist(traffic_df['snow_1h'], bins=30)\n",
        "\n",
        "# Labels\n",
        "plt.xlabel('snow_1h')\n",
        "plt.ylabel('Instances')\n",
        "\n",
        "# Manipulate figure size\n",
        "plt.figure(figsize=(10,6))\n",
        "\n",
        "# Show plot\n",
        "plt.show()"
      ],
      "metadata": {
        "colab": {
          "base_uri": "https://localhost:8080/",
          "height": 468
        },
        "id": "sfHk39Vkw1dZ",
        "outputId": "bbb45eaa-6df8-4712-b099-d5dd6a3017a2"
      },
      "execution_count": 703,
      "outputs": [
        {
          "output_type": "display_data",
          "data": {
            "text/plain": [
              "<Figure size 640x480 with 1 Axes>"
            ],
            "image/png": "[encoded data removed]"
          },
          "metadata": {}
        },
        {
          "output_type": "display_data",
          "data": {
            "text/plain": [
              "<Figure size 1000x600 with 0 Axes>"
            ]
          },
          "metadata": {}
        }
      ]
    },
    {
      "cell_type": "code",
      "source": [
        "# Testing skew\n",
        "print(pd.DataFrame(traffic_df['snow_1h']).skew(axis=0, numeric_only='True'))"
      ],
      "metadata": {
        "colab": {
          "base_uri": "https://localhost:8080/"
        },
        "id": "EGCpVG6fxrx6",
        "outputId": "86365dea-da36-45f0-d585-17e2e5234e9b"
      },
      "execution_count": 704,
      "outputs": [
        {
          "output_type": "stream",
          "name": "stdout",
          "text": [
            "snow_1h    48.360955\n",
            "dtype: float64\n"
          ]
        }
      ]
    },
    {
      "cell_type": "markdown",
      "source": [
        "Significant right skew due to zero-inflation"
      ],
      "metadata": {
        "id": "xEcnaxvbwMaY"
      }
    },
    {
      "cell_type": "markdown",
      "source": [
        "I figure that the way I handle both rain_1h and snow_1h will be the same. I have to deal with semicontinuous variables with true zeros. This rules out tobit regression and data transformations. After a long time researching and contemplating different approaches, I have decided to compare my models on two different datasets.\n",
        "\n",
        "Convert the data from nominal to ordinal by discretizing the data into 0 (none) and 1 (light) and 2 (medium) and 3 (heavy)\n",
        "\n",
        "I will then attempt to reduce the skew slightly by applying a transformation"
      ],
      "metadata": {
        "id": "Blw3UMwa4Vbh"
      }
    },
    {
      "cell_type": "markdown",
      "source": [
        "### traffic_volume"
      ],
      "metadata": {
        "id": "VZh5ZVQ5f2aI"
      }
    },
    {
      "cell_type": "code",
      "source": [
        "# traffic_volume boxplot\n",
        "plt.boxplot(traffic_df['traffic_volume'])\n",
        "\n",
        "# Add labels\n",
        "plt.title('Boxplot of traffic_volume')\n",
        "plt.ylabel('traffic_volume')\n",
        "\n",
        "plt.show()"
      ],
      "metadata": {
        "colab": {
          "base_uri": "https://localhost:8080/",
          "height": 452
        },
        "id": "gq_t3wuZhOIb",
        "outputId": "4b6de36e-02c6-48d8-9e27-02a4a7a58790"
      },
      "execution_count": 705,
      "outputs": [
        {
          "output_type": "display_data",
          "data": {
            "text/plain": [
              "<Figure size 640x480 with 1 Axes>"
            ],
            "image/png": "[encoded data removed]"
          },
          "metadata": {}
        }
      ]
    },
    {
      "cell_type": "markdown",
      "source": [
        "No harmful outliers"
      ],
      "metadata": {
        "id": "VUNwn4dohOgH"
      }
    },
    {
      "cell_type": "code",
      "source": [
        "# Traffic volume distribution\n",
        "plt.hist(traffic_df['traffic_volume'], bins=30)\n",
        "\n",
        "# Labels\n",
        "plt.xlabel('Number of Cars')\n",
        "plt.ylabel('Instances')\n",
        "\n",
        "# Manipulate figure size\n",
        "plt.figure(figsize=(10,6))\n",
        "\n",
        "# Show plot\n",
        "plt.show()"
      ],
      "metadata": {
        "colab": {
          "base_uri": "https://localhost:8080/",
          "height": 466
        },
        "id": "62TLvoqGf9WJ",
        "outputId": "cf8657f5-6636-40cb-b170-5f0abab5ac79"
      },
      "execution_count": 706,
      "outputs": [
        {
          "output_type": "display_data",
          "data": {
            "text/plain": [
              "<Figure size 640x480 with 1 Axes>"
            ],
            "image/png": "[encoded data removed]"
          },
          "metadata": {}
        },
        {
          "output_type": "display_data",
          "data": {
            "text/plain": [
              "<Figure size 1000x600 with 0 Axes>"
            ]
          },
          "metadata": {}
        }
      ]
    },
    {
      "cell_type": "code",
      "source": [
        "# Testing skew for traffic_df\n",
        "print(pd.DataFrame(traffic_df['traffic_volume']).skew(axis=0, numeric_only='True'))"
      ],
      "metadata": {
        "colab": {
          "base_uri": "https://localhost:8080/"
        },
        "id": "7Jex4obJvWgx",
        "outputId": "374d4bec-9d1e-4601-fde5-fb421ca06248"
      },
      "execution_count": 707,
      "outputs": [
        {
          "output_type": "stream",
          "name": "stdout",
          "text": [
            "traffic_volume   -0.089602\n",
            "dtype: float64\n"
          ]
        }
      ]
    },
    {
      "cell_type": "code",
      "source": [
        "# Stats about each numeric feature\n",
        "print(traffic_df['traffic_volume'].describe())"
      ],
      "metadata": {
        "colab": {
          "base_uri": "https://localhost:8080/"
        },
        "id": "I2hreJ0pvkg7",
        "outputId": "08ea9d61-93f9-4a99-976e-72fd3ab3fde8"
      },
      "execution_count": 708,
      "outputs": [
        {
          "output_type": "stream",
          "name": "stdout",
          "text": [
            "count    48191.000000\n",
            "mean      3260.203150\n",
            "std       1986.737523\n",
            "min          0.000000\n",
            "25%       1194.000000\n",
            "50%       3380.000000\n",
            "75%       4933.000000\n",
            "max       7280.000000\n",
            "Name: traffic_volume, dtype: float64\n"
          ]
        }
      ]
    },
    {
      "cell_type": "markdown",
      "source": [
        "The data appears to have no significant skew"
      ],
      "metadata": {
        "id": "LDg-oPuLgNKJ"
      }
    },
    {
      "cell_type": "code",
      "source": [
        "# Normality test\n",
        "print(stats.kstest(traffic_df['traffic_volume'], stats.norm.cdf))"
      ],
      "metadata": {
        "colab": {
          "base_uri": "https://localhost:8080/"
        },
        "id": "k3ux7fEWhsGV",
        "outputId": "89d0db33-8ff3-48f7-9524-9875eaeba7f7"
      },
      "execution_count": 709,
      "outputs": [
        {
          "output_type": "stream",
          "name": "stdout",
          "text": [
            "KstestResult(statistic=0.999480944283665, pvalue=0.0, statistic_location=5, statistic_sign=-1)\n"
          ]
        }
      ]
    },
    {
      "cell_type": "markdown",
      "source": [
        "p-value < .05 meaning that normality cannot be approximated"
      ],
      "metadata": {
        "id": "O0WS0bOAjyEF"
      }
    },
    {
      "cell_type": "code",
      "source": [
        "# Use boxcox transformation to make the data more normally distributed\n",
        "traffic_df['traffic_volume']=traffic_df['traffic_volume'].apply(lambda x:x+1 if x==0 else x)\n",
        "traffic_df['traffic_volume'], lambda_val=stats.boxcox(traffic_df['traffic_volume'])[0:2]"
      ],
      "metadata": {
        "id": "EsvieS_jj2HJ"
      },
      "execution_count": 710,
      "outputs": []
    },
    {
      "cell_type": "code",
      "source": [
        "print(lambda_val)"
      ],
      "metadata": {
        "colab": {
          "base_uri": "https://localhost:8080/"
        },
        "id": "9-aeYYDBn3HF",
        "outputId": "e834b93e-4419-4cf7-a66e-f88f77cbffda"
      },
      "execution_count": 711,
      "outputs": [
        {
          "output_type": "stream",
          "name": "stdout",
          "text": [
            "0.687582557959404\n"
          ]
        }
      ]
    },
    {
      "cell_type": "code",
      "source": [
        "# Traffic volume distribution\n",
        "plt.hist(traffic_df['traffic_volume'], bins=30)\n",
        "\n",
        "# Labels\n",
        "plt.xlabel('Number of Cars')\n",
        "plt.ylabel('Instances')\n",
        "\n",
        "# Manipulate figure size\n",
        "plt.figure(figsize=(10,6))\n",
        "\n",
        "# Show plot\n",
        "plt.show()"
      ],
      "metadata": {
        "colab": {
          "base_uri": "https://localhost:8080/",
          "height": 466
        },
        "id": "expIxwGtkVlO",
        "outputId": "40a72c19-fbc6-482c-97fd-16b231b5ee40"
      },
      "execution_count": 712,
      "outputs": [
        {
          "output_type": "display_data",
          "data": {
            "text/plain": [
              "<Figure size 640x480 with 1 Axes>"
            ],
            "image/png": "[encoded data removed]"
          },
          "metadata": {}
        },
        {
          "output_type": "display_data",
          "data": {
            "text/plain": [
              "<Figure size 1000x600 with 0 Axes>"
            ]
          },
          "metadata": {}
        }
      ]
    },
    {
      "cell_type": "code",
      "source": [
        "# Normality test\n",
        "print(stats.kstest(traffic_df['traffic_volume'], stats.norm.cdf))"
      ],
      "metadata": {
        "colab": {
          "base_uri": "https://localhost:8080/"
        },
        "id": "NvF-4jgVkjGI",
        "outputId": "63484a02-7db1-4522-f09c-3484ff4190ea"
      },
      "execution_count": 713,
      "outputs": [
        {
          "output_type": "stream",
          "name": "stdout",
          "text": [
            "KstestResult(statistic=0.9992935342399133, pvalue=0.0, statistic_location=4.0886922709041915, statistic_sign=-1)\n"
          ]
        }
      ]
    },
    {
      "cell_type": "markdown",
      "source": [
        "general preprocessing for traffic_volume is complete"
      ],
      "metadata": {
        "id": "t9FYDXi5yT8E"
      }
    },
    {
      "cell_type": "markdown",
      "source": [
        "### clouds_all"
      ],
      "metadata": {
        "id": "uFwMnHnbtpKF"
      }
    },
    {
      "cell_type": "code",
      "source": [
        "# traffic_volume boxplot\n",
        "plt.boxplot(traffic_df['clouds_all'])\n",
        "\n",
        "# Add labels\n",
        "plt.title('Boxplot of clouds_all')\n",
        "plt.ylabel('clouds_all')\n",
        "\n",
        "plt.show()"
      ],
      "metadata": {
        "colab": {
          "base_uri": "https://localhost:8080/",
          "height": 452
        },
        "id": "JZadJwrXpx0_",
        "outputId": "e99bf561-b346-4c1a-9eb6-1cd980424016"
      },
      "execution_count": 714,
      "outputs": [
        {
          "output_type": "display_data",
          "data": {
            "text/plain": [
              "<Figure size 640x480 with 1 Axes>"
            ],
            "image/png": "[encoded data removed]"
          },
          "metadata": {}
        }
      ]
    },
    {
      "cell_type": "code",
      "source": [
        "# Rain volume distribution\n",
        "plt.hist(traffic_df['clouds_all'], bins=25)\n",
        "\n",
        "# Labels\n",
        "plt.xlabel('Cloud Quantity')\n",
        "plt.ylabel('Instances')\n",
        "\n",
        "# Manipulate figure size\n",
        "plt.figure(figsize=(10,6))\n",
        "\n",
        "# Show plot\n",
        "plt.show()"
      ],
      "metadata": {
        "colab": {
          "base_uri": "https://localhost:8080/",
          "height": 466
        },
        "id": "HaYJVulzrr-V",
        "outputId": "427e0cc4-403e-4122-b783-8a8c452c776c"
      },
      "execution_count": 715,
      "outputs": [
        {
          "output_type": "display_data",
          "data": {
            "text/plain": [
              "<Figure size 640x480 with 1 Axes>"
            ],
            "image/png": "[encoded data removed]"
          },
          "metadata": {}
        },
        {
          "output_type": "display_data",
          "data": {
            "text/plain": [
              "<Figure size 1000x600 with 0 Axes>"
            ]
          },
          "metadata": {}
        }
      ]
    },
    {
      "cell_type": "markdown",
      "source": [
        "### temp"
      ],
      "metadata": {
        "id": "eT2V9_PHtsTy"
      }
    },
    {
      "cell_type": "code",
      "source": [
        "# traffic_volume boxplot\n",
        "plt.boxplot(traffic_df['temp'])\n",
        "\n",
        "# Add labels\n",
        "plt.title('Boxplot of temp (K)')\n",
        "plt.ylabel('temp (K)')\n",
        "\n",
        "plt.show()"
      ],
      "metadata": {
        "colab": {
          "base_uri": "https://localhost:8080/",
          "height": 452
        },
        "id": "85fpMQS0pzAw",
        "outputId": "99c43aee-de45-4e98-9fc1-6bcad1713b61"
      },
      "execution_count": 716,
      "outputs": [
        {
          "output_type": "display_data",
          "data": {
            "text/plain": [
              "<Figure size 640x480 with 1 Axes>"
            ],
            "image/png": "[encoded data removed]"
          },
          "metadata": {}
        }
      ]
    },
    {
      "cell_type": "code",
      "source": [
        "# Rain volume distribution\n",
        "plt.hist(traffic_df['temp'], bins=25)\n",
        "\n",
        "# Labels\n",
        "plt.xlabel('Temperature (K)')\n",
        "plt.ylabel('Instances')\n",
        "\n",
        "# Manipulate figure size\n",
        "plt.figure(figsize=(10,6))\n",
        "\n",
        "# Show plot\n",
        "plt.show()"
      ],
      "metadata": {
        "colab": {
          "base_uri": "https://localhost:8080/",
          "height": 466
        },
        "id": "kGNhxqcKrx2c",
        "outputId": "f3012f00-0338-435a-e9ca-ec18bf9b32d9"
      },
      "execution_count": 717,
      "outputs": [
        {
          "output_type": "display_data",
          "data": {
            "text/plain": [
              "<Figure size 640x480 with 1 Axes>"
            ],
            "image/png": "[encoded data removed]"
          },
          "metadata": {}
        },
        {
          "output_type": "display_data",
          "data": {
            "text/plain": [
              "<Figure size 1000x600 with 0 Axes>"
            ]
          },
          "metadata": {}
        }
      ]
    },
    {
      "cell_type": "markdown",
      "source": [
        "* Temp appears normal but has some skew due to very low values\n",
        "* Outlier removal is permitted here"
      ],
      "metadata": {
        "id": "cIfZULKLsE5L"
      }
    },
    {
      "cell_type": "code",
      "source": [
        "# Removing rain_1h outliers\n",
        "traffic_df=traffic_df[(np.abs(stats.zscore(traffic_df['temp'])) < 3)]\n",
        "\n",
        "# Reset index\n",
        "traffic_df=traffic_df.reset_index()"
      ],
      "metadata": {
        "colab": {
          "base_uri": "https://localhost:8080/",
          "height": 346
        },
        "id": "CaLZWoBKsXVQ",
        "outputId": "fc5abaa4-febb-44ad-99c5-84805e740428"
      },
      "execution_count": 718,
      "outputs": [
        {
          "output_type": "error",
          "ename": "ValueError",
          "evalue": "ignored",
          "traceback": [
            "\u001b[0;31m---------------------------------------------------------------------------\u001b[0m",
            "\u001b[0;31mValueError\u001b[0m                                Traceback (most recent call last)",
            "\u001b[0;32m<ipython-input-718-59200b0f2b8d>\u001b[0m in \u001b[0;36m<cell line: 5>\u001b[0;34m()\u001b[0m\n\u001b[1;32m      3\u001b[0m \u001b[0;34m\u001b[0m\u001b[0m\n\u001b[1;32m      4\u001b[0m \u001b[0;31m# Reset index\u001b[0m\u001b[0;34m\u001b[0m\u001b[0;34m\u001b[0m\u001b[0m\n\u001b[0;32m----> 5\u001b[0;31m \u001b[0mtraffic_df\u001b[0m\u001b[0;34m=\u001b[0m\u001b[0mtraffic_df\u001b[0m\u001b[0;34m.\u001b[0m\u001b[0mreset_index\u001b[0m\u001b[0;34m(\u001b[0m\u001b[0;34m)\u001b[0m\u001b[0;34m\u001b[0m\u001b[0;34m\u001b[0m\u001b[0m\n\u001b[0m",
            "\u001b[0;32m/usr/local/lib/python3.10/dist-packages/pandas/util/_decorators.py\u001b[0m in \u001b[0;36mwrapper\u001b[0;34m(*args, **kwargs)\u001b[0m\n\u001b[1;32m    329\u001b[0m                     \u001b[0mstacklevel\u001b[0m\u001b[0;34m=\u001b[0m\u001b[0mfind_stack_level\u001b[0m\u001b[0;34m(\u001b[0m\u001b[0;34m)\u001b[0m\u001b[0;34m,\u001b[0m\u001b[0;34m\u001b[0m\u001b[0;34m\u001b[0m\u001b[0m\n\u001b[1;32m    330\u001b[0m                 )\n\u001b[0;32m--> 331\u001b[0;31m             \u001b[0;32mreturn\u001b[0m \u001b[0mfunc\u001b[0m\u001b[0;34m(\u001b[0m\u001b[0;34m*\u001b[0m\u001b[0margs\u001b[0m\u001b[0;34m,\u001b[0m \u001b[0;34m**\u001b[0m\u001b[0mkwargs\u001b[0m\u001b[0;34m)\u001b[0m\u001b[0;34m\u001b[0m\u001b[0;34m\u001b[0m\u001b[0m\n\u001b[0m\u001b[1;32m    332\u001b[0m \u001b[0;34m\u001b[0m\u001b[0m\n\u001b[1;32m    333\u001b[0m         \u001b[0;31m# error: \"Callable[[VarArg(Any), KwArg(Any)], Any]\" has no\u001b[0m\u001b[0;34m\u001b[0m\u001b[0;34m\u001b[0m\u001b[0m\n",
            "\u001b[0;32m/usr/local/lib/python3.10/dist-packages/pandas/core/frame.py\u001b[0m in \u001b[0;36mreset_index\u001b[0;34m(self, level, drop, inplace, col_level, col_fill, allow_duplicates, names)\u001b[0m\n\u001b[1;32m   6359\u001b[0m                     )\n\u001b[1;32m   6360\u001b[0m \u001b[0;34m\u001b[0m\u001b[0m\n\u001b[0;32m-> 6361\u001b[0;31m                 new_obj.insert(\n\u001b[0m\u001b[1;32m   6362\u001b[0m                     \u001b[0;36m0\u001b[0m\u001b[0;34m,\u001b[0m\u001b[0;34m\u001b[0m\u001b[0;34m\u001b[0m\u001b[0m\n\u001b[1;32m   6363\u001b[0m                     \u001b[0mname\u001b[0m\u001b[0;34m,\u001b[0m\u001b[0;34m\u001b[0m\u001b[0;34m\u001b[0m\u001b[0m\n",
            "\u001b[0;32m/usr/local/lib/python3.10/dist-packages/pandas/core/frame.py\u001b[0m in \u001b[0;36minsert\u001b[0;34m(self, loc, column, value, allow_duplicates)\u001b[0m\n\u001b[1;32m   4815\u001b[0m         \u001b[0;32mif\u001b[0m \u001b[0;32mnot\u001b[0m \u001b[0mallow_duplicates\u001b[0m \u001b[0;32mand\u001b[0m \u001b[0mcolumn\u001b[0m \u001b[0;32min\u001b[0m \u001b[0mself\u001b[0m\u001b[0;34m.\u001b[0m\u001b[0mcolumns\u001b[0m\u001b[0;34m:\u001b[0m\u001b[0;34m\u001b[0m\u001b[0;34m\u001b[0m\u001b[0m\n\u001b[1;32m   4816\u001b[0m             \u001b[0;31m# Should this be a different kind of error??\u001b[0m\u001b[0;34m\u001b[0m\u001b[0;34m\u001b[0m\u001b[0m\n\u001b[0;32m-> 4817\u001b[0;31m             \u001b[0;32mraise\u001b[0m \u001b[0mValueError\u001b[0m\u001b[0;34m(\u001b[0m\u001b[0;34mf\"cannot insert {column}, already exists\"\u001b[0m\u001b[0;34m)\u001b[0m\u001b[0;34m\u001b[0m\u001b[0;34m\u001b[0m\u001b[0m\n\u001b[0m\u001b[1;32m   4818\u001b[0m         \u001b[0;32mif\u001b[0m \u001b[0;32mnot\u001b[0m \u001b[0misinstance\u001b[0m\u001b[0;34m(\u001b[0m\u001b[0mloc\u001b[0m\u001b[0;34m,\u001b[0m \u001b[0mint\u001b[0m\u001b[0;34m)\u001b[0m\u001b[0;34m:\u001b[0m\u001b[0;34m\u001b[0m\u001b[0;34m\u001b[0m\u001b[0m\n\u001b[1;32m   4819\u001b[0m             \u001b[0;32mraise\u001b[0m \u001b[0mTypeError\u001b[0m\u001b[0;34m(\u001b[0m\u001b[0;34m\"loc must be int\"\u001b[0m\u001b[0;34m)\u001b[0m\u001b[0;34m\u001b[0m\u001b[0;34m\u001b[0m\u001b[0m\n",
            "\u001b[0;31mValueError\u001b[0m: cannot insert level_0, already exists"
          ]
        }
      ]
    },
    {
      "cell_type": "code",
      "source": [
        "# Rain volume distribution\n",
        "plt.hist(traffic_df['temp'], bins=25)\n",
        "\n",
        "# Labels\n",
        "plt.xlabel('Temperature (K)')\n",
        "plt.ylabel('Instances')\n",
        "\n",
        "# Manipulate figure size\n",
        "plt.figure(figsize=(10,6))\n",
        "\n",
        "# Show plot\n",
        "plt.show()"
      ],
      "metadata": {
        "id": "NHevuN-9scD1"
      },
      "execution_count": null,
      "outputs": []
    },
    {
      "cell_type": "markdown",
      "source": [
        "### rain_1h"
      ],
      "metadata": {
        "id": "LhrZiG-tt1U9"
      }
    },
    {
      "cell_type": "code",
      "source": [
        "# traffic_volume boxplot\n",
        "plt.boxplot(traffic_df['rain_1h'])\n",
        "\n",
        "# Add labels\n",
        "plt.title('Boxplot of rain_1h')\n",
        "plt.ylabel('rain_1h')\n",
        "\n",
        "plt.show()"
      ],
      "metadata": {
        "id": "yT8elWxYpz94"
      },
      "execution_count": null,
      "outputs": []
    },
    {
      "cell_type": "code",
      "source": [
        "# Rain volume distribution\n",
        "plt.hist(traffic_df['rain_1h'], bins=25)\n",
        "\n",
        "# Labels\n",
        "plt.xlabel('Quantity of Rain')\n",
        "plt.ylabel('Instances')\n",
        "\n",
        "# Manipulate figure size\n",
        "plt.figure(figsize=(10,6))\n",
        "\n",
        "# Show plot\n",
        "plt.show()"
      ],
      "metadata": {
        "id": "Ep0aeXO9rsPa"
      },
      "execution_count": null,
      "outputs": []
    },
    {
      "cell_type": "code",
      "source": [
        "# Rain volume distribution\n",
        "plt.hist(traffic_df['rain_1h'], bins=25)\n",
        "\n",
        "# Labels\n",
        "plt.xlabel('Quantity of Rain')\n",
        "plt.ylabel('Instances')\n",
        "\n",
        "# Manipulate figure size\n",
        "plt.figure(figsize=(10,6))\n",
        "\n",
        "# Show plot\n",
        "plt.show()"
      ],
      "metadata": {
        "id": "1HIugpBchLLM"
      },
      "execution_count": null,
      "outputs": []
    },
    {
      "cell_type": "markdown",
      "source": [
        "* Outliers appear to be heavily skewing the rain data\n",
        "* Due to there being a small amount of outliers and large amount of data, removing the outliers is a viable choise"
      ],
      "metadata": {
        "id": "d_DHPvgXdLLO"
      }
    },
    {
      "cell_type": "code",
      "source": [
        "# Removing rain_1h outliers\n",
        "traffic_df=traffic_df[(np.abs(stats.zscore(traffic_df['rain_1h'])) < 1)]\n",
        "\n",
        "# Reset index\n",
        "traffic_df=traffic_df.reset_index()"
      ],
      "metadata": {
        "id": "fCFSGpKPddgO"
      },
      "execution_count": null,
      "outputs": []
    },
    {
      "cell_type": "code",
      "source": [
        "# Getting statistical data about rain_1h\n",
        "print(traffic_df['rain_1h'].describe())"
      ],
      "metadata": {
        "id": "9ihNb-gFfFPk"
      },
      "execution_count": null,
      "outputs": []
    },
    {
      "cell_type": "code",
      "source": [
        "# Rain volume distribution\n",
        "plt.hist(traffic_df['rain_1h'], bins=25)\n",
        "\n",
        "# Labels\n",
        "plt.xlabel('Quantity of Rain')\n",
        "plt.ylabel('Instances')\n",
        "\n",
        "# Manipulate figure size\n",
        "plt.figure(figsize=(10,6))\n",
        "\n",
        "# Show plot\n",
        "plt.show()"
      ],
      "metadata": {
        "id": "SemLlkh3eqXc"
      },
      "execution_count": null,
      "outputs": []
    },
    {
      "cell_type": "markdown",
      "source": [
        "* rain_1h is still heavily right skewed, but taking away more data may degrade the model's ability to make predictions in high rain_1h cases"
      ],
      "metadata": {
        "id": "ZQpKsXVgg65r"
      }
    },
    {
      "cell_type": "code",
      "source": [
        "traffic_df['rain_1h']=traffic_df['rain_1h'].apply(lambda x: x+.1)\n",
        "traffic_df['rain_1h'] = stats.boxcox(traffic_df['rain_1h'])[0]"
      ],
      "metadata": {
        "id": "G0BB4hOEj9cb"
      },
      "execution_count": null,
      "outputs": []
    },
    {
      "cell_type": "markdown",
      "source": [
        "### snow_1h"
      ],
      "metadata": {
        "id": "xP-Bk6MFt_hW"
      }
    },
    {
      "cell_type": "code",
      "source": [
        "# traffic_volume boxplot\n",
        "plt.boxplot(traffic_df['snow_1h'])\n",
        "\n",
        "# Add labels\n",
        "plt.title('Boxplot of snow_1h')\n",
        "plt.ylabel('snow_1h')\n",
        "\n",
        "plt.show()"
      ],
      "metadata": {
        "id": "z3IjWKgIp1GM"
      },
      "execution_count": null,
      "outputs": []
    }
  ]
}