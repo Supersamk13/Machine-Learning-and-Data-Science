{
  "nbformat": 4,
  "nbformat_minor": 0,
  "metadata": {
    "colab": {
      "provenance": [],
      "authorship_tag": "ABX9TyNty8iIYGDVyZYp3VOUyS8J",
      "include_colab_link": true
    },
    "kernelspec": {
      "name": "python3",
      "display_name": "Python 3"
    },
    "language_info": {
      "name": "python"
    }
  },
  "cells": [
    {
      "cell_type": "markdown",
      "metadata": {
        "id": "view-in-github",
        "colab_type": "text"
      },
      "source": [
        "<a href=\"https://colab.research.google.com/github/Supersamk13/Machine-Learning-and-Data-Science/blob/main/Data_Science_and_Machine_Learning_Project_Interstate_Traffic.ipynb\" target=\"_parent\"><img src=\"https://colab.research.google.com/assets/colab-badge.svg\" alt=\"Open In Colab\"/></a>"
      ]
    },
    {
      "cell_type": "markdown",
      "source": [
        "# Introduction\n",
        "\n",
        "Hello, my name is Samuel Kinstlinger. Over the past couple years I have been working on growing my skillset is the fields of data science and machine learing. This is a project I completed early on in my endeavor to practice data cleaning, data preprocessing, data visualization, and implementing regression models. I will be using a data set from Kaggle that gives information on the weather, date and time, and traffic volume."
      ],
      "metadata": {
        "id": "iz_FyyVeRcAF"
      }
    },
    {
      "cell_type": "markdown",
      "source": [
        "### Goals\n",
        "* Answer important questions about interstate traffic and the underlying related factors\n",
        "* Implement and tune machine learning models to best predict interstate traffic volume"
      ],
      "metadata": {
        "id": "2SIDXVsVSJo-"
      }
    },
    {
      "cell_type": "markdown",
      "source": [
        "### Outline\n",
        "* Getting to Know the Data\n",
        "* EDA\n",
        "* Treatment/Analysis of Outliers and Missing Data\n",
        "* Feature Engineering\n",
        "* Data Cleaning and Transformations\n",
        "* Answer EDA Questions (Part I)\n",
        "* Dimensionality Reduction Analysis/Treatment\n",
        "* Imbalanced Data Analysis/Treatment\n",
        "* Machine Learning\n",
        "* Answer EDA Questions (Part II)\n",
        "* Conclusion"
      ],
      "metadata": {
        "id": "gVVQ6lMRTG9e"
      }
    },
    {
      "cell_type": "code",
      "source": [
        "# Install modules/libraries\n",
        "\n",
        "# Uncomment below command if starting runtime or this is your first time running this program in this session\n",
        "# !pip install category_encoders"
      ],
      "metadata": {
        "id": "kNxGMgpYMmHB"
      },
      "execution_count": 1750,
      "outputs": []
    },
    {
      "cell_type": "code",
      "source": [
        "# Import modules/libraries\n",
        "import numpy as np\n",
        "import pandas as pd\n",
        "import seaborn as sns\n",
        "import matplotlib.pyplot as plt\n",
        "from scipy import stats\n",
        "import category_encoders as ce\n",
        "%matplotlib inline"
      ],
      "metadata": {
        "id": "vK9cu4zUI04A"
      },
      "execution_count": 1751,
      "outputs": []
    },
    {
      "cell_type": "code",
      "source": [
        "# Set up data frame\n",
        "url='https://github.com/Supersamk13/Machine-Learning-and-Data-Science/raw/main/Metro_Interstate_Traffic_Volume%5B1%5D.csv'\n",
        "traffic_df=pd.read_csv(url)"
      ],
      "metadata": {
        "id": "rWfVobREQdvQ"
      },
      "execution_count": 1752,
      "outputs": []
    },
    {
      "cell_type": "markdown",
      "source": [
        "# Getting to Know the Data\n",
        "* Understanding feature data types and information"
      ],
      "metadata": {
        "id": "eVmpwKKuUQNO"
      }
    },
    {
      "cell_type": "code",
      "source": [
        "# Getting to Know the Data\n",
        "print(traffic_df.head())\n",
        "print(traffic_df.tail())"
      ],
      "metadata": {
        "colab": {
          "base_uri": "https://localhost:8080/"
        },
        "id": "LDHveF25Tmh9",
        "outputId": "e6a92934-3639-4c79-b3a8-c70f7d8b492d"
      },
      "execution_count": 1753,
      "outputs": [
        {
          "output_type": "stream",
          "name": "stdout",
          "text": [
            "  holiday    temp  rain_1h  snow_1h  clouds_all weather_main  \\\n",
            "0    None  288.28      0.0      0.0          40       Clouds   \n",
            "1    None  289.36      0.0      0.0          75       Clouds   \n",
            "2    None  289.58      0.0      0.0          90       Clouds   \n",
            "3    None  290.13      0.0      0.0          90       Clouds   \n",
            "4    None  291.14      0.0      0.0          75       Clouds   \n",
            "\n",
            "  weather_description            date_time  traffic_volume  \n",
            "0    scattered clouds  2012-10-02 09:00:00            5545  \n",
            "1       broken clouds  2012-10-02 10:00:00            4516  \n",
            "2     overcast clouds  2012-10-02 11:00:00            4767  \n",
            "3     overcast clouds  2012-10-02 12:00:00            5026  \n",
            "4       broken clouds  2012-10-02 13:00:00            4918  \n",
            "      holiday    temp  rain_1h  snow_1h  clouds_all  weather_main  \\\n",
            "48199    None  283.45      0.0      0.0          75        Clouds   \n",
            "48200    None  282.76      0.0      0.0          90        Clouds   \n",
            "48201    None  282.73      0.0      0.0          90  Thunderstorm   \n",
            "48202    None  282.09      0.0      0.0          90        Clouds   \n",
            "48203    None  282.12      0.0      0.0          90        Clouds   \n",
            "\n",
            "          weather_description            date_time  traffic_volume  \n",
            "48199           broken clouds  2018-09-30 19:00:00            3543  \n",
            "48200         overcast clouds  2018-09-30 20:00:00            2781  \n",
            "48201  proximity thunderstorm  2018-09-30 21:00:00            2159  \n",
            "48202         overcast clouds  2018-09-30 22:00:00            1450  \n",
            "48203         overcast clouds  2018-09-30 23:00:00             954  \n"
          ]
        }
      ]
    },
    {
      "cell_type": "code",
      "source": [
        "print(traffic_df.info())"
      ],
      "metadata": {
        "colab": {
          "base_uri": "https://localhost:8080/"
        },
        "id": "5oEvlRoETzOk",
        "outputId": "2d4fcaa9-69ca-4bde-cb90-b78617dd7def"
      },
      "execution_count": 1754,
      "outputs": [
        {
          "output_type": "stream",
          "name": "stdout",
          "text": [
            "<class 'pandas.core.frame.DataFrame'>\n",
            "RangeIndex: 48204 entries, 0 to 48203\n",
            "Data columns (total 9 columns):\n",
            " #   Column               Non-Null Count  Dtype  \n",
            "---  ------               --------------  -----  \n",
            " 0   holiday              48204 non-null  object \n",
            " 1   temp                 48204 non-null  float64\n",
            " 2   rain_1h              48204 non-null  float64\n",
            " 3   snow_1h              48204 non-null  float64\n",
            " 4   clouds_all           48204 non-null  int64  \n",
            " 5   weather_main         48204 non-null  object \n",
            " 6   weather_description  48204 non-null  object \n",
            " 7   date_time            48204 non-null  object \n",
            " 8   traffic_volume       48204 non-null  int64  \n",
            "dtypes: float64(3), int64(2), object(4)\n",
            "memory usage: 3.3+ MB\n",
            "None\n"
          ]
        }
      ]
    },
    {
      "cell_type": "markdown",
      "source": [
        "* All data is non-null; no need to fill or remove missing values\n",
        "* If there were missing data, I would either remove it if it was negligible or do some KNN imputation to fill it in otherwise (or a superior model)"
      ],
      "metadata": {
        "id": "9aSVn2rOeMDi"
      }
    },
    {
      "cell_type": "code",
      "source": [
        "for index in range(traffic_df.shape[1]):\n",
        "  print(traffic_df.columns[index])\n",
        "  print(traffic_df.iloc[:,index].unique())"
      ],
      "metadata": {
        "colab": {
          "base_uri": "https://localhost:8080/"
        },
        "id": "yuZ43Bp6UAQn",
        "outputId": "1dc096df-1ee6-43c5-9e27-e73e561ba348"
      },
      "execution_count": 1755,
      "outputs": [
        {
          "output_type": "stream",
          "name": "stdout",
          "text": [
            "holiday\n",
            "['None' 'Columbus Day' 'Veterans Day' 'Thanksgiving Day' 'Christmas Day'\n",
            " 'New Years Day' 'Washingtons Birthday' 'Memorial Day' 'Independence Day'\n",
            " 'State Fair' 'Labor Day' 'Martin Luther King Jr Day']\n",
            "temp\n",
            "[288.28 289.36 289.58 ... 306.08 304.41 304.9 ]\n",
            "rain_1h\n",
            "[0.0000e+00 2.5000e-01 5.7000e-01 3.8000e-01 3.0000e-01 2.9000e-01\n",
            " 4.4000e-01 3.6000e-01 2.1600e+00 3.3900e+00 8.4000e-01 7.6000e-01\n",
            " 5.1000e-01 6.9000e-01 1.0000e+00 1.2900e+00 1.3400e+00 1.8400e+00\n",
            " 1.7000e+00 4.7000e-01 1.4100e+00 1.4400e+00 7.0000e-01 3.1800e+00\n",
            " 6.1000e-01 6.4000e-01 1.0200e+00 5.4200e+00 8.6400e+00 5.7400e+00\n",
            " 4.9800e+00 3.6500e+00 6.8000e-01 4.6000e-01 4.2000e-01 1.5200e+00\n",
            " 8.9000e-01 1.4000e+00 1.2190e+01 2.2900e+00 7.5400e+00 6.9400e+00\n",
            " 1.6380e+01 1.7800e+00 2.5400e+00 9.1400e+00 3.0500e+00 1.6500e+00\n",
            " 4.4450e+01 3.8100e+00 5.8400e+00 3.5600e+00 7.3700e+00 1.3500e+00\n",
            " 1.6000e+01 1.0540e+01 1.2700e+00 5.0800e+00 1.9900e+01 2.5320e+01\n",
            " 2.1420e+01 5.5900e+00 7.1100e+00 5.9700e+00 9.5300e+00 2.0300e+00\n",
            " 5.5630e+01 1.3210e+01 6.6000e+00 5.6000e-01 3.2000e-01 2.3700e+00\n",
            " 3.9800e+00 4.3200e+00 1.9600e+00 1.6800e+00 4.3900e+00 4.2700e+00\n",
            " 1.6600e+00 3.4000e-01 3.5000e-01 1.3900e+00 1.8000e+00 9.1000e-01\n",
            " 1.2100e+00 1.1300e+00 1.0900e+00 5.3000e-01 9.7000e-01 8.5000e-01\n",
            " 1.8800e+01 2.8700e+01 1.4730e+01 4.1000e-01 7.9000e-01 1.0600e+00\n",
            " 9.5000e-01 1.0700e+00 3.7000e-01 8.3000e-01 7.2000e-01 6.7000e-01\n",
            " 1.9100e+00 5.4000e-01 4.8000e-01 4.0000e-01 3.1000e-01 2.8000e-01\n",
            " 2.6000e-01 9.4000e-01 2.0500e+00 1.8700e+00 1.1400e+00 5.9000e-01\n",
            " 5.2000e-01 7.1000e-01 5.8000e-01 6.0000e-01 2.7000e-01 3.3000e-01\n",
            " 1.1100e+00 2.1300e+00 2.1000e+00 1.6300e+00 1.3800e+00 9.6000e-01\n",
            " 8.1000e-01 1.0800e+00 1.7100e+00 2.3500e+00 1.8600e+00 2.1100e+00\n",
            " 2.8600e+00 2.5300e+00 2.8500e+00 2.2100e+00 1.3000e+00 9.2000e-01\n",
            " 1.2000e+00 8.0000e-01 7.8000e-01 8.8000e-01 6.6000e-01 6.2000e-01\n",
            " 9.0000e-01 4.3000e-01 1.1200e+00 1.4600e+00 1.2200e+00 1.0500e+00\n",
            " 2.2200e+00 6.5000e-01 2.3100e+00 3.1700e+00 2.1400e+00 2.3400e+00\n",
            " 1.6100e+00 1.5000e+00 2.6700e+00 5.5800e+00 5.1100e+00 5.1000e+00\n",
            " 4.5300e+00 1.2500e+00 4.5000e+00 3.4700e+00 5.5000e-01 4.5000e-01\n",
            " 2.1800e+00 1.3200e+00 2.8400e+00 3.4100e+00 2.9300e+00 2.8700e+00\n",
            " 2.8000e+00 7.4000e-01 6.3500e+00 4.2900e+00 1.2400e+00 8.7000e-01\n",
            " 7.3900e+00 3.1900e+00 1.8300e+00 2.7900e+00 9.8000e-01 5.0000e-01\n",
            " 7.7000e-01 2.9800e+00 4.7600e+00 4.8900e+00 9.3000e-01 1.2800e+00\n",
            " 4.4500e+00 5.2700e+00 1.1580e+01 7.0200e+00 3.0800e+00 1.9800e+00\n",
            " 1.4700e+00 1.0400e+00 1.3300e+00 4.6600e+00 2.0800e+00 2.2000e+00\n",
            " 3.1200e+00 1.5300e+00 1.8500e+00 3.2500e+00 1.9000e+00 1.2450e+01\n",
            " 2.4100e+00 1.3700e+00 5.4600e+00 2.7800e+00 1.3100e+00 3.4400e+00\n",
            " 2.7500e+00 2.1900e+00 1.5500e+00 1.5900e+00 5.7300e+00 5.9300e+00\n",
            " 6.8900e+00 3.9100e+00 1.8030e+01 4.4300e+00 3.9000e+00 6.4500e+00\n",
            " 5.0200e+00 4.0900e+00 1.7600e+00 1.1900e+00 2.7000e+00 7.7700e+00\n",
            " 4.2100e+00 1.8800e+00 1.7200e+00 1.1000e+00 3.0100e+00 2.1200e+00\n",
            " 8.4000e+00 4.8000e+00 9.9000e+00 6.1000e+00 4.1800e+00 8.6000e-01\n",
            " 1.4900e+00 8.8900e+00 7.3000e-01 1.1590e+01 2.3300e+00 9.4000e+00\n",
            " 3.2000e+00 7.9700e+00 2.3800e+01 1.1780e+01 7.5100e+00 1.5410e+01\n",
            " 3.1300e+00 2.1500e+00 4.5700e+00 9.9100e+00 2.7570e+01 7.2900e+00\n",
            " 1.1500e+00 1.3640e+01 7.2500e+00 5.2500e+00 2.9100e+00 8.0200e+00\n",
            " 2.0240e+01 1.3320e+01 5.5200e+00 1.2700e+01 4.3800e+00 1.0300e+00\n",
            " 3.5400e+00 5.8600e+00 7.8700e+00 6.4700e+00 2.6100e+00 1.6700e+00\n",
            " 1.5600e+00 8.0400e+00 2.5460e+01 3.0900e+00 1.9300e+00 1.5100e+00\n",
            " 3.7400e+00 7.7200e+00 4.6400e+00 2.4900e+00 5.0400e+00 5.9200e+00\n",
            " 5.3600e+00 2.3800e+00 6.3000e-01 3.2800e+00 4.0400e+00 2.6200e+00\n",
            " 3.3000e+00 3.8600e+00 5.6900e+00 2.0600e+00 1.0670e+01 6.0100e+00\n",
            " 2.4000e+00 1.6000e+00 4.0600e+00 5.2100e+00 4.7000e+00 2.9600e+00\n",
            " 1.6900e+00 1.0920e+01 2.6800e+00 1.0050e+01 7.7000e+00 4.0500e+00\n",
            " 3.8000e+00 7.6200e+00 6.4800e+00 9.8313e+03 1.1230e+01 9.4200e+00\n",
            " 1.3460e+01 5.8900e+00 1.6510e+01 1.2830e+01 1.8420e+01 5.0600e+00\n",
            " 1.9500e+00 9.0000e+00 3.9400e+00 8.8600e+00 5.9900e+00 8.0000e+00\n",
            " 3.1750e+01 5.4100e+00 2.0070e+01 1.0160e+01 9.1500e+00 2.3900e+00\n",
            " 3.2700e+00 4.1500e+00 4.7400e+00 3.7500e+00 2.8300e+00 1.5750e+01\n",
            " 3.6400e+00 7.1300e+00 1.1600e+00 7.0500e+00 2.7300e+00 4.0000e+00\n",
            " 2.7600e+00 2.8800e+00 1.8200e+00 5.6200e+00 3.4000e+00 2.9200e+00\n",
            " 3.1000e+00 2.6000e+00 1.4500e+00 2.2600e+00 3.4500e+00 2.4800e+00\n",
            " 5.1200e+00 1.0100e+00 4.7900e+00 5.1900e+00 9.6200e+00 1.0600e+01]\n",
            "snow_1h\n",
            "[0.   0.51 0.32 0.06 0.05 0.21 0.25 0.44 0.13 0.1  0.17 0.08]\n",
            "clouds_all\n",
            "[ 40  75  90   1  20   0 100  92  99  81  50  72  56  57  93  85  68  87\n",
            "  91  96  48  60   8  38  46  98  86  16   6  59  54  89  78  36  17  58\n",
            "  63  42  25  11  13  83  70  84   3  77  88  67  97  62  32   4   5   2\n",
            "  44  24  76  64  80  12]\n",
            "weather_main\n",
            "['Clouds' 'Clear' 'Rain' 'Drizzle' 'Mist' 'Haze' 'Fog' 'Thunderstorm'\n",
            " 'Snow' 'Squall' 'Smoke']\n",
            "weather_description\n",
            "['scattered clouds' 'broken clouds' 'overcast clouds' 'sky is clear'\n",
            " 'few clouds' 'light rain' 'light intensity drizzle' 'mist' 'haze' 'fog'\n",
            " 'proximity shower rain' 'drizzle' 'moderate rain' 'heavy intensity rain'\n",
            " 'proximity thunderstorm' 'thunderstorm with light rain'\n",
            " 'proximity thunderstorm with rain' 'heavy snow' 'heavy intensity drizzle'\n",
            " 'snow' 'thunderstorm with heavy rain' 'freezing rain' 'shower snow'\n",
            " 'light rain and snow' 'light intensity shower rain' 'SQUALLS'\n",
            " 'thunderstorm with rain' 'proximity thunderstorm with drizzle'\n",
            " 'thunderstorm' 'Sky is Clear' 'very heavy rain'\n",
            " 'thunderstorm with light drizzle' 'light snow'\n",
            " 'thunderstorm with drizzle' 'smoke' 'shower drizzle' 'light shower snow'\n",
            " 'sleet']\n",
            "date_time\n",
            "['2012-10-02 09:00:00' '2012-10-02 10:00:00' '2012-10-02 11:00:00' ...\n",
            " '2018-09-30 21:00:00' '2018-09-30 22:00:00' '2018-09-30 23:00:00']\n",
            "traffic_volume\n",
            "[5545 4516 4767 ... 6623 1207 2346]\n"
          ]
        }
      ]
    },
    {
      "cell_type": "code",
      "source": [
        "# Stats about each numeric feature\n",
        "print(traffic_df.describe())"
      ],
      "metadata": {
        "colab": {
          "base_uri": "https://localhost:8080/"
        },
        "id": "5PTJ50HGeA31",
        "outputId": "7bfe3f06-f748-446d-ac13-c8bc28d60f4f"
      },
      "execution_count": 1756,
      "outputs": [
        {
          "output_type": "stream",
          "name": "stdout",
          "text": [
            "               temp       rain_1h       snow_1h    clouds_all  traffic_volume\n",
            "count  48204.000000  48204.000000  48204.000000  48204.000000    48204.000000\n",
            "mean     281.205870      0.334264      0.000222     49.362231     3259.818355\n",
            "std       13.338232     44.789133      0.008168     39.015750     1986.860670\n",
            "min        0.000000      0.000000      0.000000      0.000000        0.000000\n",
            "25%      272.160000      0.000000      0.000000      1.000000     1193.000000\n",
            "50%      282.450000      0.000000      0.000000     64.000000     3380.000000\n",
            "75%      291.806000      0.000000      0.000000     90.000000     4933.000000\n",
            "max      310.070000   9831.300000      0.510000    100.000000     7280.000000\n"
          ]
        }
      ]
    },
    {
      "cell_type": "code",
      "source": [
        "# Stats about each categorical feature\n",
        "print(traffic_df.describe(include='object'))"
      ],
      "metadata": {
        "colab": {
          "base_uri": "https://localhost:8080/"
        },
        "id": "b1xvCOrZeYZm",
        "outputId": "5c76a412-c49c-4b97-b262-89dec25a7ac9"
      },
      "execution_count": 1757,
      "outputs": [
        {
          "output_type": "stream",
          "name": "stdout",
          "text": [
            "       holiday weather_main weather_description            date_time\n",
            "count    48204        48204               48204                48204\n",
            "unique      12           11                  38                40575\n",
            "top       None       Clouds        sky is clear  2013-05-19 10:00:00\n",
            "freq     48143        15164               11665                    6\n"
          ]
        }
      ]
    },
    {
      "cell_type": "markdown",
      "source": [
        "* holiday is very imbalanced towards no holiday\n",
        "* holiday and weather_main have a small amount of categories making One-Hot Encoding a viable option for some models (maybe also weather_description)\n",
        "* For date_time, second is most likely unimportant; note to compare model performance including second vs. excluding second\n",
        "* Above comment may also be applicable for minute\n",
        "* date_time may be tricky for parametric models as it requires nuance for analysis\n"
      ],
      "metadata": {
        "id": "jUwPZLu6eqIg"
      }
    },
    {
      "cell_type": "markdown",
      "source": [
        "### Feature Conclusions\n",
        "* holiday- Categorical, US National holidays plus regional holidays\n",
        "* temp- Numeric, Average temp in kelvin\n",
        "* rain_1h- Numeric, Amount in mm of rain that occurred in the hour\n",
        "* snow_1h- Numeric, Amount in mm of snow that occurred in the hour\n",
        "* clouds_all- Numeric, Percentage of cloud cover\n",
        "* weather_main- Categorical, Short textual description of the current weather\n",
        "* weather_description- Categorical, Longer textual description of the current weather\n",
        "* date_time- DateTime, Hour of the data collected in local CST time\n",
        "* traffic_volume- Numeric Hourly I-94 ATR 301 reported westbound traffic volume\n",
        "\n",
        "\n",
        "\n",
        "### Other Data Info\n",
        "* Shape = (48204, 9)\n",
        "* Traffic is westbound\n",
        "* Traffic is between Saint Paul and Minneapolis\n",
        "* Hourly Interstate 94 Westbound traffic volume for MN DoT ATR station 301, roughly midway between Minneapolis and St Paul, MN. Hourly weather features and holidays included for impacts on traffic volume. Collected from 2012-2018."
      ],
      "metadata": {
        "id": "aorc6XXlWekY"
      }
    },
    {
      "cell_type": "markdown",
      "source": [
        "# EDA\n",
        "* What are the best weather indicators of heavy traffic?\n",
        "* During which time of day is traffic the heaviest? (hours and day vs. night)?\n",
        "* During which time of the year if traffic the heaviest (months and winter vs. summer)?\n",
        "* Which holidays lead to the most traffic?\n",
        "* How has traffic volume changed over the years?\n",
        "* Which day(s) of the week have the most and least traffic?\n",
        "* Is there more traffic on the weekend or weekdays?\n"
      ],
      "metadata": {
        "id": "mpR2Ozv9ZT8-"
      }
    },
    {
      "cell_type": "markdown",
      "source": [
        "# Noise Data and Structural Error Analysis/Treatment"
      ],
      "metadata": {
        "id": "z05Gb0eM7QHk"
      }
    },
    {
      "cell_type": "code",
      "source": [
        "traffic_df['weather_description']=traffic_df['weather_description'].apply(lambda x: x.lower())"
      ],
      "metadata": {
        "id": "8APAIWqB7Zxf"
      },
      "execution_count": 1758,
      "outputs": []
    },
    {
      "cell_type": "markdown",
      "source": [
        "# Treatment/Analysis of Outliers and Missing Data\n",
        "* Eliminate outliers (use boxplot and pandas statistical describe function as metrics)\n",
        "* I am making each data visualization plot to help me in data preprocessing and feature engineering.\n",
        "* I would make them significantly more user-friendly and communication-oriented if they were meant to be presented or shown to those who are not very familiar with the data."
      ],
      "metadata": {
        "id": "FQpfr7R7wqUI"
      }
    },
    {
      "cell_type": "markdown",
      "source": [
        "## Remove Outliers\n",
        "\n",
        "* Outliers appear to be heavily skewing the feature data\n",
        "* Due to there being a small amount of outliers and large amount of data, removing the outliers is a viable choice"
      ],
      "metadata": {
        "id": "uqNOHt93qiXt"
      }
    },
    {
      "cell_type": "markdown",
      "source": [
        "### traffic_volume"
      ],
      "metadata": {
        "id": "8M6-G_PEqm50"
      }
    },
    {
      "cell_type": "code",
      "source": [
        "# Boxplot\n",
        "plt.boxplot(traffic_df['traffic_volume'])\n",
        "\n",
        "# Add labels\n",
        "plt.title('Boxplot of traffic_volume')\n",
        "plt.ylabel('traffic_volume')\n",
        "\n",
        "plt.show()"
      ],
      "metadata": {
        "colab": {
          "base_uri": "https://localhost:8080/",
          "height": 452
        },
        "id": "RVUcya9Tq8RU",
        "outputId": "a54fe43b-9fb3-4036-87fd-09b2caae9f8e"
      },
      "execution_count": 1759,
      "outputs": [
        {
          "output_type": "display_data",
          "data": {
            "text/plain": [
              "<Figure size 640x480 with 1 Axes>"
            ],
            "image/png": "[encoded data removed]"
          },
          "metadata": {}
        }
      ]
    },
    {
      "cell_type": "code",
      "source": [
        "# Stats about each numeric feature\n",
        "print(traffic_df['traffic_volume'].describe())"
      ],
      "metadata": {
        "colab": {
          "base_uri": "https://localhost:8080/"
        },
        "id": "7b2UxylDrWgU",
        "outputId": "a3b6bdb1-c418-4360-81f2-3dc2bb6cf8f7"
      },
      "execution_count": 1760,
      "outputs": [
        {
          "output_type": "stream",
          "name": "stdout",
          "text": [
            "count    48204.000000\n",
            "mean      3259.818355\n",
            "std       1986.860670\n",
            "min          0.000000\n",
            "25%       1193.000000\n",
            "50%       3380.000000\n",
            "75%       4933.000000\n",
            "max       7280.000000\n",
            "Name: traffic_volume, dtype: float64\n"
          ]
        }
      ]
    },
    {
      "cell_type": "markdown",
      "source": [
        "No apparent outliers"
      ],
      "metadata": {
        "id": "lbWVLGl6sGQR"
      }
    },
    {
      "cell_type": "markdown",
      "source": [
        "### temp"
      ],
      "metadata": {
        "id": "wOeRj8tAqp3z"
      }
    },
    {
      "cell_type": "code",
      "source": [
        "# Boxplot\n",
        "plt.boxplot(traffic_df['temp'])\n",
        "\n",
        "# Add labels\n",
        "plt.title('Boxplot of temp (K)')\n",
        "plt.ylabel('temp (K)')\n",
        "\n",
        "plt.show()"
      ],
      "metadata": {
        "colab": {
          "base_uri": "https://localhost:8080/",
          "height": 452
        },
        "id": "LJVgSHsmrERe",
        "outputId": "6ae10f0c-ec7d-4c9f-f1d9-6e7e5db04788"
      },
      "execution_count": 1761,
      "outputs": [
        {
          "output_type": "display_data",
          "data": {
            "text/plain": [
              "<Figure size 640x480 with 1 Axes>"
            ],
            "image/png": "[encoded data removed]"
          },
          "metadata": {}
        }
      ]
    },
    {
      "cell_type": "code",
      "source": [
        "# Stats about each numeric feature\n",
        "print(traffic_df['temp'].describe())"
      ],
      "metadata": {
        "colab": {
          "base_uri": "https://localhost:8080/"
        },
        "id": "HNEX3WQfrXJo",
        "outputId": "ac167c23-74f4-46bf-9528-f1e3fe9f0432"
      },
      "execution_count": 1762,
      "outputs": [
        {
          "output_type": "stream",
          "name": "stdout",
          "text": [
            "count    48204.000000\n",
            "mean       281.205870\n",
            "std         13.338232\n",
            "min          0.000000\n",
            "25%        272.160000\n",
            "50%        282.450000\n",
            "75%        291.806000\n",
            "max        310.070000\n",
            "Name: temp, dtype: float64\n"
          ]
        }
      ]
    },
    {
      "cell_type": "markdown",
      "source": [
        "Remove outlier at 0 (most likely false entry/mistake)"
      ],
      "metadata": {
        "id": "dI0JUnDjsNzo"
      }
    },
    {
      "cell_type": "code",
      "source": [
        "# Remove outliers\n",
        "traffic_df=traffic_df[np.absolute(stats.zscore(traffic_df['temp']))<3]"
      ],
      "metadata": {
        "id": "IYQ3O-DGsNJg"
      },
      "execution_count": 1763,
      "outputs": []
    },
    {
      "cell_type": "markdown",
      "source": [
        "Recheck data"
      ],
      "metadata": {
        "id": "5XHu_LAgs_w7"
      }
    },
    {
      "cell_type": "code",
      "source": [
        "# Boxplot\n",
        "plt.boxplot(traffic_df['temp'])\n",
        "\n",
        "# Add labels\n",
        "plt.title('Boxplot of temp (K)')\n",
        "plt.ylabel('temp (K)')\n",
        "\n",
        "plt.show()"
      ],
      "metadata": {
        "colab": {
          "base_uri": "https://localhost:8080/",
          "height": 452
        },
        "id": "4dUpVWlMtBg3",
        "outputId": "8b1f4a03-228b-4f51-c5b6-7cce67c54d04"
      },
      "execution_count": 1764,
      "outputs": [
        {
          "output_type": "display_data",
          "data": {
            "text/plain": [
              "<Figure size 640x480 with 1 Axes>"
            ],
            "image/png": "[encoded data removed]"
          },
          "metadata": {}
        }
      ]
    },
    {
      "cell_type": "code",
      "source": [
        "# Stats about each numeric feature\n",
        "print(traffic_df['temp'].describe())"
      ],
      "metadata": {
        "colab": {
          "base_uri": "https://localhost:8080/"
        },
        "id": "3wB8UnUktDP2",
        "outputId": "468bfefc-ed3e-44c8-db93-faf8160d399b"
      },
      "execution_count": 1765,
      "outputs": [
        {
          "output_type": "stream",
          "name": "stdout",
          "text": [
            "count    48194.000000\n",
            "mean       281.264219\n",
            "std         12.709587\n",
            "min        243.390000\n",
            "25%        272.182500\n",
            "50%        282.460000\n",
            "75%        291.810000\n",
            "max        310.070000\n",
            "Name: temp, dtype: float64\n"
          ]
        }
      ]
    },
    {
      "cell_type": "markdown",
      "source": [
        "No apparent outliers"
      ],
      "metadata": {
        "id": "N2NLGxDDtKPg"
      }
    },
    {
      "cell_type": "markdown",
      "source": [
        "### clouds_all"
      ],
      "metadata": {
        "id": "psjirETOqsaM"
      }
    },
    {
      "cell_type": "code",
      "source": [
        "# Boxplot\n",
        "plt.boxplot(traffic_df['clouds_all'])\n",
        "\n",
        "# Add labels\n",
        "plt.title('Boxplot of clouds_all')\n",
        "plt.ylabel('clouds_all')\n",
        "\n",
        "plt.show()"
      ],
      "metadata": {
        "colab": {
          "base_uri": "https://localhost:8080/",
          "height": 452
        },
        "id": "bzjYFCf-rAiy",
        "outputId": "6ec93844-b1d2-4433-8c48-f34aa956ad07"
      },
      "execution_count": 1766,
      "outputs": [
        {
          "output_type": "display_data",
          "data": {
            "text/plain": [
              "<Figure size 640x480 with 1 Axes>"
            ],
            "image/png": "[encoded data removed]"
          },
          "metadata": {}
        }
      ]
    },
    {
      "cell_type": "code",
      "source": [
        "# Stats about each numeric feature\n",
        "print(traffic_df['clouds_all'].describe())"
      ],
      "metadata": {
        "colab": {
          "base_uri": "https://localhost:8080/"
        },
        "id": "5B0hT0jTrXp8",
        "outputId": "5d76d079-bb61-4ba7-9eef-79cc27642f41"
      },
      "execution_count": 1767,
      "outputs": [
        {
          "output_type": "stream",
          "name": "stdout",
          "text": [
            "count    48194.000000\n",
            "mean        49.372474\n",
            "std         39.013317\n",
            "min          0.000000\n",
            "25%          1.000000\n",
            "50%         64.000000\n",
            "75%         90.000000\n",
            "max        100.000000\n",
            "Name: clouds_all, dtype: float64\n"
          ]
        }
      ]
    },
    {
      "cell_type": "markdown",
      "source": [
        "No apparent outliers"
      ],
      "metadata": {
        "id": "g_aepIVWtPBq"
      }
    },
    {
      "cell_type": "markdown",
      "source": [
        "### rain_1h"
      ],
      "metadata": {
        "id": "uSgHwt9Uqvot"
      }
    },
    {
      "cell_type": "code",
      "source": [
        "# Boxplot\n",
        "plt.boxplot(traffic_df['rain_1h'])\n",
        "\n",
        "# Add labels\n",
        "plt.title('Boxplot of rain_1h')\n",
        "plt.ylabel('rain_1h')\n",
        "\n",
        "plt.show()"
      ],
      "metadata": {
        "colab": {
          "base_uri": "https://localhost:8080/",
          "height": 452
        },
        "id": "_fVHhloyrG2i",
        "outputId": "338d0cd1-d2ab-4b43-8feb-9674862b8c79"
      },
      "execution_count": 1768,
      "outputs": [
        {
          "output_type": "display_data",
          "data": {
            "text/plain": [
              "<Figure size 640x480 with 1 Axes>"
            ],
            "image/png": "[encoded data removed]"
          },
          "metadata": {}
        }
      ]
    },
    {
      "cell_type": "code",
      "source": [
        "# Stats about each numeric feature\n",
        "print(traffic_df['rain_1h'].describe())"
      ],
      "metadata": {
        "colab": {
          "base_uri": "https://localhost:8080/"
        },
        "id": "f_zgv1VbrYIp",
        "outputId": "b4858e70-2899-402d-c8f2-ece7c7cd5b72"
      },
      "execution_count": 1769,
      "outputs": [
        {
          "output_type": "stream",
          "name": "stdout",
          "text": [
            "count    48194.000000\n",
            "mean         0.334333\n",
            "std         44.793779\n",
            "min          0.000000\n",
            "25%          0.000000\n",
            "50%          0.000000\n",
            "75%          0.000000\n",
            "max       9831.300000\n",
            "Name: rain_1h, dtype: float64\n"
          ]
        }
      ]
    },
    {
      "cell_type": "markdown",
      "source": [
        "Some apparent outlier"
      ],
      "metadata": {
        "id": "FTLuLisItXG7"
      }
    },
    {
      "cell_type": "code",
      "source": [
        "# Remove outliers\n",
        "traffic_df=traffic_df[np.absolute(stats.zscore(traffic_df['rain_1h']))<.9]"
      ],
      "metadata": {
        "id": "dghrf1LhtZVv"
      },
      "execution_count": 1770,
      "outputs": []
    },
    {
      "cell_type": "code",
      "source": [
        "# Boxplot\n",
        "plt.boxplot(traffic_df['rain_1h'])\n",
        "\n",
        "# Add labels\n",
        "plt.title('Boxplot of rain_1h')\n",
        "plt.ylabel('rain_1h')\n",
        "\n",
        "plt.show()"
      ],
      "metadata": {
        "colab": {
          "base_uri": "https://localhost:8080/",
          "height": 452
        },
        "id": "f1qEU0Dtuyic",
        "outputId": "41f0695b-852d-4e42-bd46-cc3e94631f3f"
      },
      "execution_count": 1771,
      "outputs": [
        {
          "output_type": "display_data",
          "data": {
            "text/plain": [
              "<Figure size 640x480 with 1 Axes>"
            ],
            "image/png": "[encoded data removed]"
          },
          "metadata": {}
        }
      ]
    },
    {
      "cell_type": "code",
      "source": [
        "# Stats about each numeric feature\n",
        "print(traffic_df['rain_1h'].describe())"
      ],
      "metadata": {
        "colab": {
          "base_uri": "https://localhost:8080/"
        },
        "id": "l09K3pT0u0qE",
        "outputId": "7404dc11-a942-46cf-d314-cf7610a00193"
      },
      "execution_count": 1772,
      "outputs": [
        {
          "output_type": "stream",
          "name": "stdout",
          "text": [
            "count    48191.000000\n",
            "mean         0.128270\n",
            "std          0.949912\n",
            "min          0.000000\n",
            "25%          0.000000\n",
            "50%          0.000000\n",
            "75%          0.000000\n",
            "max         31.750000\n",
            "Name: rain_1h, dtype: float64\n"
          ]
        }
      ]
    },
    {
      "cell_type": "markdown",
      "source": [
        "Data has no apparent harmful or misleading outliers; deal with zero-inflation later"
      ],
      "metadata": {
        "id": "_BECS3qIvPxV"
      }
    },
    {
      "cell_type": "markdown",
      "source": [
        "### snow_1h"
      ],
      "metadata": {
        "id": "Nz8tvZ5Aqx80"
      }
    },
    {
      "cell_type": "code",
      "source": [
        "# Boxplot\n",
        "plt.boxplot(traffic_df['snow_1h'])\n",
        "\n",
        "# Add labels\n",
        "plt.title('Boxplot of snow_1h')\n",
        "plt.ylabel('snow_1h')\n",
        "\n",
        "plt.show()"
      ],
      "metadata": {
        "colab": {
          "base_uri": "https://localhost:8080/",
          "height": 452
        },
        "id": "SPrsGwEMrKBK",
        "outputId": "9a6a6b68-2a48-429f-ffea-d82894a3e251"
      },
      "execution_count": 1773,
      "outputs": [
        {
          "output_type": "display_data",
          "data": {
            "text/plain": [
              "<Figure size 640x480 with 1 Axes>"
            ],
            "image/png": "[encoded data removed]"
          },
          "metadata": {}
        }
      ]
    },
    {
      "cell_type": "code",
      "source": [
        "# Stats about each numeric feature\n",
        "print(traffic_df['snow_1h'].describe())"
      ],
      "metadata": {
        "colab": {
          "base_uri": "https://localhost:8080/"
        },
        "id": "_rknNkFhrY1t",
        "outputId": "6fbcff66-63f0-49f7-9e1c-453d13c3e5f6"
      },
      "execution_count": 1774,
      "outputs": [
        {
          "output_type": "stream",
          "name": "stdout",
          "text": [
            "count    48191.000000\n",
            "mean         0.000222\n",
            "std          0.008169\n",
            "min          0.000000\n",
            "25%          0.000000\n",
            "50%          0.000000\n",
            "75%          0.000000\n",
            "max          0.510000\n",
            "Name: snow_1h, dtype: float64\n"
          ]
        }
      ]
    },
    {
      "cell_type": "markdown",
      "source": [
        "Data has no apparent harmful or misleading outliers; deal with zero-inflation later"
      ],
      "metadata": {
        "id": "st9K8eGLwBBm"
      }
    },
    {
      "cell_type": "markdown",
      "source": [
        "* Eliminate skew in numerical features and target (use histogram, pandas statistical describe function, and pandas skew function as metrics)\n",
        "* Finally normalize each numerical feature"
      ],
      "metadata": {
        "id": "WFM1Xh9ohFfg"
      }
    },
    {
      "cell_type": "markdown",
      "source": [
        "# Feature Engineering"
      ],
      "metadata": {
        "id": "hT6_WIO4xokg"
      }
    },
    {
      "cell_type": "markdown",
      "source": [
        "### rain_1h"
      ],
      "metadata": {
        "id": "bcz5uwwqyFUA"
      }
    },
    {
      "cell_type": "markdown",
      "source": [
        "I figure that the way I handle both rain_1h and snow_1h will be the same. I have to deal with zero-inflated non-negative variables with true zeros. This rules out tobit regression and data transformations. After a long time researching and contemplating different approaches, I have to add an discretized rain_1h and snow_1h to my data. I will now have a continuous and discrete feature for both rain_1h and snow_1h. I will either use the continuous features or the discretized features depending on the machine learning algorithm.\n",
        "\n",
        "\n",
        "I will then attempt to reduce the skew slightly by applying a transformation\n",
        "\n",
        "I could have done a two-part model and separated the data sets. I am still learning how to do that, so this will have to suffice for now."
      ],
      "metadata": {
        "id": "Blw3UMwa4Vbh"
      }
    },
    {
      "cell_type": "code",
      "source": [
        "# Stats about each numeric feature\n",
        "print(traffic_df['rain_1h'].describe())"
      ],
      "metadata": {
        "colab": {
          "base_uri": "https://localhost:8080/"
        },
        "outputId": "f744b077-1c3c-4039-9767-6cf14ad8a7fa",
        "id": "14UDebpxyFUB"
      },
      "execution_count": 1775,
      "outputs": [
        {
          "output_type": "stream",
          "name": "stdout",
          "text": [
            "count    48191.000000\n",
            "mean         0.128270\n",
            "std          0.949912\n",
            "min          0.000000\n",
            "25%          0.000000\n",
            "50%          0.000000\n",
            "75%          0.000000\n",
            "max         31.750000\n",
            "Name: rain_1h, dtype: float64\n"
          ]
        }
      ]
    },
    {
      "cell_type": "code",
      "source": [
        "# Histogram\n",
        "plt.hist(traffic_df['rain_1h'], bins=30)\n",
        "\n",
        "# Labels\n",
        "plt.xlabel('rain_1h')\n",
        "plt.ylabel('Instances')\n",
        "plt.title('rain_1h Histogram')\n",
        "\n",
        "# Manipulate figure size\n",
        "plt.figure(figsize=(10,6))\n",
        "\n",
        "# Show plot\n",
        "plt.show()"
      ],
      "metadata": {
        "colab": {
          "base_uri": "https://localhost:8080/",
          "height": 489
        },
        "outputId": "45ab8b66-bc79-45dc-9cad-1b289a42e528",
        "id": "za5f789kyFUB"
      },
      "execution_count": 1776,
      "outputs": [
        {
          "output_type": "display_data",
          "data": {
            "text/plain": [
              "<Figure size 640x480 with 1 Axes>"
            ],
            "image/png": "[encoded data removed]"
          },
          "metadata": {}
        },
        {
          "output_type": "display_data",
          "data": {
            "text/plain": [
              "<Figure size 1000x600 with 0 Axes>"
            ]
          },
          "metadata": {}
        }
      ]
    },
    {
      "cell_type": "markdown",
      "source": [
        "Significant right skew due to zero-inflation"
      ],
      "metadata": {
        "id": "FkYeE-ZsyFUC"
      }
    },
    {
      "cell_type": "code",
      "source": [
        "# From outside research about rain- 0-->None(0), 0<Light(1)<=2.5, 2.5<Medium(2)<=8, 8<Heavy(3)\n",
        "traffic_df['rain_1h_bin']=traffic_df['rain_1h'].apply(lambda x: 0 if x==0 else 1 if x<=2.5 else 2 if x<=8 else 3)"
      ],
      "metadata": {
        "id": "p37gtSm4yFUD"
      },
      "execution_count": 1777,
      "outputs": []
    },
    {
      "cell_type": "code",
      "source": [
        "# Stats about each numeric feature\n",
        "print(traffic_df['rain_1h'].describe())"
      ],
      "metadata": {
        "colab": {
          "base_uri": "https://localhost:8080/"
        },
        "outputId": "d6241e13-b245-4a52-b323-116f50880550",
        "id": "4OK_VOSRyFUD"
      },
      "execution_count": 1778,
      "outputs": [
        {
          "output_type": "stream",
          "name": "stdout",
          "text": [
            "count    48191.000000\n",
            "mean         0.128270\n",
            "std          0.949912\n",
            "min          0.000000\n",
            "25%          0.000000\n",
            "50%          0.000000\n",
            "75%          0.000000\n",
            "max         31.750000\n",
            "Name: rain_1h, dtype: float64\n"
          ]
        }
      ]
    },
    {
      "cell_type": "code",
      "source": [
        "# Histogram\n",
        "plt.hist(traffic_df['rain_1h_bin'], bins=30)\n",
        "\n",
        "# Labels\n",
        "plt.xlabel('rain_1h_bin')\n",
        "plt.ylabel('Instances')\n",
        "plt.title('rain_1h_bin Histogram')\n",
        "\n",
        "# Manipulate figure size\n",
        "plt.figure(figsize=(10,6))\n",
        "\n",
        "# Show plot\n",
        "plt.show()"
      ],
      "metadata": {
        "colab": {
          "base_uri": "https://localhost:8080/",
          "height": 489
        },
        "outputId": "50f28f20-80c3-4f54-f69a-2704af739bfe",
        "id": "8Tidy5XXyFUE"
      },
      "execution_count": 1779,
      "outputs": [
        {
          "output_type": "display_data",
          "data": {
            "text/plain": [
              "<Figure size 640x480 with 1 Axes>"
            ],
            "image/png": "[encoded data removed]"
          },
          "metadata": {}
        },
        {
          "output_type": "display_data",
          "data": {
            "text/plain": [
              "<Figure size 1000x600 with 0 Axes>"
            ]
          },
          "metadata": {}
        }
      ]
    },
    {
      "cell_type": "markdown",
      "source": [
        "Improved"
      ],
      "metadata": {
        "id": "MdBg61mfyFUF"
      }
    },
    {
      "cell_type": "markdown",
      "source": [
        "### snow_1h"
      ],
      "metadata": {
        "id": "4_0aKygXyFUF"
      }
    },
    {
      "cell_type": "code",
      "source": [
        "# Stats about each numeric feature\n",
        "print(traffic_df['snow_1h'].describe())"
      ],
      "metadata": {
        "colab": {
          "base_uri": "https://localhost:8080/"
        },
        "outputId": "a21190d0-a471-42bd-a746-9f2c24a4e170",
        "id": "1Y11H6NvyFUF"
      },
      "execution_count": 1780,
      "outputs": [
        {
          "output_type": "stream",
          "name": "stdout",
          "text": [
            "count    48191.000000\n",
            "mean         0.000222\n",
            "std          0.008169\n",
            "min          0.000000\n",
            "25%          0.000000\n",
            "50%          0.000000\n",
            "75%          0.000000\n",
            "max          0.510000\n",
            "Name: snow_1h, dtype: float64\n"
          ]
        }
      ]
    },
    {
      "cell_type": "code",
      "source": [
        "# Histogram\n",
        "plt.hist(traffic_df['snow_1h'], bins=30)\n",
        "\n",
        "# Labels\n",
        "plt.xlabel('snow_1h')\n",
        "plt.ylabel('Instances')\n",
        "plt.title('snow_1h Histogram')\n",
        "\n",
        "# Manipulate figure size\n",
        "plt.figure(figsize=(10,6))\n",
        "\n",
        "# Show plot\n",
        "plt.show()"
      ],
      "metadata": {
        "colab": {
          "base_uri": "https://localhost:8080/",
          "height": 489
        },
        "outputId": "54e2a9fc-1af8-4170-e416-35d519a41efd",
        "id": "dGjBWwh_yFUG"
      },
      "execution_count": 1781,
      "outputs": [
        {
          "output_type": "display_data",
          "data": {
            "text/plain": [
              "<Figure size 640x480 with 1 Axes>"
            ],
            "image/png": "[encoded data removed]"
          },
          "metadata": {}
        },
        {
          "output_type": "display_data",
          "data": {
            "text/plain": [
              "<Figure size 1000x600 with 0 Axes>"
            ]
          },
          "metadata": {}
        }
      ]
    },
    {
      "cell_type": "markdown",
      "source": [
        "Significant right skew due to zero-inflation"
      ],
      "metadata": {
        "id": "SLOqeX3FyFUG"
      }
    },
    {
      "cell_type": "code",
      "source": [
        "# From outside research about snow\n",
        "traffic_df['snow_1h_bin']=traffic_df['snow_1h'].apply(lambda x: 0 if x==0 else 1 if x<=.2 else 2)"
      ],
      "metadata": {
        "id": "FxmJwA-iyFUH"
      },
      "execution_count": 1782,
      "outputs": []
    },
    {
      "cell_type": "code",
      "source": [
        "# Stats about each numeric feature\n",
        "print(traffic_df['snow_1h_bin'].describe())"
      ],
      "metadata": {
        "colab": {
          "base_uri": "https://localhost:8080/"
        },
        "outputId": "0ce13224-788b-4ee5-c410-0882bff9cd05",
        "id": "hDezuXT8yFUH"
      },
      "execution_count": 1783,
      "outputs": [
        {
          "output_type": "stream",
          "name": "stdout",
          "text": [
            "count    48191.000000\n",
            "mean         0.001722\n",
            "std          0.050492\n",
            "min          0.000000\n",
            "25%          0.000000\n",
            "50%          0.000000\n",
            "75%          0.000000\n",
            "max          2.000000\n",
            "Name: snow_1h_bin, dtype: float64\n"
          ]
        }
      ]
    },
    {
      "cell_type": "code",
      "source": [
        "# Histogram\n",
        "plt.hist(traffic_df['snow_1h_bin'], bins=30)\n",
        "\n",
        "# Labels\n",
        "plt.xlabel('snow_1h_bin')\n",
        "plt.ylabel('Instances')\n",
        "plt.title('snow_1h_bin Histogram')\n",
        "\n",
        "# Manipulate figure size\n",
        "plt.figure(figsize=(10,6))\n",
        "\n",
        "# Show plot\n",
        "plt.show()"
      ],
      "metadata": {
        "colab": {
          "base_uri": "https://localhost:8080/",
          "height": 489
        },
        "outputId": "b1841d47-08db-4eb5-defc-5877cda03517",
        "id": "DPuVpql7yFUI"
      },
      "execution_count": 1784,
      "outputs": [
        {
          "output_type": "display_data",
          "data": {
            "text/plain": [
              "<Figure size 640x480 with 1 Axes>"
            ],
            "image/png": "[encoded data removed]"
          },
          "metadata": {}
        },
        {
          "output_type": "display_data",
          "data": {
            "text/plain": [
              "<Figure size 1000x600 with 0 Axes>"
            ]
          },
          "metadata": {}
        }
      ]
    },
    {
      "cell_type": "markdown",
      "source": [
        "Improved"
      ],
      "metadata": {
        "id": "uw3oErGIyFUI"
      }
    },
    {
      "cell_type": "markdown",
      "source": [
        "### Weather\n",
        "* Currently there are two weather columns: simple description (weather_main) and complex description (weather_description). The simple description is essentially an umbrella term for certain complex descriptions. I will feature engineer the weather to one column, then use binary encoding to turn the data into numerical."
      ],
      "metadata": {
        "id": "qskRBvUGzwwK"
      }
    },
    {
      "cell_type": "code",
      "source": [
        "print(traffic_df['weather_main'].unique())"
      ],
      "metadata": {
        "colab": {
          "base_uri": "https://localhost:8080/"
        },
        "id": "QGVwmhcx1Vwn",
        "outputId": "6e4f5089-25c9-41fd-8641-c7252290cdc9"
      },
      "execution_count": 1785,
      "outputs": [
        {
          "output_type": "stream",
          "name": "stdout",
          "text": [
            "['Clouds' 'Clear' 'Rain' 'Drizzle' 'Mist' 'Haze' 'Fog' 'Thunderstorm'\n",
            " 'Snow' 'Squall' 'Smoke']\n"
          ]
        }
      ]
    },
    {
      "cell_type": "code",
      "source": [
        "print(traffic_df['weather_description'].unique())"
      ],
      "metadata": {
        "colab": {
          "base_uri": "https://localhost:8080/"
        },
        "id": "rH_FUtBo1l14",
        "outputId": "cff6db35-e7fb-41dc-e32b-f763a89acf0f"
      },
      "execution_count": 1786,
      "outputs": [
        {
          "output_type": "stream",
          "name": "stdout",
          "text": [
            "['scattered clouds' 'broken clouds' 'overcast clouds' 'sky is clear'\n",
            " 'few clouds' 'light rain' 'light intensity drizzle' 'mist' 'haze' 'fog'\n",
            " 'proximity shower rain' 'drizzle' 'moderate rain' 'heavy intensity rain'\n",
            " 'proximity thunderstorm' 'thunderstorm with light rain'\n",
            " 'proximity thunderstorm with rain' 'heavy snow' 'heavy intensity drizzle'\n",
            " 'snow' 'thunderstorm with heavy rain' 'freezing rain' 'shower snow'\n",
            " 'light rain and snow' 'light intensity shower rain' 'squalls'\n",
            " 'thunderstorm with rain' 'proximity thunderstorm with drizzle'\n",
            " 'thunderstorm' 'very heavy rain' 'thunderstorm with light drizzle'\n",
            " 'light snow' 'thunderstorm with drizzle' 'smoke' 'shower drizzle'\n",
            " 'light shower snow' 'sleet']\n"
          ]
        }
      ]
    },
    {
      "cell_type": "markdown",
      "source": [
        "Due to weather_description containing weather_main with more information, I have decided to remove weather_main"
      ],
      "metadata": {
        "id": "HKw19Upw2wCw"
      }
    },
    {
      "cell_type": "code",
      "source": [
        "# To delete weather_main\n",
        "traffic_df=traffic_df.drop('weather_main', axis=1)"
      ],
      "metadata": {
        "id": "BUtEpmmx25X4"
      },
      "execution_count": 1787,
      "outputs": []
    },
    {
      "cell_type": "markdown",
      "source": [
        "I will now attempt to reduce the cardinality of weather_description\n",
        "\n",
        "I will combine weather_descriptions into groups based on similarity in other dataset features\n",
        "\n",
        "I will group the data based on their weather_description categories.\n",
        "\n",
        "Then I will use the pandas aggregate function to see mean values of other numerical features in the dataset for each category in weather_description"
      ],
      "metadata": {
        "id": "uzt55xrp38Q1"
      }
    },
    {
      "cell_type": "code",
      "source": [
        "print(traffic_df.groupby('weather_description').aggregate({'temp':[np.mean,np.size],'rain_1h':np.mean, 'snow_1h':np.mean, 'clouds_all':np.mean, 'traffic_volume':np.mean}))"
      ],
      "metadata": {
        "colab": {
          "base_uri": "https://localhost:8080/"
        },
        "id": "w7MSoSFk5L29",
        "outputId": "9d220ea0-34b6-4fbc-f066-ff80371630df"
      },
      "execution_count": 1788,
      "outputs": [
        {
          "output_type": "stream",
          "name": "stdout",
          "text": [
            "                                           temp           rain_1h   snow_1h  \\\n",
            "                                           mean   size       mean      mean   \n",
            "weather_description                                                           \n",
            "broken clouds                        281.188939   4666   0.000000  0.000000   \n",
            "drizzle                              283.005776    651   0.118710  0.000000   \n",
            "few clouds                           284.128469   1956   0.000000  0.000000   \n",
            "fog                                  279.415713    912   0.087007  0.000625   \n",
            "freezing rain                        272.860000      2   0.000000  0.000000   \n",
            "haze                                 275.818581   1360   0.046868  0.000000   \n",
            "heavy intensity drizzle              285.116406     64   0.170156  0.000000   \n",
            "heavy intensity rain                 290.326981    467   2.656660  0.000000   \n",
            "heavy snow                           269.155536    616   0.001234  0.000000   \n",
            "light intensity drizzle              284.246327   1100   0.180600  0.000000   \n",
            "light intensity shower rain          290.981538     13   0.333077  0.000000   \n",
            "light rain                           286.335152   3372   0.129404  0.000068   \n",
            "light rain and snow                  274.910000      6   0.211667  0.000000   \n",
            "light shower snow                    268.213636     11   0.000000  0.000000   \n",
            "light snow                           267.165802   1946   0.033320  0.001536   \n",
            "mist                                 279.476892   5950   0.238336  0.000728   \n",
            "moderate rain                        286.918244   1664   0.577843  0.000499   \n",
            "overcast clouds                      277.374098   5081   0.000000  0.000000   \n",
            "proximity shower rain                291.504044    136   0.231838  0.000000   \n",
            "proximity thunderstorm               293.020743    673   1.072897  0.000000   \n",
            "proximity thunderstorm with drizzle  287.531538     13   0.325385  0.000000   \n",
            "proximity thunderstorm with rain     290.197308     52   0.556923  0.000000   \n",
            "scattered clouds                     286.342470   3461   0.000000  0.000000   \n",
            "shower drizzle                       272.718333      6   0.000000  0.000000   \n",
            "shower snow                          268.680000      1   0.000000  0.000000   \n",
            "sky is clear                         281.700337  13381   0.000000  0.000000   \n",
            "sleet                                275.746667      3   0.000000  0.000000   \n",
            "smoke                                290.927500     20   0.527000  0.000000   \n",
            "snow                                 270.440034    293   0.019352  0.006041   \n",
            "squalls                              292.387500      4   3.482500  0.000000   \n",
            "thunderstorm                         293.831440    125   1.121440  0.000000   \n",
            "thunderstorm with drizzle            287.880000      2   5.345000  0.000000   \n",
            "thunderstorm with heavy rain         291.934444     63   3.071587  0.000000   \n",
            "thunderstorm with light drizzle      289.943333     15   2.014667  0.000000   \n",
            "thunderstorm with light rain         292.128148     54   0.684259  0.000000   \n",
            "thunderstorm with rain               292.352162     37   1.699459  0.000000   \n",
            "very heavy rain                      290.090667     15  22.158000  0.000000   \n",
            "\n",
            "                                    clouds_all traffic_volume  \n",
            "                                          mean           mean  \n",
            "weather_description                                            \n",
            "broken clouds                        72.287184    3661.142092  \n",
            "drizzle                              86.133641    3094.858679  \n",
            "few clouds                           19.315440    3691.453476  \n",
            "fog                                  51.497807    2703.720395  \n",
            "freezing rain                        90.000000    4314.000000  \n",
            "haze                                 58.670588    3502.101471  \n",
            "heavy intensity drizzle              87.593750    3371.109375  \n",
            "heavy intensity rain                 79.351178    3140.072805  \n",
            "heavy snow                           86.198052    3031.472403  \n",
            "light intensity drizzle              79.713636    3400.567273  \n",
            "light intensity shower rain          85.000000    4140.307692  \n",
            "light rain                           68.860913    3349.257117  \n",
            "light rain and snow                  83.166667    3961.166667  \n",
            "light shower snow                    81.909091    4618.636364  \n",
            "light snow                           78.977903    3042.770298  \n",
            "mist                                 65.956303    2932.956639  \n",
            "moderate rain                        77.969952    3202.603966  \n",
            "overcast clouds                      90.150364    3375.963590  \n",
            "proximity shower rain                76.838235    4567.845588  \n",
            "proximity thunderstorm               66.121842    3076.457652  \n",
            "proximity thunderstorm with drizzle  85.153846    3117.538462  \n",
            "proximity thunderstorm with rain     72.519231    2819.269231  \n",
            "scattered clouds                     39.936435    3875.622363  \n",
            "shower drizzle                       90.000000    3547.666667  \n",
            "shower snow                          90.000000    5664.000000  \n",
            "sky is clear                          1.547866    3057.207458  \n",
            "sleet                                90.000000    4312.666667  \n",
            "smoke                                53.350000    3237.650000  \n",
            "snow                                 87.866894    2712.122867  \n",
            "squalls                              76.000000    2061.750000  \n",
            "thunderstorm                         66.896000    2843.752000  \n",
            "thunderstorm with drizzle            90.000000    2297.000000  \n",
            "thunderstorm with heavy rain         76.873016    2631.142857  \n",
            "thunderstorm with light drizzle      79.266667    2779.266667  \n",
            "thunderstorm with light rain         70.537037    2776.833333  \n",
            "thunderstorm with rain               83.351351    3476.405405  \n",
            "very heavy rain                      55.600000    2372.466667  \n"
          ]
        }
      ]
    },
    {
      "cell_type": "markdown",
      "source": [
        "Percentage of cloud cover, quantity of rain, and quantity of snow have already ben accounted for\n",
        "\n",
        "I will group those with an important feature being percentage of cloud cover, quantity of rain, and quantity of snow into cloudy, rain, snow, respectively"
      ],
      "metadata": {
        "id": "H7sVsRS0BFix"
      }
    },
    {
      "cell_type": "code",
      "source": [
        "# Replace weather_description\n",
        "traffic_df['weather_description']=traffic_df['weather_description'].apply(lambda x: 'rain' if x in ['freezing rain', 'drizzle','heavy intensity drizzle', 'heavy intensity rain', 'light intensity drizzle', 'light intensity shower rain', 'light rain', 'moderate rain', 'proximity shower rain', 'shower drizzle', 'very heavy rain']\n",
        "                                                                          else 'cloudy' if x.__contains__('cloud')\n",
        "                                                                          else 'snow' if x.__contains__('snow') or x=='sleet'\n",
        "                                                                          else 'thunderstorm' if x.__contains__('thunderstorm') or x=='squalls'\n",
        "                                                                          else 'sky is clear' if x=='smoke'\n",
        "                                                                          else x)"
      ],
      "metadata": {
        "id": "jocNHWJQBbGq"
      },
      "execution_count": 1789,
      "outputs": []
    },
    {
      "cell_type": "code",
      "source": [
        "print(traffic_df.groupby('weather_description').aggregate({'temp':[np.mean,np.size],'rain_1h':np.mean, 'snow_1h':np.mean, 'clouds_all':np.mean, 'traffic_volume':np.mean}))"
      ],
      "metadata": {
        "colab": {
          "base_uri": "https://localhost:8080/"
        },
        "id": "NAj1pgwRELmS",
        "outputId": "a698cdc6-6a7e-4f3a-cde5-7a7c20fef75c"
      },
      "execution_count": 1790,
      "outputs": [
        {
          "output_type": "stream",
          "name": "stdout",
          "text": [
            "                           temp          rain_1h   snow_1h clouds_all  \\\n",
            "                           mean   size      mean      mean       mean   \n",
            "weather_description                                                     \n",
            "cloudy               281.466101  15164  0.000000  0.000000  64.056120   \n",
            "fog                  279.415713    912  0.087007  0.000625  51.497807   \n",
            "haze                 275.818581   1360  0.046868  0.000000  58.670588   \n",
            "mist                 279.476892   5950  0.238336  0.000728  65.956303   \n",
            "rain                 286.201958   7490  0.439733  0.000142  74.962750   \n",
            "sky is clear         281.714107  13401  0.000787  0.000000   1.625177   \n",
            "snow                 267.955188   2876  0.025223  0.001655  81.465229   \n",
            "thunderstorm         292.715164   1038  1.198083  0.000000  68.544316   \n",
            "\n",
            "                    traffic_volume  \n",
            "                              mean  \n",
            "weather_description                 \n",
            "cloudy                 3618.449749  \n",
            "fog                    2703.720395  \n",
            "haze                   3502.101471  \n",
            "mist                   2932.956639  \n",
            "rain                   3311.204539  \n",
            "sky is clear           3057.476755  \n",
            "snow                   3016.844228  \n",
            "thunderstorm           2997.999037  \n"
          ]
        }
      ]
    },
    {
      "cell_type": "markdown",
      "source": [
        "Binary Encode weather_description"
      ],
      "metadata": {
        "id": "Ua5oyiqfIEL4"
      }
    },
    {
      "cell_type": "code",
      "source": [
        "# Duplicate weather_description colume for future EDA\n",
        "traffic_df['weather_description_']=traffic_df['weather_description']"
      ],
      "metadata": {
        "id": "fBnWWCHEQ6VZ"
      },
      "execution_count": 1791,
      "outputs": []
    },
    {
      "cell_type": "code",
      "source": [
        "traffic_df=encoder.fit_transform(traffic_df)"
      ],
      "metadata": {
        "id": "m9BZz-whNHF0"
      },
      "execution_count": 1792,
      "outputs": []
    },
    {
      "cell_type": "code",
      "source": [
        "print(traffic_df.tail(10))"
      ],
      "metadata": {
        "colab": {
          "base_uri": "https://localhost:8080/"
        },
        "id": "9lWry3xlQTc7",
        "outputId": "09722392-6ee7-45cc-d16d-234b4ad790d7"
      },
      "execution_count": 1793,
      "outputs": [
        {
          "output_type": "stream",
          "name": "stdout",
          "text": [
            "      holiday    temp  rain_1h  snow_1h  clouds_all  weather_description_0  \\\n",
            "48194    None  283.84     0.00      0.0          75                      0   \n",
            "48195    None  283.84     0.00      0.0          75                      0   \n",
            "48196    None  284.38     0.00      0.0          75                      0   \n",
            "48197    None  284.79     0.00      0.0          75                      0   \n",
            "48198    None  284.20     0.25      0.0          75                      0   \n",
            "48199    None  283.45     0.00      0.0          75                      0   \n",
            "48200    None  282.76     0.00      0.0          90                      0   \n",
            "48201    None  282.73     0.00      0.0          90                      0   \n",
            "48202    None  282.09     0.00      0.0          90                      0   \n",
            "48203    None  282.12     0.00      0.0          90                      0   \n",
            "\n",
            "       weather_description_1  weather_description_2  weather_description_3  \\\n",
            "48194                      0                      1                      1   \n",
            "48195                      0                      1                      1   \n",
            "48196                      0                      1                      1   \n",
            "48197                      0                      0                      1   \n",
            "48198                      0                      1                      1   \n",
            "48199                      0                      0                      1   \n",
            "48200                      0                      0                      1   \n",
            "48201                      1                      1                      1   \n",
            "48202                      0                      0                      1   \n",
            "48203                      0                      0                      1   \n",
            "\n",
            "                 date_time  traffic_volume  rain_1h_bin  snow_1h_bin  \\\n",
            "48194  2018-09-30 15:00:00            4302            0            0   \n",
            "48195  2018-09-30 15:00:00            4302            0            0   \n",
            "48196  2018-09-30 16:00:00            4283            0            0   \n",
            "48197  2018-09-30 17:00:00            4132            0            0   \n",
            "48198  2018-09-30 18:00:00            3947            1            0   \n",
            "48199  2018-09-30 19:00:00            3543            0            0   \n",
            "48200  2018-09-30 20:00:00            2781            0            0   \n",
            "48201  2018-09-30 21:00:00            2159            0            0   \n",
            "48202  2018-09-30 22:00:00            1450            0            0   \n",
            "48203  2018-09-30 23:00:00             954            0            0   \n",
            "\n",
            "      weather_description_  \n",
            "48194                 rain  \n",
            "48195                 rain  \n",
            "48196                 rain  \n",
            "48197               cloudy  \n",
            "48198                 rain  \n",
            "48199               cloudy  \n",
            "48200               cloudy  \n",
            "48201         thunderstorm  \n",
            "48202               cloudy  \n",
            "48203               cloudy  \n"
          ]
        }
      ]
    },
    {
      "cell_type": "markdown",
      "source": [
        "### DateTime"
      ],
      "metadata": {
        "id": "IuMmiu8czx7A"
      }
    },
    {
      "cell_type": "code",
      "source": [
        "traffic_df.columns"
      ],
      "metadata": {
        "colab": {
          "base_uri": "https://localhost:8080/"
        },
        "id": "s_MAJGWlPbTs",
        "outputId": "0df59746-324f-4463-d9f0-e5e0b3d6fb83"
      },
      "execution_count": 1794,
      "outputs": [
        {
          "output_type": "execute_result",
          "data": {
            "text/plain": [
              "Index(['holiday', 'temp', 'rain_1h', 'snow_1h', 'clouds_all',\n",
              "       'weather_description_0', 'weather_description_1',\n",
              "       'weather_description_2', 'weather_description_3', 'date_time',\n",
              "       'traffic_volume', 'rain_1h_bin', 'snow_1h_bin', 'weather_description_'],\n",
              "      dtype='object')"
            ]
          },
          "metadata": {},
          "execution_count": 1794
        }
      ]
    },
    {
      "cell_type": "markdown",
      "source": [
        "Criteria for Pandas Skew Function\n",
        "\n",
        "* If the skewness is between -0.5 and 0.5, the data are fairly symmetrical\n",
        "* If the skewness is between -1 and — 0.5 or between 0.5 and 1, the data are moderately skewed\n",
        "* If the skewness is less than -1 or greater than 1, the data are highly skewed"
      ],
      "metadata": {
        "id": "i_RIM8-VyqZt"
      }
    },
    {
      "cell_type": "markdown",
      "source": [
        "### traffic_volume"
      ],
      "metadata": {
        "id": "EX5zEfUNwLyA"
      }
    },
    {
      "cell_type": "code",
      "source": [
        "# Stats about each numeric feature\n",
        "print(traffic_df['traffic_volume'].describe())"
      ],
      "metadata": {
        "colab": {
          "base_uri": "https://localhost:8080/"
        },
        "id": "AF3vBXmcwkva",
        "outputId": "936f6556-595b-478a-f826-427b4872c5a2"
      },
      "execution_count": 1795,
      "outputs": [
        {
          "output_type": "stream",
          "name": "stdout",
          "text": [
            "count    48191.000000\n",
            "mean      3260.203150\n",
            "std       1986.737523\n",
            "min          0.000000\n",
            "25%       1194.000000\n",
            "50%       3380.000000\n",
            "75%       4933.000000\n",
            "max       7280.000000\n",
            "Name: traffic_volume, dtype: float64\n"
          ]
        }
      ]
    },
    {
      "cell_type": "code",
      "source": [
        "# Histogram\n",
        "plt.hist(traffic_df['traffic_volume'], bins=30)\n",
        "\n",
        "# Labels\n",
        "plt.xlabel('Number of Cars')\n",
        "plt.ylabel('Instances')\n",
        "plt.title('traffic_volume Histogram')\n",
        "\n",
        "# Manipulate figure size\n",
        "plt.figure(figsize=(10,6))\n",
        "\n",
        "# Show plot\n",
        "plt.show()"
      ],
      "metadata": {
        "colab": {
          "base_uri": "https://localhost:8080/",
          "height": 489
        },
        "id": "wyt-EnwuwzMo",
        "outputId": "7d693506-200f-4554-cc59-f188a623395f"
      },
      "execution_count": 1796,
      "outputs": [
        {
          "output_type": "display_data",
          "data": {
            "text/plain": [
              "<Figure size 640x480 with 1 Axes>"
            ],
            "image/png": "[encoded data removed]"
          },
          "metadata": {}
        },
        {
          "output_type": "display_data",
          "data": {
            "text/plain": [
              "<Figure size 1000x600 with 0 Axes>"
            ]
          },
          "metadata": {}
        }
      ]
    },
    {
      "cell_type": "code",
      "source": [
        "# Testing skew\n",
        "print(pd.DataFrame(traffic_df['traffic_volume']).skew(axis=0, numeric_only='True'))"
      ],
      "metadata": {
        "colab": {
          "base_uri": "https://localhost:8080/"
        },
        "id": "0QZ3UZR5xpwe",
        "outputId": "af60b95d-94e5-4a42-adef-070d45e58534"
      },
      "execution_count": 1797,
      "outputs": [
        {
          "output_type": "stream",
          "name": "stdout",
          "text": [
            "traffic_volume   -0.089602\n",
            "dtype: float64\n"
          ]
        }
      ]
    },
    {
      "cell_type": "markdown",
      "source": [
        "Data has no significant skew"
      ],
      "metadata": {
        "id": "fyTsg2jlyi1n"
      }
    },
    {
      "cell_type": "markdown",
      "source": [
        "### temp"
      ],
      "metadata": {
        "id": "RsnRGu9zwMQI"
      }
    },
    {
      "cell_type": "code",
      "source": [
        "# Stats about each numeric feature\n",
        "print(traffic_df['temp'].describe())"
      ],
      "metadata": {
        "colab": {
          "base_uri": "https://localhost:8080/"
        },
        "id": "tm10H-VCwlS4",
        "outputId": "3af649a6-17be-41df-8e2c-50d6f0a76a9c"
      },
      "execution_count": 1798,
      "outputs": [
        {
          "output_type": "stream",
          "name": "stdout",
          "text": [
            "count    48191.000000\n",
            "mean       281.263322\n",
            "std         12.709405\n",
            "min        243.390000\n",
            "25%        272.180000\n",
            "50%        282.460000\n",
            "75%        291.808000\n",
            "max        310.070000\n",
            "Name: temp, dtype: float64\n"
          ]
        }
      ]
    },
    {
      "cell_type": "code",
      "source": [
        "# Histogram\n",
        "plt.hist(traffic_df['temp'], bins=30)\n",
        "\n",
        "# Labels\n",
        "plt.xlabel('temp (K)')\n",
        "plt.ylabel('Instances')\n",
        "plt.title('temp Histogram')\n",
        "\n",
        "# Manipulate figure size\n",
        "plt.figure(figsize=(10,6))\n",
        "\n",
        "# Show plot\n",
        "plt.show()"
      ],
      "metadata": {
        "colab": {
          "base_uri": "https://localhost:8080/",
          "height": 489
        },
        "id": "sBJLUgz8wz6F",
        "outputId": "03d53662-0130-4630-931c-798f68f911b7"
      },
      "execution_count": 1799,
      "outputs": [
        {
          "output_type": "display_data",
          "data": {
            "text/plain": [
              "<Figure size 640x480 with 1 Axes>"
            ],
            "image/png": "[encoded data removed]"
          },
          "metadata": {}
        },
        {
          "output_type": "display_data",
          "data": {
            "text/plain": [
              "<Figure size 1000x600 with 0 Axes>"
            ]
          },
          "metadata": {}
        }
      ]
    },
    {
      "cell_type": "markdown",
      "source": [
        "There appears to be left-skew in the histogram, I applied exp, cube, and square transformations. Cube transformation performed best."
      ],
      "metadata": {
        "id": "nyn-3FK7107D"
      }
    },
    {
      "cell_type": "code",
      "source": [
        "# Cube Transformation\n",
        "traffic_df['temp']=np.power(traffic_df['temp'], 3)"
      ],
      "metadata": {
        "id": "DpZVYJ1-zlig"
      },
      "execution_count": 1800,
      "outputs": []
    },
    {
      "cell_type": "code",
      "source": [
        "# Stats about each numeric feature\n",
        "print(traffic_df['temp'].describe())"
      ],
      "metadata": {
        "colab": {
          "base_uri": "https://localhost:8080/"
        },
        "id": "2QQ5xL5p2FQe",
        "outputId": "d581e20a-5ded-4cc2-e311-fdb401322e49"
      },
      "execution_count": 1801,
      "outputs": [
        {
          "output_type": "stream",
          "name": "stdout",
          "text": [
            "count    4.819100e+04\n",
            "mean     2.238602e+07\n",
            "std      2.975135e+06\n",
            "min      1.441811e+07\n",
            "25%      2.016363e+07\n",
            "50%      2.253569e+07\n",
            "75%      2.484801e+07\n",
            "max      2.981119e+07\n",
            "Name: temp, dtype: float64\n"
          ]
        }
      ]
    },
    {
      "cell_type": "code",
      "source": [
        "# Histogram\n",
        "plt.hist(traffic_df['temp'], bins=30)\n",
        "\n",
        "# Labels\n",
        "plt.xlabel('temp (K)')\n",
        "plt.ylabel('Instances')\n",
        "plt.title('temp Histogram')\n",
        "\n",
        "# Manipulate figure size\n",
        "plt.figure(figsize=(10,6))\n",
        "\n",
        "# Show plot\n",
        "plt.show()"
      ],
      "metadata": {
        "colab": {
          "base_uri": "https://localhost:8080/",
          "height": 489
        },
        "id": "Xs13N1NJ2Lyj",
        "outputId": "9ab58d9e-cdd3-4912-cde3-1c65e629f495"
      },
      "execution_count": 1802,
      "outputs": [
        {
          "output_type": "display_data",
          "data": {
            "text/plain": [
              "<Figure size 640x480 with 1 Axes>"
            ],
            "image/png": "[encoded data removed]"
          },
          "metadata": {}
        },
        {
          "output_type": "display_data",
          "data": {
            "text/plain": [
              "<Figure size 1000x600 with 0 Axes>"
            ]
          },
          "metadata": {}
        }
      ]
    },
    {
      "cell_type": "code",
      "source": [
        "# Testing skew\n",
        "print(traffic_df['temp'].skew(axis=0, numeric_only='True'))"
      ],
      "metadata": {
        "colab": {
          "base_uri": "https://localhost:8080/"
        },
        "id": "lWrbWSjz2DNI",
        "outputId": "ee17be86-e556-42ee-8ee9-e139be39abb0"
      },
      "execution_count": 1803,
      "outputs": [
        {
          "output_type": "stream",
          "name": "stdout",
          "text": [
            "-0.20316910175989186\n"
          ]
        }
      ]
    },
    {
      "cell_type": "markdown",
      "source": [
        "### clouds_all"
      ],
      "metadata": {
        "id": "JYy6PEVnwMSm"
      }
    },
    {
      "cell_type": "code",
      "source": [
        "# Stats about each numeric feature\n",
        "print(traffic_df['clouds_all'].describe())"
      ],
      "metadata": {
        "colab": {
          "base_uri": "https://localhost:8080/"
        },
        "id": "ZaB-AXuEwlyv",
        "outputId": "8599d730-5f4f-4513-cf19-836f03545ced"
      },
      "execution_count": 1804,
      "outputs": [
        {
          "output_type": "stream",
          "name": "stdout",
          "text": [
            "count    48191.000000\n",
            "mean        49.371003\n",
            "std         39.014076\n",
            "min          0.000000\n",
            "25%          1.000000\n",
            "50%         64.000000\n",
            "75%         90.000000\n",
            "max        100.000000\n",
            "Name: clouds_all, dtype: float64\n"
          ]
        }
      ]
    },
    {
      "cell_type": "code",
      "source": [
        "# Histogram\n",
        "plt.hist(traffic_df['clouds_all'], bins=30)\n",
        "\n",
        "# Labels\n",
        "plt.xlabel('clouds_all')\n",
        "plt.ylabel('Instances')\n",
        "plt.title('clouds_all Histogram')\n",
        "\n",
        "# Manipulate figure size\n",
        "plt.figure(figsize=(10,6))\n",
        "\n",
        "# Show plot\n",
        "plt.show()"
      ],
      "metadata": {
        "colab": {
          "base_uri": "https://localhost:8080/",
          "height": 489
        },
        "id": "gHSSrJflw0Z9",
        "outputId": "eff7eaa8-1ebf-4bce-9cbf-933ea9f3b0bc"
      },
      "execution_count": 1805,
      "outputs": [
        {
          "output_type": "display_data",
          "data": {
            "text/plain": [
              "<Figure size 640x480 with 1 Axes>"
            ],
            "image/png": "[encoded data removed]"
          },
          "metadata": {}
        },
        {
          "output_type": "display_data",
          "data": {
            "text/plain": [
              "<Figure size 1000x600 with 0 Axes>"
            ]
          },
          "metadata": {}
        }
      ]
    },
    {
      "cell_type": "code",
      "source": [
        "# Testing skew\n",
        "print(pd.DataFrame(traffic_df['clouds_all']).skew(axis=0, numeric_only='True'))"
      ],
      "metadata": {
        "colab": {
          "base_uri": "https://localhost:8080/"
        },
        "id": "RPdEW2iWxqzh",
        "outputId": "db9a115d-57a4-479d-8528-f64dabf4a75f"
      },
      "execution_count": 1806,
      "outputs": [
        {
          "output_type": "stream",
          "name": "stdout",
          "text": [
            "clouds_all   -0.197604\n",
            "dtype: float64\n"
          ]
        }
      ]
    },
    {
      "cell_type": "markdown",
      "source": [
        "No significant skew"
      ],
      "metadata": {
        "id": "Owhn482o3IUI"
      }
    },
    {
      "cell_type": "markdown",
      "source": [
        "### rain_1h"
      ],
      "metadata": {
        "id": "a7R12UB8wMVO"
      }
    },
    {
      "cell_type": "code",
      "source": [
        "# Stats about each numeric feature\n",
        "print(traffic_df['rain_1h'].describe())"
      ],
      "metadata": {
        "colab": {
          "base_uri": "https://localhost:8080/"
        },
        "id": "_x9-cI2cwmQz",
        "outputId": "a53f302d-c5a1-472a-80dc-6d6a24a04ee3"
      },
      "execution_count": 1807,
      "outputs": [
        {
          "output_type": "stream",
          "name": "stdout",
          "text": [
            "count    48191.000000\n",
            "mean         0.128270\n",
            "std          0.949912\n",
            "min          0.000000\n",
            "25%          0.000000\n",
            "50%          0.000000\n",
            "75%          0.000000\n",
            "max         31.750000\n",
            "Name: rain_1h, dtype: float64\n"
          ]
        }
      ]
    },
    {
      "cell_type": "code",
      "source": [
        "# Histogram\n",
        "plt.hist(traffic_df['rain_1h'], bins=30)\n",
        "\n",
        "# Labels\n",
        "plt.xlabel('rain_1h')\n",
        "plt.ylabel('Instances')\n",
        "plt.title('rain_1h Histogram')\n",
        "\n",
        "# Manipulate figure size\n",
        "plt.figure(figsize=(10,6))\n",
        "\n",
        "# Show plot\n",
        "plt.show()"
      ],
      "metadata": {
        "colab": {
          "base_uri": "https://localhost:8080/",
          "height": 489
        },
        "id": "kdla29JLw09R",
        "outputId": "e1b56e33-b000-43e2-ca35-a67b6dca430c"
      },
      "execution_count": 1808,
      "outputs": [
        {
          "output_type": "display_data",
          "data": {
            "text/plain": [
              "<Figure size 640x480 with 1 Axes>"
            ],
            "image/png": "[encoded data removed]"
          },
          "metadata": {}
        },
        {
          "output_type": "display_data",
          "data": {
            "text/plain": [
              "<Figure size 1000x600 with 0 Axes>"
            ]
          },
          "metadata": {}
        }
      ]
    },
    {
      "cell_type": "code",
      "source": [
        "# Testing skew\n",
        "print(pd.DataFrame(traffic_df['rain_1h']).skew(axis=0, numeric_only='True'))"
      ],
      "metadata": {
        "colab": {
          "base_uri": "https://localhost:8080/"
        },
        "id": "g2hLeHUcxrTm",
        "outputId": "ecbe3003-89f5-44c3-b251-8664fa2ed283"
      },
      "execution_count": 1809,
      "outputs": [
        {
          "output_type": "stream",
          "name": "stdout",
          "text": [
            "rain_1h    15.096753\n",
            "dtype: float64\n"
          ]
        }
      ]
    },
    {
      "cell_type": "markdown",
      "source": [
        "Significant right skew due to zero-inflation"
      ],
      "metadata": {
        "id": "Kiw8VLeu3SL9"
      }
    },
    {
      "cell_type": "code",
      "source": [
        "# Tranforming rain_1h to Minimize Right Skew\n",
        "traffic_df['rain_1h']=traffic_df['rain_1h'].apply(lambda x: x+1)\n",
        "traffic_df['rain_1h']=np.log(traffic_df['rain_1h'])"
      ],
      "metadata": {
        "id": "46Aj_F-jJvZS"
      },
      "execution_count": 1810,
      "outputs": []
    },
    {
      "cell_type": "code",
      "source": [
        "# Stats about each numeric feature\n",
        "print(traffic_df['rain_1h'].describe())"
      ],
      "metadata": {
        "colab": {
          "base_uri": "https://localhost:8080/"
        },
        "id": "k2DxKaBpLtEy",
        "outputId": "0a47cb1b-408a-4410-c55d-628ca471612c"
      },
      "execution_count": 1811,
      "outputs": [
        {
          "output_type": "stream",
          "name": "stdout",
          "text": [
            "count    48191.000000\n",
            "mean         0.053800\n",
            "std          0.257578\n",
            "min          0.000000\n",
            "25%          0.000000\n",
            "50%          0.000000\n",
            "75%          0.000000\n",
            "max          3.488903\n",
            "Name: rain_1h, dtype: float64\n"
          ]
        }
      ]
    },
    {
      "cell_type": "code",
      "source": [
        "# Histogram\n",
        "plt.hist(traffic_df['rain_1h'], bins=30)\n",
        "\n",
        "# Labels\n",
        "plt.xlabel('rain_1h')\n",
        "plt.ylabel('Instances')\n",
        "plt.title('rain_1h Histogram')\n",
        "\n",
        "# Manipulate figure size\n",
        "plt.figure(figsize=(10,6))\n",
        "\n",
        "# Show plot\n",
        "plt.show()"
      ],
      "metadata": {
        "colab": {
          "base_uri": "https://localhost:8080/",
          "height": 489
        },
        "id": "EvWueVMjLvBc",
        "outputId": "9fb3f07c-a496-43ec-d159-50f61e43afff"
      },
      "execution_count": 1812,
      "outputs": [
        {
          "output_type": "display_data",
          "data": {
            "text/plain": [
              "<Figure size 640x480 with 1 Axes>"
            ],
            "image/png": "[encoded data removed]"
          },
          "metadata": {}
        },
        {
          "output_type": "display_data",
          "data": {
            "text/plain": [
              "<Figure size 1000x600 with 0 Axes>"
            ]
          },
          "metadata": {}
        }
      ]
    },
    {
      "cell_type": "code",
      "source": [
        "# Testing skew\n",
        "print(pd.DataFrame(traffic_df['rain_1h']).skew(axis=0, numeric_only='True'))"
      ],
      "metadata": {
        "colab": {
          "base_uri": "https://localhost:8080/"
        },
        "id": "x9X4C8hnLxS0",
        "outputId": "77ecb5a8-1df8-427b-f431-959599ebe945"
      },
      "execution_count": 1813,
      "outputs": [
        {
          "output_type": "stream",
          "name": "stdout",
          "text": [
            "rain_1h    6.552472\n",
            "dtype: float64\n"
          ]
        }
      ]
    },
    {
      "cell_type": "markdown",
      "source": [
        "Improved"
      ],
      "metadata": {
        "id": "LroDavgkL8KH"
      }
    },
    {
      "cell_type": "markdown",
      "source": [
        "### snow_1h"
      ],
      "metadata": {
        "id": "jX3TXq10wMXy"
      }
    },
    {
      "cell_type": "code",
      "source": [
        "# Stats about each numeric feature\n",
        "print(traffic_df['snow_1h'].describe())"
      ],
      "metadata": {
        "colab": {
          "base_uri": "https://localhost:8080/"
        },
        "id": "NrxbNn--wm05",
        "outputId": "32991bf4-1138-4bd9-cee5-c5bbfc64c091"
      },
      "execution_count": 1814,
      "outputs": [
        {
          "output_type": "stream",
          "name": "stdout",
          "text": [
            "count    48191.000000\n",
            "mean         0.000222\n",
            "std          0.008169\n",
            "min          0.000000\n",
            "25%          0.000000\n",
            "50%          0.000000\n",
            "75%          0.000000\n",
            "max          0.510000\n",
            "Name: snow_1h, dtype: float64\n"
          ]
        }
      ]
    },
    {
      "cell_type": "code",
      "source": [
        "# Histogram\n",
        "plt.hist(traffic_df['snow_1h'], bins=30)\n",
        "\n",
        "# Labels\n",
        "plt.xlabel('snow_1h')\n",
        "plt.ylabel('Instances')\n",
        "plt.title('snow_1h Histogram')\n",
        "\n",
        "# Manipulate figure size\n",
        "plt.figure(figsize=(10,6))\n",
        "\n",
        "# Show plot\n",
        "plt.show()"
      ],
      "metadata": {
        "colab": {
          "base_uri": "https://localhost:8080/",
          "height": 489
        },
        "id": "sfHk39Vkw1dZ",
        "outputId": "31ceae79-6a6b-47ac-c650-0dd775220c8e"
      },
      "execution_count": 1815,
      "outputs": [
        {
          "output_type": "display_data",
          "data": {
            "text/plain": [
              "<Figure size 640x480 with 1 Axes>"
            ],
            "image/png": "[encoded data removed]"
          },
          "metadata": {}
        },
        {
          "output_type": "display_data",
          "data": {
            "text/plain": [
              "<Figure size 1000x600 with 0 Axes>"
            ]
          },
          "metadata": {}
        }
      ]
    },
    {
      "cell_type": "code",
      "source": [
        "# Testing skew\n",
        "print(pd.DataFrame(traffic_df['snow_1h']).skew(axis=0, numeric_only='True'))"
      ],
      "metadata": {
        "colab": {
          "base_uri": "https://localhost:8080/"
        },
        "id": "EGCpVG6fxrx6",
        "outputId": "eac2c9a2-8adf-4c38-f6c8-c64d238b6955"
      },
      "execution_count": 1816,
      "outputs": [
        {
          "output_type": "stream",
          "name": "stdout",
          "text": [
            "snow_1h    48.360955\n",
            "dtype: float64\n"
          ]
        }
      ]
    },
    {
      "cell_type": "markdown",
      "source": [
        "Significant right skew due to zero-inflation"
      ],
      "metadata": {
        "id": "xEcnaxvbwMaY"
      }
    },
    {
      "cell_type": "code",
      "source": [
        "# Tranforming to Minimize Right Skew\n",
        "traffic_df['snow_1h']=traffic_df['snow_1h'].apply(lambda x: x+1)\n",
        "traffic_df['snow_1h']=np.log(traffic_df['snow_1h'])"
      ],
      "metadata": {
        "id": "vQU8mm1VK7jM"
      },
      "execution_count": 1817,
      "outputs": []
    },
    {
      "cell_type": "code",
      "source": [
        "# Stats about each numeric feature\n",
        "print(traffic_df['snow_1h'].describe())"
      ],
      "metadata": {
        "colab": {
          "base_uri": "https://localhost:8080/"
        },
        "id": "2jwXyBViLzgn",
        "outputId": "dadf5a53-0edc-41fc-ee17-aa4cbf34c047"
      },
      "execution_count": 1818,
      "outputs": [
        {
          "output_type": "stream",
          "name": "stdout",
          "text": [
            "count    48191.000000\n",
            "mean         0.000196\n",
            "std          0.006920\n",
            "min          0.000000\n",
            "25%          0.000000\n",
            "50%          0.000000\n",
            "75%          0.000000\n",
            "max          0.412110\n",
            "Name: snow_1h, dtype: float64\n"
          ]
        }
      ]
    },
    {
      "cell_type": "code",
      "source": [
        "# Histogram\n",
        "plt.hist(traffic_df['snow_1h'], bins=30)\n",
        "\n",
        "# Labels\n",
        "plt.xlabel('snow_1h')\n",
        "plt.ylabel('Instances')\n",
        "plt.title('snow_1h Histogram')\n",
        "\n",
        "# Manipulate figure size\n",
        "plt.figure(figsize=(10,6))\n",
        "\n",
        "# Show plot\n",
        "plt.show()"
      ],
      "metadata": {
        "colab": {
          "base_uri": "https://localhost:8080/",
          "height": 489
        },
        "id": "RLwlcIv2L1zH",
        "outputId": "61cac2b5-ddc8-4953-d91a-33274e7be5a4"
      },
      "execution_count": 1819,
      "outputs": [
        {
          "output_type": "display_data",
          "data": {
            "text/plain": [
              "<Figure size 640x480 with 1 Axes>"
            ],
            "image/png": "[encoded data removed]"
          },
          "metadata": {}
        },
        {
          "output_type": "display_data",
          "data": {
            "text/plain": [
              "<Figure size 1000x600 with 0 Axes>"
            ]
          },
          "metadata": {}
        }
      ]
    },
    {
      "cell_type": "code",
      "source": [
        "# Testing skew\n",
        "print(pd.DataFrame(traffic_df['snow_1h']).skew(axis=0, numeric_only='True'))"
      ],
      "metadata": {
        "colab": {
          "base_uri": "https://localhost:8080/"
        },
        "id": "OMBBM1ERL5h_",
        "outputId": "28acdda0-367e-4ffc-bfd7-d7b159d01798"
      },
      "execution_count": 1820,
      "outputs": [
        {
          "output_type": "stream",
          "name": "stdout",
          "text": [
            "snow_1h    45.643806\n",
            "dtype: float64\n"
          ]
        }
      ]
    },
    {
      "cell_type": "markdown",
      "source": [
        "Improved"
      ],
      "metadata": {
        "id": "msgYKhT_L6EJ"
      }
    },
    {
      "cell_type": "markdown",
      "source": [
        "#### Normalize Features\n",
        "\n",
        "To make them conform to the same scale and improve the performance of certain models\n",
        "\n",
        "No need to recheck desired aspects of features as they are all preserved when the features are normalized"
      ],
      "metadata": {
        "id": "-R3gD_0zN1y-"
      }
    },
    {
      "cell_type": "code",
      "source": [
        "myColumns=['traffic_volume', 'temp', 'clouds_all', 'rain_1h', 'snow_1h']\n",
        "for column in myColumns:\n",
        "  # Normalizing\n",
        "  traffic_df[column]=(traffic_df[column]-traffic_df[column].min())/(traffic_df[column].max()-traffic_df[column].min())"
      ],
      "metadata": {
        "id": "HoT9PhQQOExx"
      },
      "execution_count": 1821,
      "outputs": []
    },
    {
      "cell_type": "markdown",
      "source": [
        "# Categorical Features"
      ],
      "metadata": {
        "id": "5FVuxcN4OuD5"
      }
    }
  ]
}