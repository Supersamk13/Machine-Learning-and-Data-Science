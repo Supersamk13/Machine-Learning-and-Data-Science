{
  "nbformat": 4,
  "nbformat_minor": 0,
  "metadata": {
    "colab": {
      "provenance": [],
      "authorship_tag": "ABX9TyOMloq8XJ1myi/LxkDSMKo+",
      "include_colab_link": true
    },
    "kernelspec": {
      "name": "python3",
      "display_name": "Python 3"
    },
    "language_info": {
      "name": "python"
    }
  },
  "cells": [
    {
      "cell_type": "markdown",
      "metadata": {
        "id": "view-in-github",
        "colab_type": "text"
      },
      "source": [
        "<a href=\"https://colab.research.google.com/github/Supersamk13/Machine-Learning-and-Data-Science/blob/main/Data_Science_and_Machine_Learning_Project_Interstate_Traffic.ipynb\" target=\"_parent\"><img src=\"https://colab.research.google.com/assets/colab-badge.svg\" alt=\"Open In Colab\"/></a>"
      ]
    },
    {
      "cell_type": "markdown",
      "source": [
        "# Introduction\n",
        "\n",
        "Hello, my name is Samuel Kinstlinger. Over the past couple years I have been working on growing my skillset is the fields of data science and machine learing. This is a project I completed early on in my endeavor to practice data cleaning, data preprocessing, data visualization, and implementing regression models. I will be using a data set from Kaggle that gives information on the weather, date and time, and traffic volume."
      ],
      "metadata": {
        "id": "iz_FyyVeRcAF"
      }
    },
    {
      "cell_type": "markdown",
      "source": [
        "### Goals\n",
        "* Answer important questions about interstate traffic and the underlying related factors\n",
        "* Implement and tune machine learning models to best predict interstate traffic volume"
      ],
      "metadata": {
        "id": "2SIDXVsVSJo-"
      }
    },
    {
      "cell_type": "markdown",
      "source": [
        "### Outline\n",
        "* Getting to Know the Data\n",
        "* EDA\n",
        "* Data Visualization\n",
        "* Data Cleaning and Preprocessing\n",
        "* Machine Learning\n",
        "* Conclusion"
      ],
      "metadata": {
        "id": "gVVQ6lMRTG9e"
      }
    },
    {
      "cell_type": "code",
      "source": [
        "# Import modules\n",
        "import numpy as np\n",
        "import pandas as pd\n",
        "import seaborn as sns\n",
        "import matplotlib.pyplot as plt\n",
        "from scipy import stats\n",
        "%matplotlib inline"
      ],
      "metadata": {
        "id": "vK9cu4zUI04A"
      },
      "execution_count": 1592,
      "outputs": []
    },
    {
      "cell_type": "code",
      "source": [
        "# Set up data frame\n",
        "url='https://github.com/Supersamk13/Machine-Learning-and-Data-Science/raw/main/Metro_Interstate_Traffic_Volume%5B1%5D.csv'\n",
        "traffic_df=pd.read_csv(url)"
      ],
      "metadata": {
        "id": "rWfVobREQdvQ"
      },
      "execution_count": 1593,
      "outputs": []
    },
    {
      "cell_type": "markdown",
      "source": [
        "# Getting to Know the Data\n",
        "* Understanding feature data types and information"
      ],
      "metadata": {
        "id": "eVmpwKKuUQNO"
      }
    },
    {
      "cell_type": "code",
      "source": [
        "# Getting to Know the Data\n",
        "print(traffic_df.head())\n",
        "print(traffic_df.tail())"
      ],
      "metadata": {
        "colab": {
          "base_uri": "https://localhost:8080/"
        },
        "id": "LDHveF25Tmh9",
        "outputId": "cc4cb8b1-8b11-4188-e0ee-f04d7eef4b8b"
      },
      "execution_count": 1594,
      "outputs": [
        {
          "output_type": "stream",
          "name": "stdout",
          "text": [
            "  holiday    temp  rain_1h  snow_1h  clouds_all weather_main  \\\n",
            "0    None  288.28      0.0      0.0          40       Clouds   \n",
            "1    None  289.36      0.0      0.0          75       Clouds   \n",
            "2    None  289.58      0.0      0.0          90       Clouds   \n",
            "3    None  290.13      0.0      0.0          90       Clouds   \n",
            "4    None  291.14      0.0      0.0          75       Clouds   \n",
            "\n",
            "  weather_description            date_time  traffic_volume  \n",
            "0    scattered clouds  2012-10-02 09:00:00            5545  \n",
            "1       broken clouds  2012-10-02 10:00:00            4516  \n",
            "2     overcast clouds  2012-10-02 11:00:00            4767  \n",
            "3     overcast clouds  2012-10-02 12:00:00            5026  \n",
            "4       broken clouds  2012-10-02 13:00:00            4918  \n",
            "      holiday    temp  rain_1h  snow_1h  clouds_all  weather_main  \\\n",
            "48199    None  283.45      0.0      0.0          75        Clouds   \n",
            "48200    None  282.76      0.0      0.0          90        Clouds   \n",
            "48201    None  282.73      0.0      0.0          90  Thunderstorm   \n",
            "48202    None  282.09      0.0      0.0          90        Clouds   \n",
            "48203    None  282.12      0.0      0.0          90        Clouds   \n",
            "\n",
            "          weather_description            date_time  traffic_volume  \n",
            "48199           broken clouds  2018-09-30 19:00:00            3543  \n",
            "48200         overcast clouds  2018-09-30 20:00:00            2781  \n",
            "48201  proximity thunderstorm  2018-09-30 21:00:00            2159  \n",
            "48202         overcast clouds  2018-09-30 22:00:00            1450  \n",
            "48203         overcast clouds  2018-09-30 23:00:00             954  \n"
          ]
        }
      ]
    },
    {
      "cell_type": "code",
      "source": [
        "print(traffic_df.info())"
      ],
      "metadata": {
        "colab": {
          "base_uri": "https://localhost:8080/"
        },
        "id": "5oEvlRoETzOk",
        "outputId": "23005ebf-a5bc-4ee2-afed-cc62e80378d7"
      },
      "execution_count": 1595,
      "outputs": [
        {
          "output_type": "stream",
          "name": "stdout",
          "text": [
            "<class 'pandas.core.frame.DataFrame'>\n",
            "RangeIndex: 48204 entries, 0 to 48203\n",
            "Data columns (total 9 columns):\n",
            " #   Column               Non-Null Count  Dtype  \n",
            "---  ------               --------------  -----  \n",
            " 0   holiday              48204 non-null  object \n",
            " 1   temp                 48204 non-null  float64\n",
            " 2   rain_1h              48204 non-null  float64\n",
            " 3   snow_1h              48204 non-null  float64\n",
            " 4   clouds_all           48204 non-null  int64  \n",
            " 5   weather_main         48204 non-null  object \n",
            " 6   weather_description  48204 non-null  object \n",
            " 7   date_time            48204 non-null  object \n",
            " 8   traffic_volume       48204 non-null  int64  \n",
            "dtypes: float64(3), int64(2), object(4)\n",
            "memory usage: 3.3+ MB\n",
            "None\n"
          ]
        }
      ]
    },
    {
      "cell_type": "markdown",
      "source": [
        "* All data is non-null; no need to fill or remove missing values\n",
        "* If there were missing data, I would either remove it if it was negligible or do some KNN imputation to fill it in otherwise (or a superior model)"
      ],
      "metadata": {
        "id": "9aSVn2rOeMDi"
      }
    },
    {
      "cell_type": "code",
      "source": [
        "for index in range(traffic_df.shape[1]):\n",
        "  print(traffic_df.columns[index])\n",
        "  print(traffic_df.iloc[:,index].unique())"
      ],
      "metadata": {
        "colab": {
          "base_uri": "https://localhost:8080/"
        },
        "id": "yuZ43Bp6UAQn",
        "outputId": "9b6dca20-1f55-44e1-e222-897ff12733f6"
      },
      "execution_count": 1596,
      "outputs": [
        {
          "output_type": "stream",
          "name": "stdout",
          "text": [
            "holiday\n",
            "['None' 'Columbus Day' 'Veterans Day' 'Thanksgiving Day' 'Christmas Day'\n",
            " 'New Years Day' 'Washingtons Birthday' 'Memorial Day' 'Independence Day'\n",
            " 'State Fair' 'Labor Day' 'Martin Luther King Jr Day']\n",
            "temp\n",
            "[288.28 289.36 289.58 ... 306.08 304.41 304.9 ]\n",
            "rain_1h\n",
            "[0.0000e+00 2.5000e-01 5.7000e-01 3.8000e-01 3.0000e-01 2.9000e-01\n",
            " 4.4000e-01 3.6000e-01 2.1600e+00 3.3900e+00 8.4000e-01 7.6000e-01\n",
            " 5.1000e-01 6.9000e-01 1.0000e+00 1.2900e+00 1.3400e+00 1.8400e+00\n",
            " 1.7000e+00 4.7000e-01 1.4100e+00 1.4400e+00 7.0000e-01 3.1800e+00\n",
            " 6.1000e-01 6.4000e-01 1.0200e+00 5.4200e+00 8.6400e+00 5.7400e+00\n",
            " 4.9800e+00 3.6500e+00 6.8000e-01 4.6000e-01 4.2000e-01 1.5200e+00\n",
            " 8.9000e-01 1.4000e+00 1.2190e+01 2.2900e+00 7.5400e+00 6.9400e+00\n",
            " 1.6380e+01 1.7800e+00 2.5400e+00 9.1400e+00 3.0500e+00 1.6500e+00\n",
            " 4.4450e+01 3.8100e+00 5.8400e+00 3.5600e+00 7.3700e+00 1.3500e+00\n",
            " 1.6000e+01 1.0540e+01 1.2700e+00 5.0800e+00 1.9900e+01 2.5320e+01\n",
            " 2.1420e+01 5.5900e+00 7.1100e+00 5.9700e+00 9.5300e+00 2.0300e+00\n",
            " 5.5630e+01 1.3210e+01 6.6000e+00 5.6000e-01 3.2000e-01 2.3700e+00\n",
            " 3.9800e+00 4.3200e+00 1.9600e+00 1.6800e+00 4.3900e+00 4.2700e+00\n",
            " 1.6600e+00 3.4000e-01 3.5000e-01 1.3900e+00 1.8000e+00 9.1000e-01\n",
            " 1.2100e+00 1.1300e+00 1.0900e+00 5.3000e-01 9.7000e-01 8.5000e-01\n",
            " 1.8800e+01 2.8700e+01 1.4730e+01 4.1000e-01 7.9000e-01 1.0600e+00\n",
            " 9.5000e-01 1.0700e+00 3.7000e-01 8.3000e-01 7.2000e-01 6.7000e-01\n",
            " 1.9100e+00 5.4000e-01 4.8000e-01 4.0000e-01 3.1000e-01 2.8000e-01\n",
            " 2.6000e-01 9.4000e-01 2.0500e+00 1.8700e+00 1.1400e+00 5.9000e-01\n",
            " 5.2000e-01 7.1000e-01 5.8000e-01 6.0000e-01 2.7000e-01 3.3000e-01\n",
            " 1.1100e+00 2.1300e+00 2.1000e+00 1.6300e+00 1.3800e+00 9.6000e-01\n",
            " 8.1000e-01 1.0800e+00 1.7100e+00 2.3500e+00 1.8600e+00 2.1100e+00\n",
            " 2.8600e+00 2.5300e+00 2.8500e+00 2.2100e+00 1.3000e+00 9.2000e-01\n",
            " 1.2000e+00 8.0000e-01 7.8000e-01 8.8000e-01 6.6000e-01 6.2000e-01\n",
            " 9.0000e-01 4.3000e-01 1.1200e+00 1.4600e+00 1.2200e+00 1.0500e+00\n",
            " 2.2200e+00 6.5000e-01 2.3100e+00 3.1700e+00 2.1400e+00 2.3400e+00\n",
            " 1.6100e+00 1.5000e+00 2.6700e+00 5.5800e+00 5.1100e+00 5.1000e+00\n",
            " 4.5300e+00 1.2500e+00 4.5000e+00 3.4700e+00 5.5000e-01 4.5000e-01\n",
            " 2.1800e+00 1.3200e+00 2.8400e+00 3.4100e+00 2.9300e+00 2.8700e+00\n",
            " 2.8000e+00 7.4000e-01 6.3500e+00 4.2900e+00 1.2400e+00 8.7000e-01\n",
            " 7.3900e+00 3.1900e+00 1.8300e+00 2.7900e+00 9.8000e-01 5.0000e-01\n",
            " 7.7000e-01 2.9800e+00 4.7600e+00 4.8900e+00 9.3000e-01 1.2800e+00\n",
            " 4.4500e+00 5.2700e+00 1.1580e+01 7.0200e+00 3.0800e+00 1.9800e+00\n",
            " 1.4700e+00 1.0400e+00 1.3300e+00 4.6600e+00 2.0800e+00 2.2000e+00\n",
            " 3.1200e+00 1.5300e+00 1.8500e+00 3.2500e+00 1.9000e+00 1.2450e+01\n",
            " 2.4100e+00 1.3700e+00 5.4600e+00 2.7800e+00 1.3100e+00 3.4400e+00\n",
            " 2.7500e+00 2.1900e+00 1.5500e+00 1.5900e+00 5.7300e+00 5.9300e+00\n",
            " 6.8900e+00 3.9100e+00 1.8030e+01 4.4300e+00 3.9000e+00 6.4500e+00\n",
            " 5.0200e+00 4.0900e+00 1.7600e+00 1.1900e+00 2.7000e+00 7.7700e+00\n",
            " 4.2100e+00 1.8800e+00 1.7200e+00 1.1000e+00 3.0100e+00 2.1200e+00\n",
            " 8.4000e+00 4.8000e+00 9.9000e+00 6.1000e+00 4.1800e+00 8.6000e-01\n",
            " 1.4900e+00 8.8900e+00 7.3000e-01 1.1590e+01 2.3300e+00 9.4000e+00\n",
            " 3.2000e+00 7.9700e+00 2.3800e+01 1.1780e+01 7.5100e+00 1.5410e+01\n",
            " 3.1300e+00 2.1500e+00 4.5700e+00 9.9100e+00 2.7570e+01 7.2900e+00\n",
            " 1.1500e+00 1.3640e+01 7.2500e+00 5.2500e+00 2.9100e+00 8.0200e+00\n",
            " 2.0240e+01 1.3320e+01 5.5200e+00 1.2700e+01 4.3800e+00 1.0300e+00\n",
            " 3.5400e+00 5.8600e+00 7.8700e+00 6.4700e+00 2.6100e+00 1.6700e+00\n",
            " 1.5600e+00 8.0400e+00 2.5460e+01 3.0900e+00 1.9300e+00 1.5100e+00\n",
            " 3.7400e+00 7.7200e+00 4.6400e+00 2.4900e+00 5.0400e+00 5.9200e+00\n",
            " 5.3600e+00 2.3800e+00 6.3000e-01 3.2800e+00 4.0400e+00 2.6200e+00\n",
            " 3.3000e+00 3.8600e+00 5.6900e+00 2.0600e+00 1.0670e+01 6.0100e+00\n",
            " 2.4000e+00 1.6000e+00 4.0600e+00 5.2100e+00 4.7000e+00 2.9600e+00\n",
            " 1.6900e+00 1.0920e+01 2.6800e+00 1.0050e+01 7.7000e+00 4.0500e+00\n",
            " 3.8000e+00 7.6200e+00 6.4800e+00 9.8313e+03 1.1230e+01 9.4200e+00\n",
            " 1.3460e+01 5.8900e+00 1.6510e+01 1.2830e+01 1.8420e+01 5.0600e+00\n",
            " 1.9500e+00 9.0000e+00 3.9400e+00 8.8600e+00 5.9900e+00 8.0000e+00\n",
            " 3.1750e+01 5.4100e+00 2.0070e+01 1.0160e+01 9.1500e+00 2.3900e+00\n",
            " 3.2700e+00 4.1500e+00 4.7400e+00 3.7500e+00 2.8300e+00 1.5750e+01\n",
            " 3.6400e+00 7.1300e+00 1.1600e+00 7.0500e+00 2.7300e+00 4.0000e+00\n",
            " 2.7600e+00 2.8800e+00 1.8200e+00 5.6200e+00 3.4000e+00 2.9200e+00\n",
            " 3.1000e+00 2.6000e+00 1.4500e+00 2.2600e+00 3.4500e+00 2.4800e+00\n",
            " 5.1200e+00 1.0100e+00 4.7900e+00 5.1900e+00 9.6200e+00 1.0600e+01]\n",
            "snow_1h\n",
            "[0.   0.51 0.32 0.06 0.05 0.21 0.25 0.44 0.13 0.1  0.17 0.08]\n",
            "clouds_all\n",
            "[ 40  75  90   1  20   0 100  92  99  81  50  72  56  57  93  85  68  87\n",
            "  91  96  48  60   8  38  46  98  86  16   6  59  54  89  78  36  17  58\n",
            "  63  42  25  11  13  83  70  84   3  77  88  67  97  62  32   4   5   2\n",
            "  44  24  76  64  80  12]\n",
            "weather_main\n",
            "['Clouds' 'Clear' 'Rain' 'Drizzle' 'Mist' 'Haze' 'Fog' 'Thunderstorm'\n",
            " 'Snow' 'Squall' 'Smoke']\n",
            "weather_description\n",
            "['scattered clouds' 'broken clouds' 'overcast clouds' 'sky is clear'\n",
            " 'few clouds' 'light rain' 'light intensity drizzle' 'mist' 'haze' 'fog'\n",
            " 'proximity shower rain' 'drizzle' 'moderate rain' 'heavy intensity rain'\n",
            " 'proximity thunderstorm' 'thunderstorm with light rain'\n",
            " 'proximity thunderstorm with rain' 'heavy snow' 'heavy intensity drizzle'\n",
            " 'snow' 'thunderstorm with heavy rain' 'freezing rain' 'shower snow'\n",
            " 'light rain and snow' 'light intensity shower rain' 'SQUALLS'\n",
            " 'thunderstorm with rain' 'proximity thunderstorm with drizzle'\n",
            " 'thunderstorm' 'Sky is Clear' 'very heavy rain'\n",
            " 'thunderstorm with light drizzle' 'light snow'\n",
            " 'thunderstorm with drizzle' 'smoke' 'shower drizzle' 'light shower snow'\n",
            " 'sleet']\n",
            "date_time\n",
            "['2012-10-02 09:00:00' '2012-10-02 10:00:00' '2012-10-02 11:00:00' ...\n",
            " '2018-09-30 21:00:00' '2018-09-30 22:00:00' '2018-09-30 23:00:00']\n",
            "traffic_volume\n",
            "[5545 4516 4767 ... 6623 1207 2346]\n"
          ]
        }
      ]
    },
    {
      "cell_type": "code",
      "source": [
        "# Stats about each numeric feature\n",
        "print(traffic_df.describe())"
      ],
      "metadata": {
        "colab": {
          "base_uri": "https://localhost:8080/"
        },
        "id": "5PTJ50HGeA31",
        "outputId": "1f68e568-b7fc-4d59-b586-d5e78748efec"
      },
      "execution_count": 1597,
      "outputs": [
        {
          "output_type": "stream",
          "name": "stdout",
          "text": [
            "               temp       rain_1h       snow_1h    clouds_all  traffic_volume\n",
            "count  48204.000000  48204.000000  48204.000000  48204.000000    48204.000000\n",
            "mean     281.205870      0.334264      0.000222     49.362231     3259.818355\n",
            "std       13.338232     44.789133      0.008168     39.015750     1986.860670\n",
            "min        0.000000      0.000000      0.000000      0.000000        0.000000\n",
            "25%      272.160000      0.000000      0.000000      1.000000     1193.000000\n",
            "50%      282.450000      0.000000      0.000000     64.000000     3380.000000\n",
            "75%      291.806000      0.000000      0.000000     90.000000     4933.000000\n",
            "max      310.070000   9831.300000      0.510000    100.000000     7280.000000\n"
          ]
        }
      ]
    },
    {
      "cell_type": "code",
      "source": [
        "# Stats about each categorical feature\n",
        "print(traffic_df.describe(include='object'))"
      ],
      "metadata": {
        "colab": {
          "base_uri": "https://localhost:8080/"
        },
        "id": "b1xvCOrZeYZm",
        "outputId": "2d32f430-fd9b-4ea3-8e3d-ac98779f95c7"
      },
      "execution_count": 1598,
      "outputs": [
        {
          "output_type": "stream",
          "name": "stdout",
          "text": [
            "       holiday weather_main weather_description            date_time\n",
            "count    48204        48204               48204                48204\n",
            "unique      12           11                  38                40575\n",
            "top       None       Clouds        sky is clear  2013-05-19 10:00:00\n",
            "freq     48143        15164               11665                    6\n"
          ]
        }
      ]
    },
    {
      "cell_type": "markdown",
      "source": [
        "* holiday is very imbalanced towards no holiday\n",
        "* holiday and weather_main have a small amount of categories making One-Hot Encoding a viable option for some models (maybe also weather_description)\n",
        "* For date_time, second is most likely unimportant; note to compare model performance including second vs. excluding second\n",
        "* Above comment may also be applicable for minute\n",
        "* date_time may be tricky for parametric models as it requires nuance for analysis\n"
      ],
      "metadata": {
        "id": "jUwPZLu6eqIg"
      }
    },
    {
      "cell_type": "markdown",
      "source": [
        "### Feature Conclusions\n",
        "* holiday- Categorical, US National holidays plus regional holidays\n",
        "* temp- Numeric, Average temp in kelvin\n",
        "* rain_1h- Numeric, Amount in mm of rain that occurred in the hour\n",
        "* snow_1h- Numeric, Amount in mm of snow that occurred in the hour\n",
        "* clouds_all- Numeric, Percentage of cloud cover\n",
        "* weather_main- Categorical, Short textual description of the current weather\n",
        "* weather_description- Categorical, Longer textual description of the current weather\n",
        "* date_time- DateTime, Hour of the data collected in local CST time\n",
        "* traffic_volume- Numeric Hourly I-94 ATR 301 reported westbound traffic volume\n",
        "\n",
        "\n",
        "\n",
        "### Other Data Info\n",
        "* Shape = (48204, 9)\n",
        "* Traffic is westbound\n",
        "* Traffic is between Saint Paul and Minneapolis\n",
        "* Hourly Interstate 94 Westbound traffic volume for MN DoT ATR station 301, roughly midway between Minneapolis and St Paul, MN. Hourly weather features and holidays included for impacts on traffic volume. Collected from 2012-2018."
      ],
      "metadata": {
        "id": "aorc6XXlWekY"
      }
    },
    {
      "cell_type": "markdown",
      "source": [
        "# EDA\n",
        "* What are the best weather indicators of heavy traffic?\n",
        "* During which time of day is traffic the heaviest (hours and day vs. night)?\n",
        "* During which time of the year if traffic the heaviest (months and winter vs. summer)?\n",
        "* Which holidays lead to the most traffic?\n",
        "* How has traffic volume changed over the years?\n",
        "* Which day(s) of the week have the most and least traffic?"
      ],
      "metadata": {
        "id": "mpR2Ozv9ZT8-"
      }
    },
    {
      "cell_type": "markdown",
      "source": [
        "# Data Visualization and Pre-Processing"
      ],
      "metadata": {
        "id": "-So7BPSLay-7"
      }
    },
    {
      "cell_type": "markdown",
      "source": [
        "# Numerical Data"
      ],
      "metadata": {
        "id": "NQ1BoMlrrNxc"
      }
    },
    {
      "cell_type": "markdown",
      "source": [
        "* Visualize numeric data\n",
        "* Describe each data statistically\n",
        "* Eliminate outliers (use boxplot and pandas statistical describe function as metrics)\n",
        "* Eliminate skew in numerical features and target (use histogram, pandas statistical describe function, and pandas skew function as metrics)\n",
        "* Finally normalize each numerical feature"
      ],
      "metadata": {
        "id": "WFM1Xh9ohFfg"
      }
    },
    {
      "cell_type": "markdown",
      "source": [
        "I am making each data visualization plot to help me in data preprocessing and feature engineering. I would make them significantly more user-friendly and communication-oriented if they were meant to be presented or shown to those who are not very familiar with the data."
      ],
      "metadata": {
        "id": "d0rp3WqxxN5t"
      }
    },
    {
      "cell_type": "markdown",
      "source": [
        "* rain_1h, snow_1h are both heavily skewed features\n",
        "* temp is a moderately skewed feature\n",
        "* I will attempt to rectify all of them\n",
        "* the skew for temp is fundementally different that for rain_1h and snow_1h\n",
        "* rain_1h and snow_1h are both nonnegative, continuous variables that are right skewed and are highly concentrated/clumped at 0"
      ],
      "metadata": {
        "id": "pkfBPegofowD"
      }
    },
    {
      "cell_type": "markdown",
      "source": [
        "## Remove Outliers\n",
        "\n",
        "* Outliers appear to be heavily skewing the feature data\n",
        "* Due to there being a small amount of outliers and large amount of data, removing the outliers is a viable choice"
      ],
      "metadata": {
        "id": "uqNOHt93qiXt"
      }
    },
    {
      "cell_type": "markdown",
      "source": [
        "### traffic_volume"
      ],
      "metadata": {
        "id": "8M6-G_PEqm50"
      }
    },
    {
      "cell_type": "code",
      "source": [
        "# Boxplot\n",
        "plt.boxplot(traffic_df['traffic_volume'])\n",
        "\n",
        "# Add labels\n",
        "plt.title('Boxplot of traffic_volume')\n",
        "plt.ylabel('traffic_volume')\n",
        "\n",
        "plt.show()"
      ],
      "metadata": {
        "colab": {
          "base_uri": "https://localhost:8080/",
          "height": 452
        },
        "id": "RVUcya9Tq8RU",
        "outputId": "59b6c454-6670-4978-eee8-4c322580ebd2"
      },
      "execution_count": 1599,
      "outputs": [
        {
          "output_type": "display_data",
          "data": {
            "text/plain": [
              "<Figure size 640x480 with 1 Axes>"
            ],
            "image/png": "[encoded data removed]"
          },
          "metadata": {}
        }
      ]
    },
    {
      "cell_type": "code",
      "source": [
        "# Stats about each numeric feature\n",
        "print(traffic_df['traffic_volume'].describe())"
      ],
      "metadata": {
        "colab": {
          "base_uri": "https://localhost:8080/"
        },
        "id": "7b2UxylDrWgU",
        "outputId": "06b9f63a-8a23-46fa-8194-621f6f1ea206"
      },
      "execution_count": 1600,
      "outputs": [
        {
          "output_type": "stream",
          "name": "stdout",
          "text": [
            "count    48204.000000\n",
            "mean      3259.818355\n",
            "std       1986.860670\n",
            "min          0.000000\n",
            "25%       1193.000000\n",
            "50%       3380.000000\n",
            "75%       4933.000000\n",
            "max       7280.000000\n",
            "Name: traffic_volume, dtype: float64\n"
          ]
        }
      ]
    },
    {
      "cell_type": "markdown",
      "source": [
        "No apparent outliers"
      ],
      "metadata": {
        "id": "lbWVLGl6sGQR"
      }
    },
    {
      "cell_type": "markdown",
      "source": [
        "### temp"
      ],
      "metadata": {
        "id": "wOeRj8tAqp3z"
      }
    },
    {
      "cell_type": "code",
      "source": [
        "# Boxplot\n",
        "plt.boxplot(traffic_df['temp'])\n",
        "\n",
        "# Add labels\n",
        "plt.title('Boxplot of temp (K)')\n",
        "plt.ylabel('temp (K)')\n",
        "\n",
        "plt.show()"
      ],
      "metadata": {
        "colab": {
          "base_uri": "https://localhost:8080/",
          "height": 452
        },
        "id": "LJVgSHsmrERe",
        "outputId": "cf68b622-1188-434f-81de-7de76e250314"
      },
      "execution_count": 1601,
      "outputs": [
        {
          "output_type": "display_data",
          "data": {
            "text/plain": [
              "<Figure size 640x480 with 1 Axes>"
            ],
            "image/png": "[encoded data removed]"
          },
          "metadata": {}
        }
      ]
    },
    {
      "cell_type": "code",
      "source": [
        "# Stats about each numeric feature\n",
        "print(traffic_df['temp'].describe())"
      ],
      "metadata": {
        "colab": {
          "base_uri": "https://localhost:8080/"
        },
        "id": "HNEX3WQfrXJo",
        "outputId": "c070e30b-a7dc-4a49-c9e2-a02cf8282b99"
      },
      "execution_count": 1602,
      "outputs": [
        {
          "output_type": "stream",
          "name": "stdout",
          "text": [
            "count    48204.000000\n",
            "mean       281.205870\n",
            "std         13.338232\n",
            "min          0.000000\n",
            "25%        272.160000\n",
            "50%        282.450000\n",
            "75%        291.806000\n",
            "max        310.070000\n",
            "Name: temp, dtype: float64\n"
          ]
        }
      ]
    },
    {
      "cell_type": "markdown",
      "source": [
        "Remove outlier at 0 (most likely false entry/mistake)"
      ],
      "metadata": {
        "id": "dI0JUnDjsNzo"
      }
    },
    {
      "cell_type": "code",
      "source": [
        "# Remove outliers\n",
        "traffic_df=traffic_df[np.absolute(stats.zscore(traffic_df['temp']))<3]\n",
        "\n",
        "# Reset index\n",
        "traffic_df=traffic_df.reset_index()"
      ],
      "metadata": {
        "id": "IYQ3O-DGsNJg"
      },
      "execution_count": 1603,
      "outputs": []
    },
    {
      "cell_type": "markdown",
      "source": [
        "Recheck data"
      ],
      "metadata": {
        "id": "5XHu_LAgs_w7"
      }
    },
    {
      "cell_type": "code",
      "source": [
        "# Boxplot\n",
        "plt.boxplot(traffic_df['temp'])\n",
        "\n",
        "# Add labels\n",
        "plt.title('Boxplot of temp (K)')\n",
        "plt.ylabel('temp (K)')\n",
        "\n",
        "plt.show()"
      ],
      "metadata": {
        "colab": {
          "base_uri": "https://localhost:8080/",
          "height": 452
        },
        "id": "4dUpVWlMtBg3",
        "outputId": "5cd4bca4-ae02-4a78-aaca-4e8c9e3c96d0"
      },
      "execution_count": 1604,
      "outputs": [
        {
          "output_type": "display_data",
          "data": {
            "text/plain": [
              "<Figure size 640x480 with 1 Axes>"
            ],
            "image/png": "[encoded data removed]"
          },
          "metadata": {}
        }
      ]
    },
    {
      "cell_type": "code",
      "source": [
        "# Stats about each numeric feature\n",
        "print(traffic_df['temp'].describe())"
      ],
      "metadata": {
        "colab": {
          "base_uri": "https://localhost:8080/"
        },
        "id": "3wB8UnUktDP2",
        "outputId": "3a2566fd-6696-4834-8f66-b7c992cd7221"
      },
      "execution_count": 1605,
      "outputs": [
        {
          "output_type": "stream",
          "name": "stdout",
          "text": [
            "count    48194.000000\n",
            "mean       281.264219\n",
            "std         12.709587\n",
            "min        243.390000\n",
            "25%        272.182500\n",
            "50%        282.460000\n",
            "75%        291.810000\n",
            "max        310.070000\n",
            "Name: temp, dtype: float64\n"
          ]
        }
      ]
    },
    {
      "cell_type": "markdown",
      "source": [
        "No apparent outliers"
      ],
      "metadata": {
        "id": "N2NLGxDDtKPg"
      }
    },
    {
      "cell_type": "markdown",
      "source": [
        "### clouds_all"
      ],
      "metadata": {
        "id": "psjirETOqsaM"
      }
    },
    {
      "cell_type": "code",
      "source": [
        "# Boxplot\n",
        "plt.boxplot(traffic_df['clouds_all'])\n",
        "\n",
        "# Add labels\n",
        "plt.title('Boxplot of clouds_all')\n",
        "plt.ylabel('clouds_all')\n",
        "\n",
        "plt.show()"
      ],
      "metadata": {
        "colab": {
          "base_uri": "https://localhost:8080/",
          "height": 452
        },
        "id": "bzjYFCf-rAiy",
        "outputId": "32965e97-c77f-478e-d55f-9773013e6eb8"
      },
      "execution_count": 1606,
      "outputs": [
        {
          "output_type": "display_data",
          "data": {
            "text/plain": [
              "<Figure size 640x480 with 1 Axes>"
            ],
            "image/png": "[encoded data removed]"
          },
          "metadata": {}
        }
      ]
    },
    {
      "cell_type": "code",
      "source": [
        "# Stats about each numeric feature\n",
        "print(traffic_df['clouds_all'].describe())"
      ],
      "metadata": {
        "colab": {
          "base_uri": "https://localhost:8080/"
        },
        "id": "5B0hT0jTrXp8",
        "outputId": "5d98406f-492d-4a1a-8464-5942596d0baf"
      },
      "execution_count": 1607,
      "outputs": [
        {
          "output_type": "stream",
          "name": "stdout",
          "text": [
            "count    48194.000000\n",
            "mean        49.372474\n",
            "std         39.013317\n",
            "min          0.000000\n",
            "25%          1.000000\n",
            "50%         64.000000\n",
            "75%         90.000000\n",
            "max        100.000000\n",
            "Name: clouds_all, dtype: float64\n"
          ]
        }
      ]
    },
    {
      "cell_type": "markdown",
      "source": [
        "No apparent outliers"
      ],
      "metadata": {
        "id": "g_aepIVWtPBq"
      }
    },
    {
      "cell_type": "markdown",
      "source": [
        "### rain_1h"
      ],
      "metadata": {
        "id": "uSgHwt9Uqvot"
      }
    },
    {
      "cell_type": "code",
      "source": [
        "# Boxplot\n",
        "plt.boxplot(traffic_df['rain_1h'])\n",
        "\n",
        "# Add labels\n",
        "plt.title('Boxplot of rain_1h')\n",
        "plt.ylabel('rain_1h')\n",
        "\n",
        "plt.show()"
      ],
      "metadata": {
        "colab": {
          "base_uri": "https://localhost:8080/",
          "height": 452
        },
        "id": "_fVHhloyrG2i",
        "outputId": "3681762b-182b-48ef-9ffc-bc07978aba76"
      },
      "execution_count": 1608,
      "outputs": [
        {
          "output_type": "display_data",
          "data": {
            "text/plain": [
              "<Figure size 640x480 with 1 Axes>"
            ],
            "image/png": "[encoded data removed]"
          },
          "metadata": {}
        }
      ]
    },
    {
      "cell_type": "code",
      "source": [
        "# Stats about each numeric feature\n",
        "print(traffic_df['rain_1h'].describe())"
      ],
      "metadata": {
        "colab": {
          "base_uri": "https://localhost:8080/"
        },
        "id": "f_zgv1VbrYIp",
        "outputId": "3472b804-59e4-4124-84d8-385bdcd4d657"
      },
      "execution_count": 1609,
      "outputs": [
        {
          "output_type": "stream",
          "name": "stdout",
          "text": [
            "count    48194.000000\n",
            "mean         0.334333\n",
            "std         44.793779\n",
            "min          0.000000\n",
            "25%          0.000000\n",
            "50%          0.000000\n",
            "75%          0.000000\n",
            "max       9831.300000\n",
            "Name: rain_1h, dtype: float64\n"
          ]
        }
      ]
    },
    {
      "cell_type": "markdown",
      "source": [
        "Some apparent outlier"
      ],
      "metadata": {
        "id": "FTLuLisItXG7"
      }
    },
    {
      "cell_type": "code",
      "source": [
        "# Remove outliers\n",
        "traffic_df=traffic_df[np.absolute(stats.zscore(traffic_df['rain_1h']))<.9]\n",
        "\n",
        "# Reset index\n",
        "traffic_df=traffic_df.reset_index()"
      ],
      "metadata": {
        "id": "dghrf1LhtZVv"
      },
      "execution_count": 1610,
      "outputs": []
    },
    {
      "cell_type": "code",
      "source": [
        "# Boxplot\n",
        "plt.boxplot(traffic_df['rain_1h'])\n",
        "\n",
        "# Add labels\n",
        "plt.title('Boxplot of rain_1h')\n",
        "plt.ylabel('rain_1h')\n",
        "\n",
        "plt.show()"
      ],
      "metadata": {
        "colab": {
          "base_uri": "https://localhost:8080/",
          "height": 452
        },
        "id": "f1qEU0Dtuyic",
        "outputId": "b94db8d6-4f1f-44ac-ab47-e15500aea929"
      },
      "execution_count": 1611,
      "outputs": [
        {
          "output_type": "display_data",
          "data": {
            "text/plain": [
              "<Figure size 640x480 with 1 Axes>"
            ],
            "image/png": "[encoded data removed]"
          },
          "metadata": {}
        }
      ]
    },
    {
      "cell_type": "code",
      "source": [
        "# Stats about each numeric feature\n",
        "print(traffic_df['rain_1h'].describe())"
      ],
      "metadata": {
        "colab": {
          "base_uri": "https://localhost:8080/"
        },
        "id": "l09K3pT0u0qE",
        "outputId": "eb2a75ad-a9d2-4d37-e376-89ac9160192e"
      },
      "execution_count": 1612,
      "outputs": [
        {
          "output_type": "stream",
          "name": "stdout",
          "text": [
            "count    48191.000000\n",
            "mean         0.128270\n",
            "std          0.949912\n",
            "min          0.000000\n",
            "25%          0.000000\n",
            "50%          0.000000\n",
            "75%          0.000000\n",
            "max         31.750000\n",
            "Name: rain_1h, dtype: float64\n"
          ]
        }
      ]
    },
    {
      "cell_type": "markdown",
      "source": [
        "Data has no apparent harmful or misleading outliers; deal with zero-inflation later"
      ],
      "metadata": {
        "id": "_BECS3qIvPxV"
      }
    },
    {
      "cell_type": "markdown",
      "source": [
        "### snow_1h"
      ],
      "metadata": {
        "id": "Nz8tvZ5Aqx80"
      }
    },
    {
      "cell_type": "code",
      "source": [
        "# Boxplot\n",
        "plt.boxplot(traffic_df['snow_1h'])\n",
        "\n",
        "# Add labels\n",
        "plt.title('Boxplot of snow_1h')\n",
        "plt.ylabel('snow_1h')\n",
        "\n",
        "plt.show()"
      ],
      "metadata": {
        "colab": {
          "base_uri": "https://localhost:8080/",
          "height": 452
        },
        "id": "SPrsGwEMrKBK",
        "outputId": "3f02ac6c-cdb4-477f-d777-76a6e7bbf9ee"
      },
      "execution_count": 1613,
      "outputs": [
        {
          "output_type": "display_data",
          "data": {
            "text/plain": [
              "<Figure size 640x480 with 1 Axes>"
            ],
            "image/png": "[encoded data removed]"
          },
          "metadata": {}
        }
      ]
    },
    {
      "cell_type": "code",
      "source": [
        "# Stats about each numeric feature\n",
        "print(traffic_df['snow_1h'].describe())"
      ],
      "metadata": {
        "colab": {
          "base_uri": "https://localhost:8080/"
        },
        "id": "_rknNkFhrY1t",
        "outputId": "5c2c92a1-62cc-42ec-e2c6-2fed040ee4db"
      },
      "execution_count": 1614,
      "outputs": [
        {
          "output_type": "stream",
          "name": "stdout",
          "text": [
            "count    48191.000000\n",
            "mean         0.000222\n",
            "std          0.008169\n",
            "min          0.000000\n",
            "25%          0.000000\n",
            "50%          0.000000\n",
            "75%          0.000000\n",
            "max          0.510000\n",
            "Name: snow_1h, dtype: float64\n"
          ]
        }
      ]
    },
    {
      "cell_type": "markdown",
      "source": [
        "Data has no apparent harmful or misleading outliers; deal with zero-inflation later"
      ],
      "metadata": {
        "id": "st9K8eGLwBBm"
      }
    },
    {
      "cell_type": "markdown",
      "source": [
        "## Minimize Skew"
      ],
      "metadata": {
        "id": "qK_411vuwJeB"
      }
    },
    {
      "cell_type": "markdown",
      "source": [
        "Criteria for Pandas Skew Function\n",
        "\n",
        "* If the skewness is between -0.5 and 0.5, the data are fairly symmetrical\n",
        "* If the skewness is between -1 and — 0.5 or between 0.5 and 1, the data are moderately skewed\n",
        "* If the skewness is less than -1 or greater than 1, the data are highly skewed"
      ],
      "metadata": {
        "id": "i_RIM8-VyqZt"
      }
    },
    {
      "cell_type": "markdown",
      "source": [
        "### traffic_volume"
      ],
      "metadata": {
        "id": "EX5zEfUNwLyA"
      }
    },
    {
      "cell_type": "code",
      "source": [
        "# Stats about each numeric feature\n",
        "print(traffic_df['traffic_volume'].describe())"
      ],
      "metadata": {
        "colab": {
          "base_uri": "https://localhost:8080/"
        },
        "id": "AF3vBXmcwkva",
        "outputId": "2f3a0333-ddf9-4771-9b87-3997e22b3026"
      },
      "execution_count": 1615,
      "outputs": [
        {
          "output_type": "stream",
          "name": "stdout",
          "text": [
            "count    48191.000000\n",
            "mean      3260.203150\n",
            "std       1986.737523\n",
            "min          0.000000\n",
            "25%       1194.000000\n",
            "50%       3380.000000\n",
            "75%       4933.000000\n",
            "max       7280.000000\n",
            "Name: traffic_volume, dtype: float64\n"
          ]
        }
      ]
    },
    {
      "cell_type": "code",
      "source": [
        "# Histogram\n",
        "plt.hist(traffic_df['traffic_volume'], bins=30)\n",
        "\n",
        "# Labels\n",
        "plt.xlabel('Number of Cars')\n",
        "plt.ylabel('Instances')\n",
        "plt.title('traffic_volume Histogram')\n",
        "\n",
        "# Manipulate figure size\n",
        "plt.figure(figsize=(10,6))\n",
        "\n",
        "# Show plot\n",
        "plt.show()"
      ],
      "metadata": {
        "colab": {
          "base_uri": "https://localhost:8080/",
          "height": 489
        },
        "id": "wyt-EnwuwzMo",
        "outputId": "1c442274-60c4-4dd7-82b3-c4dad3b1fdfb"
      },
      "execution_count": 1616,
      "outputs": [
        {
          "output_type": "display_data",
          "data": {
            "text/plain": [
              "<Figure size 640x480 with 1 Axes>"
            ],
            "image/png": "[encoded data removed]"
          },
          "metadata": {}
        },
        {
          "output_type": "display_data",
          "data": {
            "text/plain": [
              "<Figure size 1000x600 with 0 Axes>"
            ]
          },
          "metadata": {}
        }
      ]
    },
    {
      "cell_type": "code",
      "source": [
        "# Testing skew\n",
        "print(pd.DataFrame(traffic_df['traffic_volume']).skew(axis=0, numeric_only='True'))"
      ],
      "metadata": {
        "colab": {
          "base_uri": "https://localhost:8080/"
        },
        "id": "0QZ3UZR5xpwe",
        "outputId": "2f94e5a7-07d7-4096-fc4d-688b07218637"
      },
      "execution_count": 1617,
      "outputs": [
        {
          "output_type": "stream",
          "name": "stdout",
          "text": [
            "traffic_volume   -0.089602\n",
            "dtype: float64\n"
          ]
        }
      ]
    },
    {
      "cell_type": "markdown",
      "source": [
        "Data has no significant skew"
      ],
      "metadata": {
        "id": "fyTsg2jlyi1n"
      }
    },
    {
      "cell_type": "markdown",
      "source": [
        "### temp"
      ],
      "metadata": {
        "id": "RsnRGu9zwMQI"
      }
    },
    {
      "cell_type": "code",
      "source": [
        "# Stats about each numeric feature\n",
        "print(traffic_df['temp'].describe())"
      ],
      "metadata": {
        "colab": {
          "base_uri": "https://localhost:8080/"
        },
        "id": "tm10H-VCwlS4",
        "outputId": "0d077847-c228-40d2-d50e-bb06affc36b2"
      },
      "execution_count": 1618,
      "outputs": [
        {
          "output_type": "stream",
          "name": "stdout",
          "text": [
            "count    48191.000000\n",
            "mean       281.263322\n",
            "std         12.709405\n",
            "min        243.390000\n",
            "25%        272.180000\n",
            "50%        282.460000\n",
            "75%        291.808000\n",
            "max        310.070000\n",
            "Name: temp, dtype: float64\n"
          ]
        }
      ]
    },
    {
      "cell_type": "code",
      "source": [
        "# Histogram\n",
        "plt.hist(traffic_df['temp'], bins=30)\n",
        "\n",
        "# Labels\n",
        "plt.xlabel('temp (K)')\n",
        "plt.ylabel('Instances')\n",
        "plt.title('temp Histogram')\n",
        "\n",
        "# Manipulate figure size\n",
        "plt.figure(figsize=(10,6))\n",
        "\n",
        "# Show plot\n",
        "plt.show()"
      ],
      "metadata": {
        "colab": {
          "base_uri": "https://localhost:8080/",
          "height": 489
        },
        "id": "sBJLUgz8wz6F",
        "outputId": "398f0819-3843-4f87-a604-5bbf4c984f8f"
      },
      "execution_count": 1619,
      "outputs": [
        {
          "output_type": "display_data",
          "data": {
            "text/plain": [
              "<Figure size 640x480 with 1 Axes>"
            ],
            "image/png": "[encoded data removed]"
          },
          "metadata": {}
        },
        {
          "output_type": "display_data",
          "data": {
            "text/plain": [
              "<Figure size 1000x600 with 0 Axes>"
            ]
          },
          "metadata": {}
        }
      ]
    },
    {
      "cell_type": "markdown",
      "source": [
        "There appears to be left-skew in the histogram, I applied exp, cube, and square transformations. Cube transformation performed best."
      ],
      "metadata": {
        "id": "nyn-3FK7107D"
      }
    },
    {
      "cell_type": "code",
      "source": [
        "# Cube Transformation\n",
        "traffic_df['temp']=np.power(traffic_df['temp'], 3)"
      ],
      "metadata": {
        "id": "DpZVYJ1-zlig"
      },
      "execution_count": 1620,
      "outputs": []
    },
    {
      "cell_type": "code",
      "source": [
        "# Stats about each numeric feature\n",
        "print(traffic_df['temp'].describe())"
      ],
      "metadata": {
        "colab": {
          "base_uri": "https://localhost:8080/"
        },
        "id": "2QQ5xL5p2FQe",
        "outputId": "de459155-30c1-487d-8a21-09093f32a05b"
      },
      "execution_count": 1621,
      "outputs": [
        {
          "output_type": "stream",
          "name": "stdout",
          "text": [
            "count    4.819100e+04\n",
            "mean     2.238602e+07\n",
            "std      2.975135e+06\n",
            "min      1.441811e+07\n",
            "25%      2.016363e+07\n",
            "50%      2.253569e+07\n",
            "75%      2.484801e+07\n",
            "max      2.981119e+07\n",
            "Name: temp, dtype: float64\n"
          ]
        }
      ]
    },
    {
      "cell_type": "code",
      "source": [
        "# Histogram\n",
        "plt.hist(traffic_df['temp'], bins=30)\n",
        "\n",
        "# Labels\n",
        "plt.xlabel('temp (K)')\n",
        "plt.ylabel('Instances')\n",
        "plt.title('temp Histogram')\n",
        "\n",
        "# Manipulate figure size\n",
        "plt.figure(figsize=(10,6))\n",
        "\n",
        "# Show plot\n",
        "plt.show()"
      ],
      "metadata": {
        "colab": {
          "base_uri": "https://localhost:8080/",
          "height": 489
        },
        "id": "Xs13N1NJ2Lyj",
        "outputId": "1ab3586d-e56b-4862-eb34-8e5d4de4c710"
      },
      "execution_count": 1622,
      "outputs": [
        {
          "output_type": "display_data",
          "data": {
            "text/plain": [
              "<Figure size 640x480 with 1 Axes>"
            ],
            "image/png": "[encoded data removed]"
          },
          "metadata": {}
        },
        {
          "output_type": "display_data",
          "data": {
            "text/plain": [
              "<Figure size 1000x600 with 0 Axes>"
            ]
          },
          "metadata": {}
        }
      ]
    },
    {
      "cell_type": "code",
      "source": [
        "# Testing skew\n",
        "print(traffic_df['temp'].skew(axis=0, numeric_only='True'))"
      ],
      "metadata": {
        "colab": {
          "base_uri": "https://localhost:8080/"
        },
        "id": "lWrbWSjz2DNI",
        "outputId": "f4c90fca-5468-4bab-c762-420c7111f8eb"
      },
      "execution_count": 1623,
      "outputs": [
        {
          "output_type": "stream",
          "name": "stdout",
          "text": [
            "-0.20316910175989186\n"
          ]
        }
      ]
    },
    {
      "cell_type": "markdown",
      "source": [
        "### coulds_all"
      ],
      "metadata": {
        "id": "JYy6PEVnwMSm"
      }
    },
    {
      "cell_type": "code",
      "source": [
        "# Stats about each numeric feature\n",
        "print(traffic_df['clouds_all'].describe())"
      ],
      "metadata": {
        "colab": {
          "base_uri": "https://localhost:8080/"
        },
        "id": "ZaB-AXuEwlyv",
        "outputId": "50e033d5-1d21-4919-e845-dc8e30f41823"
      },
      "execution_count": 1624,
      "outputs": [
        {
          "output_type": "stream",
          "name": "stdout",
          "text": [
            "count    48191.000000\n",
            "mean        49.371003\n",
            "std         39.014076\n",
            "min          0.000000\n",
            "25%          1.000000\n",
            "50%         64.000000\n",
            "75%         90.000000\n",
            "max        100.000000\n",
            "Name: clouds_all, dtype: float64\n"
          ]
        }
      ]
    },
    {
      "cell_type": "code",
      "source": [
        "# Histogram\n",
        "plt.hist(traffic_df['clouds_all'], bins=30)\n",
        "\n",
        "# Labels\n",
        "plt.xlabel('clouds_all')\n",
        "plt.ylabel('Instances')\n",
        "plt.title('clouds_all Histogram')\n",
        "\n",
        "# Manipulate figure size\n",
        "plt.figure(figsize=(10,6))\n",
        "\n",
        "# Show plot\n",
        "plt.show()"
      ],
      "metadata": {
        "colab": {
          "base_uri": "https://localhost:8080/",
          "height": 489
        },
        "id": "gHSSrJflw0Z9",
        "outputId": "c5835335-b244-4756-c0fd-fb92a95e80d1"
      },
      "execution_count": 1625,
      "outputs": [
        {
          "output_type": "display_data",
          "data": {
            "text/plain": [
              "<Figure size 640x480 with 1 Axes>"
            ],
            "image/png": "[encoded data removed]"
          },
          "metadata": {}
        },
        {
          "output_type": "display_data",
          "data": {
            "text/plain": [
              "<Figure size 1000x600 with 0 Axes>"
            ]
          },
          "metadata": {}
        }
      ]
    },
    {
      "cell_type": "code",
      "source": [
        "# Testing skew\n",
        "print(pd.DataFrame(traffic_df['clouds_all']).skew(axis=0, numeric_only='True'))"
      ],
      "metadata": {
        "colab": {
          "base_uri": "https://localhost:8080/"
        },
        "id": "RPdEW2iWxqzh",
        "outputId": "c082c4d8-d6b7-4628-ba0c-d2b4fdbd2286"
      },
      "execution_count": 1626,
      "outputs": [
        {
          "output_type": "stream",
          "name": "stdout",
          "text": [
            "clouds_all   -0.197604\n",
            "dtype: float64\n"
          ]
        }
      ]
    },
    {
      "cell_type": "markdown",
      "source": [
        "No significant skew"
      ],
      "metadata": {
        "id": "Owhn482o3IUI"
      }
    },
    {
      "cell_type": "markdown",
      "source": [
        "I figure that the way I handle both rain_1h and snow_1h will be the same. I have to deal with semicontinuous variables with true zeros. This rules out tobit regression and data transformations. After a long time researching and contemplating different approaches, I have decided to compare my models on two different datasets.\n",
        "\n",
        "Convert the data from nominal to ordinal by discretizing the data\n",
        "\n",
        "I will then attempt to reduce the skew slightly by applying a transformation\n",
        "\n",
        "I could have done a two-part model and separated the data sets. I am still learning how to do that, so this will have to suffice for now."
      ],
      "metadata": {
        "id": "Blw3UMwa4Vbh"
      }
    },
    {
      "cell_type": "markdown",
      "source": [
        "### rain_1h"
      ],
      "metadata": {
        "id": "a7R12UB8wMVO"
      }
    },
    {
      "cell_type": "code",
      "source": [
        "# Stats about each numeric feature\n",
        "print(traffic_df['rain_1h'].describe())"
      ],
      "metadata": {
        "colab": {
          "base_uri": "https://localhost:8080/"
        },
        "id": "_x9-cI2cwmQz",
        "outputId": "b3c07b86-9b50-47fc-b938-cdb53fed9fdd"
      },
      "execution_count": 1627,
      "outputs": [
        {
          "output_type": "stream",
          "name": "stdout",
          "text": [
            "count    48191.000000\n",
            "mean         0.128270\n",
            "std          0.949912\n",
            "min          0.000000\n",
            "25%          0.000000\n",
            "50%          0.000000\n",
            "75%          0.000000\n",
            "max         31.750000\n",
            "Name: rain_1h, dtype: float64\n"
          ]
        }
      ]
    },
    {
      "cell_type": "code",
      "source": [
        "# Histogram\n",
        "plt.hist(traffic_df['rain_1h'], bins=30)\n",
        "\n",
        "# Labels\n",
        "plt.xlabel('rain_1h')\n",
        "plt.ylabel('Instances')\n",
        "plt.title('rain_1h Histogram')\n",
        "\n",
        "# Manipulate figure size\n",
        "plt.figure(figsize=(10,6))\n",
        "\n",
        "# Show plot\n",
        "plt.show()"
      ],
      "metadata": {
        "colab": {
          "base_uri": "https://localhost:8080/",
          "height": 489
        },
        "id": "kdla29JLw09R",
        "outputId": "1d9f0b5e-b803-4061-b6d7-470c044f21ed"
      },
      "execution_count": 1628,
      "outputs": [
        {
          "output_type": "display_data",
          "data": {
            "text/plain": [
              "<Figure size 640x480 with 1 Axes>"
            ],
            "image/png": "[encoded data removed]"
          },
          "metadata": {}
        },
        {
          "output_type": "display_data",
          "data": {
            "text/plain": [
              "<Figure size 1000x600 with 0 Axes>"
            ]
          },
          "metadata": {}
        }
      ]
    },
    {
      "cell_type": "code",
      "source": [
        "# Testing skew\n",
        "print(pd.DataFrame(traffic_df['rain_1h']).skew(axis=0, numeric_only='True'))"
      ],
      "metadata": {
        "colab": {
          "base_uri": "https://localhost:8080/"
        },
        "id": "g2hLeHUcxrTm",
        "outputId": "d9a3cba2-eae0-4293-d30d-c890bc87c062"
      },
      "execution_count": 1629,
      "outputs": [
        {
          "output_type": "stream",
          "name": "stdout",
          "text": [
            "rain_1h    15.096753\n",
            "dtype: float64\n"
          ]
        }
      ]
    },
    {
      "cell_type": "markdown",
      "source": [
        "Significant right skew due to zero-inflation"
      ],
      "metadata": {
        "id": "Kiw8VLeu3SL9"
      }
    },
    {
      "cell_type": "code",
      "source": [
        "# From outside research about rain- 0-->None(0), 0<Light(1)<=2.5, 2.5<Medium(2)<=8, 8<Heavy(3)\n",
        "traffic_df['rain_1h']=traffic_df['rain_1h'].apply(lambda x: 0 if x==0 else 1 if x<=2.5 else 2 if x<=8 else 3)"
      ],
      "metadata": {
        "id": "3-0bPUr8EcMe"
      },
      "execution_count": 1630,
      "outputs": []
    },
    {
      "cell_type": "code",
      "source": [
        "# Tranforming rain_1h to Minimize Right Skew\n",
        "traffic_df['rain_1h']=traffic_df['rain_1h'].apply(lambda x: x+1)\n",
        "traffic_df['rain_1h']=np.log(traffic_df['rain_1h'])"
      ],
      "metadata": {
        "id": "46Aj_F-jJvZS"
      },
      "execution_count": 1631,
      "outputs": []
    },
    {
      "cell_type": "code",
      "source": [
        "# Stats about each numeric feature\n",
        "print(traffic_df['rain_1h'].describe())"
      ],
      "metadata": {
        "colab": {
          "base_uri": "https://localhost:8080/"
        },
        "id": "k2DxKaBpLtEy",
        "outputId": "fe6e45b0-5f85-4f05-b653-8579a42e4ed9"
      },
      "execution_count": 1632,
      "outputs": [
        {
          "output_type": "stream",
          "name": "stdout",
          "text": [
            "count    48191.000000\n",
            "mean         0.056090\n",
            "std          0.207858\n",
            "min          0.000000\n",
            "25%          0.000000\n",
            "50%          0.000000\n",
            "75%          0.000000\n",
            "max          1.386294\n",
            "Name: rain_1h, dtype: float64\n"
          ]
        }
      ]
    },
    {
      "cell_type": "code",
      "source": [
        "# Histogram\n",
        "plt.hist(traffic_df['rain_1h'], bins=30)\n",
        "\n",
        "# Labels\n",
        "plt.xlabel('rain_1h')\n",
        "plt.ylabel('Instances')\n",
        "plt.title('rain_1h Histogram')\n",
        "\n",
        "# Manipulate figure size\n",
        "plt.figure(figsize=(10,6))\n",
        "\n",
        "# Show plot\n",
        "plt.show()"
      ],
      "metadata": {
        "colab": {
          "base_uri": "https://localhost:8080/",
          "height": 489
        },
        "id": "EvWueVMjLvBc",
        "outputId": "9b7a32b3-ca19-49ef-cd64-7a333d273ce5"
      },
      "execution_count": 1633,
      "outputs": [
        {
          "output_type": "display_data",
          "data": {
            "text/plain": [
              "<Figure size 640x480 with 1 Axes>"
            ],
            "image/png": "[encoded data removed]"
          },
          "metadata": {}
        },
        {
          "output_type": "display_data",
          "data": {
            "text/plain": [
              "<Figure size 1000x600 with 0 Axes>"
            ]
          },
          "metadata": {}
        }
      ]
    },
    {
      "cell_type": "code",
      "source": [
        "# Testing skew\n",
        "print(pd.DataFrame(traffic_df['rain_1h']).skew(axis=0, numeric_only='True'))"
      ],
      "metadata": {
        "colab": {
          "base_uri": "https://localhost:8080/"
        },
        "id": "x9X4C8hnLxS0",
        "outputId": "a6e944ba-733e-41e9-81f8-998ad9bdd9ef"
      },
      "execution_count": 1634,
      "outputs": [
        {
          "output_type": "stream",
          "name": "stdout",
          "text": [
            "rain_1h    3.753251\n",
            "dtype: float64\n"
          ]
        }
      ]
    },
    {
      "cell_type": "markdown",
      "source": [
        "Improved"
      ],
      "metadata": {
        "id": "LroDavgkL8KH"
      }
    },
    {
      "cell_type": "markdown",
      "source": [
        "### snow_1h"
      ],
      "metadata": {
        "id": "jX3TXq10wMXy"
      }
    },
    {
      "cell_type": "code",
      "source": [
        "# Stats about each numeric feature\n",
        "print(traffic_df['snow_1h'].describe())"
      ],
      "metadata": {
        "colab": {
          "base_uri": "https://localhost:8080/"
        },
        "id": "NrxbNn--wm05",
        "outputId": "2b819261-36cf-4d46-90f4-b6d2b826513b"
      },
      "execution_count": 1635,
      "outputs": [
        {
          "output_type": "stream",
          "name": "stdout",
          "text": [
            "count    48191.000000\n",
            "mean         0.000222\n",
            "std          0.008169\n",
            "min          0.000000\n",
            "25%          0.000000\n",
            "50%          0.000000\n",
            "75%          0.000000\n",
            "max          0.510000\n",
            "Name: snow_1h, dtype: float64\n"
          ]
        }
      ]
    },
    {
      "cell_type": "code",
      "source": [
        "# Histogram\n",
        "plt.hist(traffic_df['snow_1h'], bins=30)\n",
        "\n",
        "# Labels\n",
        "plt.xlabel('snow_1h')\n",
        "plt.ylabel('Instances')\n",
        "plt.title('snow_1h Histogram')\n",
        "\n",
        "# Manipulate figure size\n",
        "plt.figure(figsize=(10,6))\n",
        "\n",
        "# Show plot\n",
        "plt.show()"
      ],
      "metadata": {
        "colab": {
          "base_uri": "https://localhost:8080/",
          "height": 489
        },
        "id": "sfHk39Vkw1dZ",
        "outputId": "4aaded73-7a7e-49c7-eb52-c7ba3c092997"
      },
      "execution_count": 1636,
      "outputs": [
        {
          "output_type": "display_data",
          "data": {
            "text/plain": [
              "<Figure size 640x480 with 1 Axes>"
            ],
            "image/png": "[encoded data removed]"
          },
          "metadata": {}
        },
        {
          "output_type": "display_data",
          "data": {
            "text/plain": [
              "<Figure size 1000x600 with 0 Axes>"
            ]
          },
          "metadata": {}
        }
      ]
    },
    {
      "cell_type": "code",
      "source": [
        "# Testing skew\n",
        "print(pd.DataFrame(traffic_df['snow_1h']).skew(axis=0, numeric_only='True'))"
      ],
      "metadata": {
        "colab": {
          "base_uri": "https://localhost:8080/"
        },
        "id": "EGCpVG6fxrx6",
        "outputId": "c0476257-a46c-431b-ddf0-ba257cb99557"
      },
      "execution_count": 1637,
      "outputs": [
        {
          "output_type": "stream",
          "name": "stdout",
          "text": [
            "snow_1h    48.360955\n",
            "dtype: float64\n"
          ]
        }
      ]
    },
    {
      "cell_type": "markdown",
      "source": [
        "Significant right skew due to zero-inflation"
      ],
      "metadata": {
        "id": "xEcnaxvbwMaY"
      }
    },
    {
      "cell_type": "code",
      "source": [
        "# From outside research about snow\n",
        "snow_1h=traffic_df['snow_1h']\n",
        "traffic_df['snow_1h']=traffic_df['snow_1h'].apply(lambda x: 0 if x==0 else 1 if x<=.2 else 2)"
      ],
      "metadata": {
        "id": "OVnDg09gHj2c"
      },
      "execution_count": 1638,
      "outputs": []
    },
    {
      "cell_type": "code",
      "source": [
        "# Tranforming to Minimize Right Skew\n",
        "traffic_df['snow_1h']=traffic_df['snow_1h'].apply(lambda x: x+1)\n",
        "traffic_df['snow_1h']=np.log(traffic_df['snow_1h'])"
      ],
      "metadata": {
        "id": "vQU8mm1VK7jM"
      },
      "execution_count": 1639,
      "outputs": []
    },
    {
      "cell_type": "code",
      "source": [
        "# Stats about each numeric feature\n",
        "print(traffic_df['snow_1h'].describe())"
      ],
      "metadata": {
        "colab": {
          "base_uri": "https://localhost:8080/"
        },
        "id": "2jwXyBViLzgn",
        "outputId": "ad516f7c-e163-406f-f5cb-0f5b80cdd198"
      },
      "execution_count": 1640,
      "outputs": [
        {
          "output_type": "stream",
          "name": "stdout",
          "text": [
            "count    48191.000000\n",
            "mean         0.001074\n",
            "std          0.030471\n",
            "min          0.000000\n",
            "25%          0.000000\n",
            "50%          0.000000\n",
            "75%          0.000000\n",
            "max          1.098612\n",
            "Name: snow_1h, dtype: float64\n"
          ]
        }
      ]
    },
    {
      "cell_type": "code",
      "source": [
        "# Histogram\n",
        "plt.hist(traffic_df['snow_1h'], bins=30)\n",
        "\n",
        "# Labels\n",
        "plt.xlabel('snow_1h')\n",
        "plt.ylabel('Instances')\n",
        "plt.title('snow_1h Histogram')\n",
        "\n",
        "# Manipulate figure size\n",
        "plt.figure(figsize=(10,6))\n",
        "\n",
        "# Show plot\n",
        "plt.show()"
      ],
      "metadata": {
        "colab": {
          "base_uri": "https://localhost:8080/",
          "height": 489
        },
        "id": "RLwlcIv2L1zH",
        "outputId": "e9b2e860-bb8c-49ed-b595-05dd615124f0"
      },
      "execution_count": 1641,
      "outputs": [
        {
          "output_type": "display_data",
          "data": {
            "text/plain": [
              "<Figure size 640x480 with 1 Axes>"
            ],
            "image/png": "[encoded data removed]"
          },
          "metadata": {}
        },
        {
          "output_type": "display_data",
          "data": {
            "text/plain": [
              "<Figure size 1000x600 with 0 Axes>"
            ]
          },
          "metadata": {}
        }
      ]
    },
    {
      "cell_type": "code",
      "source": [
        "# Testing skew\n",
        "print(pd.DataFrame(traffic_df['snow_1h']).skew(axis=0, numeric_only='True'))"
      ],
      "metadata": {
        "colab": {
          "base_uri": "https://localhost:8080/"
        },
        "id": "OMBBM1ERL5h_",
        "outputId": "bc2fbe7d-d399-4ab1-8f5c-43f5965ac96e"
      },
      "execution_count": 1642,
      "outputs": [
        {
          "output_type": "stream",
          "name": "stdout",
          "text": [
            "snow_1h    29.850672\n",
            "dtype: float64\n"
          ]
        }
      ]
    },
    {
      "cell_type": "markdown",
      "source": [
        "Improved"
      ],
      "metadata": {
        "id": "msgYKhT_L6EJ"
      }
    },
    {
      "cell_type": "markdown",
      "source": [
        "#### Normalize Features\n",
        "\n",
        "To make them conform to the same scale and improve the performance of certain models\n",
        "\n",
        "No need to recheck desired aspects of features as they are all preserved when the features are normalized"
      ],
      "metadata": {
        "id": "-R3gD_0zN1y-"
      }
    },
    {
      "cell_type": "code",
      "source": [
        "myColumns=['traffic_volume', 'temp', 'clouds_all', 'rain_1h', 'snow_1h']\n",
        "for column in myColumns:\n",
        "  # Normalizing\n",
        "  traffic_df[column]=(traffic_df[column]-traffic_df[column].min())/(traffic_df[column].max()-traffic_df[column].min())"
      ],
      "metadata": {
        "id": "HoT9PhQQOExx"
      },
      "execution_count": 1644,
      "outputs": []
    },
    {
      "cell_type": "markdown",
      "source": [
        "# Categorical Features"
      ],
      "metadata": {
        "id": "5FVuxcN4OuD5"
      }
    }
  ]
}